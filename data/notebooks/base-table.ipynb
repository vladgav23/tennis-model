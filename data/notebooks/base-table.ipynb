{
 "cells": [
  {
   "cell_type": "code",
   "execution_count": 1,
   "id": "initial_id",
   "metadata": {
    "collapsed": true,
    "ExecuteTime": {
     "end_time": "2024-10-14T09:57:05.204838700Z",
     "start_time": "2024-10-14T09:57:02.937578100Z"
    }
   },
   "outputs": [],
   "source": [
    "import duckdb\n",
    "import pandas as pd\n",
    "import re\n",
    "import unidecode\n",
    "import numpy as np\n",
    "from tqdm import tqdm\n",
    "\n",
    "\n",
    "def process_name(name, words_to_reverse, slug=True, first_name_initial=None):\n",
    "    name = name.lower()\n",
    "    name = unidecode.unidecode(name)\n",
    "    name = re.sub('-', ' ', name)\n",
    "    name = re.sub(r'[^a-z\\s]', '', name)\n",
    "\n",
    "    words = name.split()\n",
    "\n",
    "    if words_to_reverse > 0:\n",
    "        if len(words) > words_to_reverse:\n",
    "            words = words[words_to_reverse:] + words[0:words_to_reverse]\n",
    "            if first_name_initial:\n",
    "                words[0] = words[0][0]\n",
    "\n",
    "    if slug:\n",
    "        name = '-'.join(words)\n",
    "    else:\n",
    "        name = ' '.join(words)\n",
    "\n",
    "    return name\n",
    "\n",
    "\n",
    "def calculate_elo(df, k_factor=32, initial_rating=1500):\n",
    "    # Ensure the dataframe is sorted by datetime and then by id\n",
    "    df = df.sort_values(['datetime', 'id']).reset_index(drop=True)\n",
    "\n",
    "    # Initialize player ratings dictionary\n",
    "    player_ratings = {}\n",
    "\n",
    "    # Initialize lists to store ELO history\n",
    "    pre_match_elo = []\n",
    "    post_match_elo = []\n",
    "\n",
    "    # Process matches in pairs\n",
    "    for _, match in tqdm(df.groupby('id')):\n",
    "        if len(match) != 2:\n",
    "            raise ValueError(f\"Match {match['id'].iloc[0]} does not have exactly 2 players\")\n",
    "\n",
    "        player1, player2 = match['index'].values\n",
    "        winner = match.loc[match['winner'] == 1, 'index'].values[0]\n",
    "\n",
    "        # Get current ratings (or initial rating if first match)\n",
    "        rating1 = player_ratings.get(player1, initial_rating)\n",
    "        rating2 = player_ratings.get(player2, initial_rating)\n",
    "\n",
    "        # Store pre-match ratings\n",
    "        pre_match_elo.extend([rating1, rating2])\n",
    "\n",
    "        # Calculate expected scores\n",
    "        expected_score1 = 1 / (1 + 10 ** ((rating2 - rating1) / 400))\n",
    "        expected_score2 = 1 - expected_score1\n",
    "\n",
    "        # Calculate new ratings\n",
    "        if winner == player1:\n",
    "            new_rating1 = rating1 + k_factor * (1 - expected_score1)\n",
    "            new_rating2 = rating2 + k_factor * (0 - expected_score2)\n",
    "        else:\n",
    "            new_rating1 = rating1 + k_factor * (0 - expected_score1)\n",
    "            new_rating2 = rating2 + k_factor * (1 - expected_score2)\n",
    "\n",
    "        # Update player ratings\n",
    "        player_ratings[player1] = new_rating1\n",
    "        player_ratings[player2] = new_rating2\n",
    "\n",
    "        # Store post-match ratings\n",
    "        post_match_elo.extend([new_rating1, new_rating2])\n",
    "\n",
    "    return pre_match_elo, post_match_elo"
   ]
  },
  {
   "cell_type": "code",
   "outputs": [
    {
     "data": {
      "text/plain": "FloatProgress(value=0.0, layout=Layout(width='auto'), style=ProgressStyle(bar_color='black'))",
      "application/vnd.jupyter.widget-view+json": {
       "version_major": 2,
       "version_minor": 0,
       "model_id": "d9f5f9c68a3f4348ab3ed8ea404e881d"
      }
     },
     "metadata": {},
     "output_type": "display_data"
    }
   ],
   "source": [
    "con = duckdb.connect(\"E:/duckdb/tennis.duckdb\", read_only=True)\n",
    "tennis_markets = con.execute(\"\"\"\n",
    "SELECT *\n",
    "\n",
    "FROM competition_mappings c\n",
    "INNER JOIN market_summaries m\n",
    "ON c.market_id = m.market_id\n",
    "\"\"\").df()\n",
    "\n",
    "sofascore_events = con.execute(\"\"\"\n",
    "                               SELECT * \n",
    "                               FROM sofascore_events \n",
    "                               WHERE tournament_category IN ('ATP','WTA','Challenger','ITF Men','ITF Women','WTA 125')\n",
    "                               AND match_status IN ('Ended','Retired', 'Walkover', 'Defaulted', 'Player 2 defaulted, player 1 won')\n",
    "                               AND winnerCode IN (1,2)\n",
    "                               \"\"\").df()\n",
    "\n",
    "match_stats_raw = con.execute(\"\"\"\n",
    "    SELECT match_id, key, home, away\n",
    "    FROM sofascore_match_stats\n",
    "    WHERE period = 'ALL'\n",
    "\"\"\").df()\n",
    "\n",
    "con.close()\n",
    "\n",
    "excluded_selection_names = pd.read_csv('../mappings/excluded_selection_names.csv', header=None)[0].tolist()"
   ],
   "metadata": {
    "collapsed": false,
    "ExecuteTime": {
     "end_time": "2024-10-14T09:57:10.450006500Z",
     "start_time": "2024-10-14T09:57:05.205838400Z"
    }
   },
   "id": "ab984600f5b8fd2b",
   "execution_count": 2
  },
  {
   "cell_type": "code",
   "outputs": [],
   "source": [
    "# Preprocessing\n",
    "# TODO: Functionalise\n",
    "tennis_markets = tennis_markets[~tennis_markets['selection_name'].str.contains(\"/\")]\n",
    "tennis_markets = tennis_markets[~tennis_markets['selection_name'].isin(excluded_selection_names)]\n",
    "tennis_markets['bf_name'] = [process_name(x, 0, False) for x in tennis_markets['selection_name']]\n",
    "tennis_markets['FORMATTED_DATE'] = pd.to_datetime(tennis_markets['FORMATTED_DATE'])\n",
    "betfair_names = tennis_markets[['bf_name']].drop_duplicates()\n",
    "sofascore_events = sofascore_events[~sofascore_events['home_team'].str.contains('/')]\n",
    "sofascore_events = sofascore_events[~sofascore_events['away_team'].str.contains('/')]\n",
    "sofascore_events = sofascore_events[sofascore_events['match_status'] != 'Not started']\n",
    "sofascore_events['event_fetch_date'] = pd.to_datetime(sofascore_events['event_fetch_date'])\n",
    "sofascore_events['home_clean_name'] = [process_name(x, 1, False) for x in sofascore_events['home_team_slug']]\n",
    "sofascore_events['away_clean_name'] = [process_name(x, 1, False) for x in sofascore_events['away_team_slug']]\n",
    "sofascore_events['id'] = sofascore_events['id'].astype(int)\n",
    "sofascore_events.loc[\n",
    "    sofascore_events['match_status'] == 'Player 2 defaulted, player 1 won', 'match_status'] = 'Defaulted'"
   ],
   "metadata": {
    "collapsed": false,
    "ExecuteTime": {
     "end_time": "2024-10-14T09:57:18.107298700Z",
     "start_time": "2024-10-14T09:57:12.160818600Z"
    }
   },
   "id": "fbe9d22b9e269350",
   "execution_count": 3
  },
  {
   "cell_type": "code",
   "outputs": [],
   "source": [
    "sofascore_events['home_winner'] = 0\n",
    "sofascore_events.loc[sofascore_events['winnerCode'] == 1, 'home_winner'] = 1\n",
    "sofascore_events['away_winner'] = 0\n",
    "sofascore_events.loc[sofascore_events['winnerCode'] == 2, 'away_winner'] = 1"
   ],
   "metadata": {
    "collapsed": false,
    "ExecuteTime": {
     "end_time": "2024-10-14T09:57:18.115589600Z",
     "start_time": "2024-10-14T09:57:18.108299200Z"
    }
   },
   "id": "c8ccb8da0c6b4bd1",
   "execution_count": 4
  },
  {
   "cell_type": "code",
   "outputs": [],
   "source": [
    "# Define the mapping dictionary\n",
    "category_mapping = {\n",
    "    'Qualification': ['Qualification', 'Qualification round', 'Qualification round 1',\n",
    "                      'Qualification round 2', 'Qualification Final'],\n",
    "    'Final': ['Final'],\n",
    "    '3rd place': ['Match for 3rd place'],\n",
    "    'Semifinals': ['Semifinals'],\n",
    "    'Quarterfinals': ['Quarterfinals'],\n",
    "    'Middle Stages': ['Round of 32', 'Round of 16', '1/16-finals (R32)', '1/8-finals (R16)'],\n",
    "    'Early Stages': ['Round of 64', 'Round of 128', '1/32-finals (R64)', '1/64-finals (R128)', 'R128']\n",
    "}\n",
    "\n",
    "# Create a flat dictionary for efficient mapping\n",
    "flat_mapping = {round_name: category\n",
    "                for category, rounds in category_mapping.items()\n",
    "                for round_name in rounds}\n",
    "\n",
    "# Apply the categorization efficiently\n",
    "sofascore_events['tournament_round_category'] = sofascore_events['tournament_round'].map(flat_mapping).fillna('Other')"
   ],
   "metadata": {
    "collapsed": false,
    "ExecuteTime": {
     "end_time": "2024-10-14T09:57:18.183562200Z",
     "start_time": "2024-10-14T09:57:18.115589600Z"
    }
   },
   "id": "d4ed05a8b0184546",
   "execution_count": 5
  },
  {
   "cell_type": "code",
   "outputs": [],
   "source": [
    "# These are to be updated to improve coverage / accuracy\n",
    "player_name_mapping = pd.read_csv('../mappings/player_name_mapping.csv')\n",
    "market_match_mapping = pd.read_csv('../mappings/market_match_mapping.csv')\n",
    "market_match_mapping['market_id'] = market_match_mapping['market_id'].astype(str).str.pad(9, fillchar='0', side='right')"
   ],
   "metadata": {
    "collapsed": false,
    "ExecuteTime": {
     "end_time": "2024-10-14T09:57:18.806295Z",
     "start_time": "2024-10-14T09:57:18.184562700Z"
    }
   },
   "id": "d3a3a865ae18b4af",
   "execution_count": 6
  },
  {
   "cell_type": "code",
   "outputs": [],
   "source": [
    "sofascore_columns = ['id', 'groundType', 'tournament_name', 'tournament_category', 'tournament_points',\n",
    "                     'tournament_round_category', 'home_winner', 'away_winner',\n",
    "                     'home_score_period1', 'home_score_period2', 'home_score_period3', 'home_score_period4',\n",
    "                     'home_score_period5',\n",
    "                     'away_score_period1', 'away_score_period2', 'away_score_period3', 'away_score_period4',\n",
    "                     'away_score_period5',\n",
    "                     'datetime', 'home_clean_name', 'away_clean_name', 'match_status']\n",
    "sofascore_events_base = sofascore_events[sofascore_columns].copy()"
   ],
   "metadata": {
    "collapsed": false,
    "ExecuteTime": {
     "end_time": "2024-10-14T09:57:19.102434600Z",
     "start_time": "2024-10-14T09:57:18.807293800Z"
    }
   },
   "id": "622e84759b7926d5",
   "execution_count": 7
  },
  {
   "cell_type": "code",
   "outputs": [],
   "source": [
    "# Define the columns to pivot\n",
    "home_columns = [col for col in sofascore_events_base.columns if col.startswith('home_')]\n",
    "away_columns = [col for col in sofascore_events_base.columns if col.startswith('away_')]\n",
    "common_columns = [col for col in sofascore_events_base.columns if\n",
    "                  not col.startswith('home_') and not col.startswith('away_')]\n",
    "home_df = sofascore_events_base[common_columns + home_columns].copy()\n",
    "home_df['position'] = 'home'\n",
    "home_df.columns = [col.replace('home_', '') if col.startswith('home_') else col for col in home_df.columns]\n",
    "away_df = sofascore_events_base[common_columns + away_columns].copy()\n",
    "away_df['position'] = 'away'\n",
    "away_df.columns = [col.replace('away_', '') if col.startswith('away_') else col for col in away_df.columns]"
   ],
   "metadata": {
    "collapsed": false,
    "ExecuteTime": {
     "end_time": "2024-10-14T09:57:19.391720900Z",
     "start_time": "2024-10-14T09:57:19.102434600Z"
    }
   },
   "id": "bfdb0e3f2b265d93",
   "execution_count": 8
  },
  {
   "cell_type": "code",
   "outputs": [],
   "source": [
    "sofascore_events_base_unpiv = pd.concat([home_df, away_df], ignore_index=True)\n",
    "sofascore_events_base_unpiv = sofascore_events_base_unpiv.sort_values(['id', 'position'])\n",
    "sofascore_events_base_unpiv = sofascore_events_base_unpiv.reset_index(drop=True)\n",
    "sofascore_events_base_unpiv = sofascore_events_base_unpiv.merge(player_name_mapping, left_on='clean_name',\n",
    "                                                                right_on='name', how='left').drop(columns='name')\n",
    "sofascore_events_base_unpiv.loc[sofascore_events_base_unpiv['index'].isna(), 'index'] = -1\n",
    "sofascore_events_base_unpiv['index'] = sofascore_events_base_unpiv['index'].astype(int)"
   ],
   "metadata": {
    "collapsed": false,
    "ExecuteTime": {
     "end_time": "2024-10-14T09:57:20.842017100Z",
     "start_time": "2024-10-14T09:57:19.392721Z"
    }
   },
   "id": "525c207244b9bdd3",
   "execution_count": 9
  },
  {
   "cell_type": "code",
   "outputs": [],
   "source": [
    "# sofascore_events_base_unpiv.query('index == -1')['clean_name'].unique()"
   ],
   "metadata": {
    "collapsed": false,
    "ExecuteTime": {
     "end_time": "2024-10-14T09:57:20.847238900Z",
     "start_time": "2024-10-14T09:57:20.842725300Z"
    }
   },
   "id": "2e798d9132f6d4b9",
   "execution_count": 10
  },
  {
   "cell_type": "code",
   "outputs": [],
   "source": [
    "bf_matched_tennis_markets = tennis_markets.merge(market_match_mapping, on='market_id').query(\"result != 'REMOVED'\")\n",
    "# Start with your provided line\n",
    "summed_volumes = bf_matched_tennis_markets.groupby(['market_id', 'id'])['pp_volume'].sum().reset_index()\n",
    "# Now, select the rows with maximum pp_volume for each market_id\n",
    "max_market_vols = summed_volumes.loc[summed_volumes.groupby('id')['pp_volume'].idxmax()]\n",
    "\n",
    "bf_matched_tennis_markets = bf_matched_tennis_markets.merge(max_market_vols[['market_id', 'id']],\n",
    "                                                            on=['market_id', 'id'])\n",
    "bf_matched_tennis_markets = bf_matched_tennis_markets.merge(player_name_mapping, left_on='bf_name',\n",
    "                                                            right_on='name').drop(columns='name')\n",
    "bf_matched_tennis_markets_base = bf_matched_tennis_markets[\n",
    "    ['index', 'id', 'market_id', 'selection_id', 'result', 'pp_min', 'pp_max', 'pp_wap', 'pp_ltp', 'pp_volume',\n",
    "     'ip_min', 'ip_max', 'ip_wap', 'ip_ltp', 'ip_volume']].copy()"
   ],
   "metadata": {
    "collapsed": false,
    "ExecuteTime": {
     "end_time": "2024-10-14T09:57:22.199499400Z",
     "start_time": "2024-10-14T09:57:20.846239700Z"
    }
   },
   "id": "31d53d05a29004e0",
   "execution_count": 11
  },
  {
   "cell_type": "code",
   "outputs": [],
   "source": [
    "# Melt the dataframe to create separate rows for home and away\n",
    "match_stats = pd.melt(match_stats_raw, id_vars=['match_id', 'key'],\n",
    "                      value_vars=['home', 'away'],\n",
    "                      var_name='team', value_name='value')\n",
    "# Pivot the data\n",
    "match_stats = match_stats.pivot_table(values='value',\n",
    "                                      index=['match_id', 'team'],\n",
    "                                      columns='key', aggfunc='first')\n",
    "\n",
    "# Reset index to make match_id, period, and team regular columns\n",
    "match_stats.reset_index(inplace=True)\n",
    "match_stats['match_id'] = match_stats['match_id'].astype(int)"
   ],
   "metadata": {
    "collapsed": false,
    "ExecuteTime": {
     "end_time": "2024-10-14T09:57:39.750602900Z",
     "start_time": "2024-10-14T09:57:22.201498800Z"
    }
   },
   "id": "9024aad19913c8",
   "execution_count": 12
  },
  {
   "cell_type": "code",
   "outputs": [],
   "source": [
    "base_table = sofascore_events_base_unpiv.merge(bf_matched_tennis_markets_base, on=['index', 'id'], how='left')\n",
    "base_table = base_table.merge(match_stats, left_on=['id', 'position'], right_on=['match_id', 'team'], how='left')\n",
    "base_table.drop(columns=['match_id', 'team'], inplace=True)"
   ],
   "metadata": {
    "collapsed": false,
    "ExecuteTime": {
     "end_time": "2024-10-14T09:57:43.952363900Z",
     "start_time": "2024-10-14T09:57:39.751602900Z"
    }
   },
   "id": "f1a8290f1fc66302",
   "execution_count": 13
  },
  {
   "cell_type": "code",
   "outputs": [],
   "source": [
    "# Function to safely split the string\n",
    "def safe_split(x):\n",
    "    parts = str(x).split('/', 1)\n",
    "    return parts + [np.nan] * (2 - len(parts))\n",
    "\n",
    "\n",
    "for col in ['breakPointsSaved', 'firstReturnPoints', 'firstServeAccuracy', 'firstServePointsAccuracy',\n",
    "            'secondReturnPoints', 'secondServeAccuracy', 'secondServePointsAccuracy']:\n",
    "    # Apply the safe split function\n",
    "    base_table[[f'{col}', f'{col}Attempted']] = base_table[col].apply(safe_split).tolist()\n",
    "\n",
    "    # Clean up the 'backhandWinners_attempted' column\n",
    "    base_table[f'{col}Attempted'] = base_table[f'{col}Attempted'].str.split().str[0]\n",
    "\n",
    "    # Convert to numeric, coercing errors to NaN\n",
    "    base_table[f'{col}'] = pd.to_numeric(base_table[f'{col}'], errors='coerce')\n",
    "    base_table[f'{col}Attempted'] = pd.to_numeric(base_table[f'{col}Attempted'], errors='coerce')"
   ],
   "metadata": {
    "collapsed": false,
    "ExecuteTime": {
     "end_time": "2024-10-14T09:58:41.233202700Z",
     "start_time": "2024-10-14T09:57:43.952363900Z"
    }
   },
   "id": "71a0f671f93f487f",
   "execution_count": 14
  },
  {
   "cell_type": "code",
   "outputs": [
    {
     "name": "stderr",
     "output_type": "stream",
     "text": [
      "100%|██████████| 805325/805325 [02:45<00:00, 4860.26it/s]\n"
     ]
    }
   ],
   "source": [
    "# Calculate ELO\n",
    "base_table['pre_match_elo'], base_table['post_match_elo'] = calculate_elo(base_table)"
   ],
   "metadata": {
    "collapsed": false,
    "ExecuteTime": {
     "end_time": "2024-10-14T10:01:40.075035500Z",
     "start_time": "2024-10-14T09:58:41.233202700Z"
    }
   },
   "id": "9a9ed9b3f40edd1c",
   "execution_count": 15
  },
  {
   "cell_type": "code",
   "outputs": [],
   "source": [
    "df_summ_sql = \"\"\"WITH point_data AS (\n",
    "    SELECT \n",
    "        p.*, \n",
    "        e.index, \n",
    "        e.tournament_points, \n",
    "        e.tournament_category, \n",
    "        e.clean_name, \n",
    "        e.datetime,\n",
    "        CASE \n",
    "            WHEN e.tournament_category = 'ATP' AND e.tournament_points = 2000.0 THEN TRUE \n",
    "            ELSE FALSE \n",
    "        END AS bo5,\n",
    "        CASE \n",
    "            WHEN e.tournament_category IN ('ATP', 'Challenger', 'ITF Men') THEN TRUE \n",
    "            ELSE FALSE \n",
    "        END AS mens\n",
    "    FROM \n",
    "        sofascore_point_by_point_clean p\n",
    "    INNER JOIN \n",
    "        base_table e \n",
    "    ON \n",
    "        p.match_id = e.id AND p.position = e.position\n",
    "),\n",
    "winrate_calc AS (\n",
    "    SELECT \n",
    "        p.*,\n",
    "        SUM(p.match_winner) OVER w AS winners_from_position,\n",
    "        COUNT(p.match_winner) OVER w AS total_from_position,\n",
    "        (SUM(p.match_winner) OVER w - p.match_winner * 1.0) / NULLIF((COUNT(p.match_winner) OVER w - 1), 0) AS winrate_from_position\n",
    "    FROM \n",
    "        point_data p\n",
    "    WINDOW w AS (\n",
    "        PARTITION BY mens, bo5, p.sets_for, p.sets_against, p.games_for, p.games_against, p.points_for, p.points_against, p.serving\n",
    "        ORDER BY p.datetime, p.match_id, p.set, p.game\n",
    "        ROWS BETWEEN UNBOUNDED PRECEDING AND CURRENT ROW\n",
    "    )\n",
    ")\n",
    "SELECT \n",
    "    match_id AS id, \n",
    "    index,\n",
    "    AVG(winrate_from_position) AS winrate_mean,\n",
    "    MIN(winrate_from_position) AS winrate_min,\n",
    "    MAX(winrate_from_position) AS winrate_max,\n",
    "    STDDEV(winrate_from_position) AS winrate_std\n",
    "FROM \n",
    "    winrate_calc\n",
    "GROUP BY \n",
    "    match_id, \n",
    "    index\n",
    "ORDER BY \n",
    "    match_id;\n",
    "\"\"\""
   ],
   "metadata": {
    "collapsed": false,
    "ExecuteTime": {
     "end_time": "2024-10-14T10:01:40.080986200Z",
     "start_time": "2024-10-14T10:01:40.076476Z"
    }
   },
   "id": "5a152e2d354a29c1",
   "execution_count": 16
  },
  {
   "cell_type": "code",
   "outputs": [
    {
     "data": {
      "text/plain": "FloatProgress(value=0.0, layout=Layout(width='auto'), style=ProgressStyle(bar_color='black'))",
      "application/vnd.jupyter.widget-view+json": {
       "version_major": 2,
       "version_minor": 0,
       "model_id": "68dbf139e486419d8ad6e566a5c465d1"
      }
     },
     "metadata": {},
     "output_type": "display_data"
    }
   ],
   "source": [
    "con = duckdb.connect(\"E:/duckdb/tennis.duckdb\")\n",
    "df_summ = con.execute(df_summ_sql).df()\n",
    "df_summ['id'] = df_summ['id'].astype(int)\n",
    "con.close()"
   ],
   "metadata": {
    "collapsed": false,
    "ExecuteTime": {
     "end_time": "2024-10-14T10:02:30.155134200Z",
     "start_time": "2024-10-14T10:01:40.080986200Z"
    }
   },
   "id": "71159d215b7b6e59",
   "execution_count": 17
  },
  {
   "cell_type": "code",
   "outputs": [],
   "source": [
    "base_table_w_pbp = base_table.merge(df_summ, on=['id','index'], how='left')"
   ],
   "metadata": {
    "collapsed": false,
    "ExecuteTime": {
     "end_time": "2024-10-14T10:02:31.837682500Z",
     "start_time": "2024-10-14T10:02:30.156133200Z"
    }
   },
   "id": "9de6ce3443935e16",
   "execution_count": 18
  },
  {
   "cell_type": "code",
   "outputs": [
    {
     "data": {
      "text/plain": "FloatProgress(value=0.0, layout=Layout(width='auto'), style=ProgressStyle(bar_color='black'))",
      "application/vnd.jupyter.widget-view+json": {
       "version_major": 2,
       "version_minor": 0,
       "model_id": "14b0f63590844ae7b9e0cf73be24a630"
      }
     },
     "metadata": {},
     "output_type": "display_data"
    }
   ],
   "source": [
    "con = duckdb.connect(\"E:/duckdb/tennis.duckdb\")\n",
    "con.execute(\"DROP TABLE base_table\")\n",
    "con.execute(\"CREATE TABLE base_table AS SELECT * FROM base_table_w_pbp\")\n",
    "con.close()"
   ],
   "metadata": {
    "collapsed": false,
    "ExecuteTime": {
     "end_time": "2024-10-14T10:04:53.411404700Z",
     "start_time": "2024-10-14T10:04:44.689195600Z"
    }
   },
   "id": "5d1b377e290992c8",
   "execution_count": 20
  },
  {
   "cell_type": "code",
   "outputs": [
    {
     "data": {
      "text/plain": "               id         groundType                  tournament_name  \\\n0         4842840  Hardcourt outdoor                          Chennai   \n1         4842840  Hardcourt outdoor                          Chennai   \n2         4842848  Hardcourt outdoor                          Chennai   \n3         4842848  Hardcourt outdoor                          Chennai   \n4         4843638  Hardcourt outdoor                             Doha   \n...           ...                ...                              ...   \n1610645  12898841  Hardcourt outdoor       ITF China F13, Men Singles   \n1610646  12899383  Hardcourt outdoor  Monastir, Singles M-ITF-TUN-51A   \n1610647  12899383  Hardcourt outdoor  Monastir, Singles M-ITF-TUN-51A   \n1610648  12901201   Hardcourt indoor  ITF Slovakia 05A, Women Singles   \n1610649  12901201   Hardcourt indoor  ITF Slovakia 05A, Women Singles   \n\n        tournament_category  tournament_points tournament_round_category  \\\n0                       ATP              250.0                     Other   \n1                       ATP              250.0                     Other   \n2                       ATP              250.0                     Other   \n3                       ATP              250.0                     Other   \n4                       ATP              250.0             Middle Stages   \n...                     ...                ...                       ...   \n1610645             ITF Men                NaN             Middle Stages   \n1610646             ITF Men                NaN             Middle Stages   \n1610647             ITF Men                NaN             Middle Stages   \n1610648           ITF Women                NaN             Middle Stages   \n1610649           ITF Women                NaN             Middle Stages   \n\n                   datetime match_status  winner  score_period1  ...  \\\n0       2013-12-31 23:50:00      Retired       0            4.0  ...   \n1       2013-12-31 23:50:00      Retired       1            6.0  ...   \n2       2014-01-01 00:40:00        Ended       0            6.0  ...   \n3       2014-01-01 00:40:00        Ended       1            7.0  ...   \n4       2014-01-01 01:20:00        Ended       0            3.0  ...   \n...                     ...          ...     ...            ...  ...   \n1610645 2024-09-26 10:45:00        Ended       1            8.0  ...   \n1610646 2024-09-26 02:20:00        Ended       0            4.0  ...   \n1610647 2024-09-26 02:20:00        Ended       1            6.0  ...   \n1610648 2024-09-26 02:55:00        Ended       1            8.0  ...   \n1610649 2024-09-26 02:55:00        Ended       0            6.0  ...   \n\n         firstServePointsAccuracyAttempted  secondReturnPointsAttempted  \\\n0                                      NaN                          NaN   \n1                                      NaN                          NaN   \n2                                      NaN                          NaN   \n3                                      NaN                          NaN   \n4                                      NaN                          NaN   \n...                                    ...                          ...   \n1610645                               40.0                         28.0   \n1610646                               32.0                         44.0   \n1610647                               52.0                         26.0   \n1610648                               36.0                         29.0   \n1610649                               33.0                         32.0   \n\n         secondServeAccuracyAttempted  secondServePointsAccuracyAttempted  \\\n0                                 NaN                                 NaN   \n1                                 NaN                                 NaN   \n2                                 NaN                                 NaN   \n3                                 NaN                                 NaN   \n4                                 NaN                                 NaN   \n...                               ...                                 ...   \n1610645                          27.0                                27.0   \n1610646                          26.0                                26.0   \n1610647                          44.0                                44.0   \n1610648                          32.0                                32.0   \n1610649                          29.0                                29.0   \n\n        pre_match_elo post_match_elo  winrate_mean winrate_min  winrate_max  \\\n0         1500.000000    1484.000000           NaN         NaN          NaN   \n1         1500.000000    1516.000000           NaN         NaN          NaN   \n2         1500.000000    1484.000000           NaN         NaN          NaN   \n3         1500.000000    1516.000000           NaN         NaN          NaN   \n4         1500.000000    1484.000000           NaN         NaN          NaN   \n...               ...            ...           ...         ...          ...   \n1610645   2013.162045    2014.905808      0.564954    0.195301     0.993485   \n1610646   1559.815711    1558.091245      0.180876    0.002382     0.634410   \n1610647   2057.590550    2059.315017      0.819124    0.365590     0.997618   \n1610648   1733.439029    1744.749876      0.725691    0.464271     0.994116   \n1610649   1628.539989    1617.229143      0.274309    0.005884     0.535729   \n\n        winrate_std  \n0               NaN  \n1               NaN  \n2               NaN  \n3               NaN  \n4               NaN  \n...             ...  \n1610645    0.247410  \n1610646    0.184226  \n1610647    0.184226  \n1610648    0.119519  \n1610649    0.119519  \n\n[1610650 rows x 84 columns]",
      "text/html": "<div>\n<style scoped>\n    .dataframe tbody tr th:only-of-type {\n        vertical-align: middle;\n    }\n\n    .dataframe tbody tr th {\n        vertical-align: top;\n    }\n\n    .dataframe thead th {\n        text-align: right;\n    }\n</style>\n<table border=\"1\" class=\"dataframe\">\n  <thead>\n    <tr style=\"text-align: right;\">\n      <th></th>\n      <th>id</th>\n      <th>groundType</th>\n      <th>tournament_name</th>\n      <th>tournament_category</th>\n      <th>tournament_points</th>\n      <th>tournament_round_category</th>\n      <th>datetime</th>\n      <th>match_status</th>\n      <th>winner</th>\n      <th>score_period1</th>\n      <th>...</th>\n      <th>firstServePointsAccuracyAttempted</th>\n      <th>secondReturnPointsAttempted</th>\n      <th>secondServeAccuracyAttempted</th>\n      <th>secondServePointsAccuracyAttempted</th>\n      <th>pre_match_elo</th>\n      <th>post_match_elo</th>\n      <th>winrate_mean</th>\n      <th>winrate_min</th>\n      <th>winrate_max</th>\n      <th>winrate_std</th>\n    </tr>\n  </thead>\n  <tbody>\n    <tr>\n      <th>0</th>\n      <td>4842840</td>\n      <td>Hardcourt outdoor</td>\n      <td>Chennai</td>\n      <td>ATP</td>\n      <td>250.0</td>\n      <td>Other</td>\n      <td>2013-12-31 23:50:00</td>\n      <td>Retired</td>\n      <td>0</td>\n      <td>4.0</td>\n      <td>...</td>\n      <td>NaN</td>\n      <td>NaN</td>\n      <td>NaN</td>\n      <td>NaN</td>\n      <td>1500.000000</td>\n      <td>1484.000000</td>\n      <td>NaN</td>\n      <td>NaN</td>\n      <td>NaN</td>\n      <td>NaN</td>\n    </tr>\n    <tr>\n      <th>1</th>\n      <td>4842840</td>\n      <td>Hardcourt outdoor</td>\n      <td>Chennai</td>\n      <td>ATP</td>\n      <td>250.0</td>\n      <td>Other</td>\n      <td>2013-12-31 23:50:00</td>\n      <td>Retired</td>\n      <td>1</td>\n      <td>6.0</td>\n      <td>...</td>\n      <td>NaN</td>\n      <td>NaN</td>\n      <td>NaN</td>\n      <td>NaN</td>\n      <td>1500.000000</td>\n      <td>1516.000000</td>\n      <td>NaN</td>\n      <td>NaN</td>\n      <td>NaN</td>\n      <td>NaN</td>\n    </tr>\n    <tr>\n      <th>2</th>\n      <td>4842848</td>\n      <td>Hardcourt outdoor</td>\n      <td>Chennai</td>\n      <td>ATP</td>\n      <td>250.0</td>\n      <td>Other</td>\n      <td>2014-01-01 00:40:00</td>\n      <td>Ended</td>\n      <td>0</td>\n      <td>6.0</td>\n      <td>...</td>\n      <td>NaN</td>\n      <td>NaN</td>\n      <td>NaN</td>\n      <td>NaN</td>\n      <td>1500.000000</td>\n      <td>1484.000000</td>\n      <td>NaN</td>\n      <td>NaN</td>\n      <td>NaN</td>\n      <td>NaN</td>\n    </tr>\n    <tr>\n      <th>3</th>\n      <td>4842848</td>\n      <td>Hardcourt outdoor</td>\n      <td>Chennai</td>\n      <td>ATP</td>\n      <td>250.0</td>\n      <td>Other</td>\n      <td>2014-01-01 00:40:00</td>\n      <td>Ended</td>\n      <td>1</td>\n      <td>7.0</td>\n      <td>...</td>\n      <td>NaN</td>\n      <td>NaN</td>\n      <td>NaN</td>\n      <td>NaN</td>\n      <td>1500.000000</td>\n      <td>1516.000000</td>\n      <td>NaN</td>\n      <td>NaN</td>\n      <td>NaN</td>\n      <td>NaN</td>\n    </tr>\n    <tr>\n      <th>4</th>\n      <td>4843638</td>\n      <td>Hardcourt outdoor</td>\n      <td>Doha</td>\n      <td>ATP</td>\n      <td>250.0</td>\n      <td>Middle Stages</td>\n      <td>2014-01-01 01:20:00</td>\n      <td>Ended</td>\n      <td>0</td>\n      <td>3.0</td>\n      <td>...</td>\n      <td>NaN</td>\n      <td>NaN</td>\n      <td>NaN</td>\n      <td>NaN</td>\n      <td>1500.000000</td>\n      <td>1484.000000</td>\n      <td>NaN</td>\n      <td>NaN</td>\n      <td>NaN</td>\n      <td>NaN</td>\n    </tr>\n    <tr>\n      <th>...</th>\n      <td>...</td>\n      <td>...</td>\n      <td>...</td>\n      <td>...</td>\n      <td>...</td>\n      <td>...</td>\n      <td>...</td>\n      <td>...</td>\n      <td>...</td>\n      <td>...</td>\n      <td>...</td>\n      <td>...</td>\n      <td>...</td>\n      <td>...</td>\n      <td>...</td>\n      <td>...</td>\n      <td>...</td>\n      <td>...</td>\n      <td>...</td>\n      <td>...</td>\n      <td>...</td>\n    </tr>\n    <tr>\n      <th>1610645</th>\n      <td>12898841</td>\n      <td>Hardcourt outdoor</td>\n      <td>ITF China F13, Men Singles</td>\n      <td>ITF Men</td>\n      <td>NaN</td>\n      <td>Middle Stages</td>\n      <td>2024-09-26 10:45:00</td>\n      <td>Ended</td>\n      <td>1</td>\n      <td>8.0</td>\n      <td>...</td>\n      <td>40.0</td>\n      <td>28.0</td>\n      <td>27.0</td>\n      <td>27.0</td>\n      <td>2013.162045</td>\n      <td>2014.905808</td>\n      <td>0.564954</td>\n      <td>0.195301</td>\n      <td>0.993485</td>\n      <td>0.247410</td>\n    </tr>\n    <tr>\n      <th>1610646</th>\n      <td>12899383</td>\n      <td>Hardcourt outdoor</td>\n      <td>Monastir, Singles M-ITF-TUN-51A</td>\n      <td>ITF Men</td>\n      <td>NaN</td>\n      <td>Middle Stages</td>\n      <td>2024-09-26 02:20:00</td>\n      <td>Ended</td>\n      <td>0</td>\n      <td>4.0</td>\n      <td>...</td>\n      <td>32.0</td>\n      <td>44.0</td>\n      <td>26.0</td>\n      <td>26.0</td>\n      <td>1559.815711</td>\n      <td>1558.091245</td>\n      <td>0.180876</td>\n      <td>0.002382</td>\n      <td>0.634410</td>\n      <td>0.184226</td>\n    </tr>\n    <tr>\n      <th>1610647</th>\n      <td>12899383</td>\n      <td>Hardcourt outdoor</td>\n      <td>Monastir, Singles M-ITF-TUN-51A</td>\n      <td>ITF Men</td>\n      <td>NaN</td>\n      <td>Middle Stages</td>\n      <td>2024-09-26 02:20:00</td>\n      <td>Ended</td>\n      <td>1</td>\n      <td>6.0</td>\n      <td>...</td>\n      <td>52.0</td>\n      <td>26.0</td>\n      <td>44.0</td>\n      <td>44.0</td>\n      <td>2057.590550</td>\n      <td>2059.315017</td>\n      <td>0.819124</td>\n      <td>0.365590</td>\n      <td>0.997618</td>\n      <td>0.184226</td>\n    </tr>\n    <tr>\n      <th>1610648</th>\n      <td>12901201</td>\n      <td>Hardcourt indoor</td>\n      <td>ITF Slovakia 05A, Women Singles</td>\n      <td>ITF Women</td>\n      <td>NaN</td>\n      <td>Middle Stages</td>\n      <td>2024-09-26 02:55:00</td>\n      <td>Ended</td>\n      <td>1</td>\n      <td>8.0</td>\n      <td>...</td>\n      <td>36.0</td>\n      <td>29.0</td>\n      <td>32.0</td>\n      <td>32.0</td>\n      <td>1733.439029</td>\n      <td>1744.749876</td>\n      <td>0.725691</td>\n      <td>0.464271</td>\n      <td>0.994116</td>\n      <td>0.119519</td>\n    </tr>\n    <tr>\n      <th>1610649</th>\n      <td>12901201</td>\n      <td>Hardcourt indoor</td>\n      <td>ITF Slovakia 05A, Women Singles</td>\n      <td>ITF Women</td>\n      <td>NaN</td>\n      <td>Middle Stages</td>\n      <td>2024-09-26 02:55:00</td>\n      <td>Ended</td>\n      <td>0</td>\n      <td>6.0</td>\n      <td>...</td>\n      <td>33.0</td>\n      <td>32.0</td>\n      <td>29.0</td>\n      <td>29.0</td>\n      <td>1628.539989</td>\n      <td>1617.229143</td>\n      <td>0.274309</td>\n      <td>0.005884</td>\n      <td>0.535729</td>\n      <td>0.119519</td>\n    </tr>\n  </tbody>\n</table>\n<p>1610650 rows × 84 columns</p>\n</div>"
     },
     "execution_count": 21,
     "metadata": {},
     "output_type": "execute_result"
    }
   ],
   "source": [
    "base_table_w_pbp"
   ],
   "metadata": {
    "collapsed": false,
    "ExecuteTime": {
     "end_time": "2024-10-14T10:08:42.044289700Z",
     "start_time": "2024-10-14T10:08:41.344612400Z"
    }
   },
   "id": "bc896dfba1872fb3",
   "execution_count": 21
  },
  {
   "cell_type": "code",
   "outputs": [],
   "source": [],
   "metadata": {
    "collapsed": false
   },
   "id": "135c2e98ee25cdf2"
  }
 ],
 "metadata": {
  "kernelspec": {
   "display_name": "Python 3",
   "language": "python",
   "name": "python3"
  },
  "language_info": {
   "codemirror_mode": {
    "name": "ipython",
    "version": 2
   },
   "file_extension": ".py",
   "mimetype": "text/x-python",
   "name": "python",
   "nbconvert_exporter": "python",
   "pygments_lexer": "ipython2",
   "version": "2.7.6"
  }
 },
 "nbformat": 4,
 "nbformat_minor": 5
}
