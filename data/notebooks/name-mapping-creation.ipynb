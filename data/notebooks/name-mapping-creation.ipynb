{
 "cells": [
  {
   "cell_type": "code",
   "execution_count": 1,
   "id": "initial_id",
   "metadata": {
    "collapsed": true,
    "ExecuteTime": {
     "end_time": "2024-10-02T02:28:55.723689200Z",
     "start_time": "2024-10-02T02:28:55.208147600Z"
    }
   },
   "outputs": [],
   "source": [
    "import duckdb\n",
    "import pandas as pd\n",
    "import re\n",
    "import unidecode\n",
    "# import numpy as np\n",
    "from rapidfuzz import fuzz\n",
    "# from phonetics import metaphone, soundex\n",
    "# from transformers import AutoTokenizer, AutoModel\n",
    "from tqdm import tqdm\n",
    "# from Levenshtein import distance as edit_distance\n",
    "# import torch"
   ]
  },
  {
   "cell_type": "code",
   "outputs": [],
   "source": [
    "def process_name(name, words_to_reverse, slug=True, first_name_initial=None):\n",
    "    name = name.lower()\n",
    "    name = unidecode.unidecode(name)\n",
    "    name = re.sub('-', ' ', name)\n",
    "    name = re.sub(r'[^a-z\\s]', '', name)\n",
    "    \n",
    "    words = name.split()\n",
    "    \n",
    "    if words_to_reverse > 0:\n",
    "        if len(words) > words_to_reverse:\n",
    "            words = words[words_to_reverse:] + words[0:words_to_reverse]\n",
    "            if first_name_initial:\n",
    "                words[0] = words[0][0]\n",
    "        \n",
    "    if slug:\n",
    "        name = '-'.join(words)\n",
    "    else:\n",
    "        name = ' '.join(words)\n",
    "        \n",
    "    return name"
   ],
   "metadata": {
    "collapsed": false,
    "ExecuteTime": {
     "end_time": "2024-10-02T02:28:56.258797400Z",
     "start_time": "2024-10-02T02:28:56.251281600Z"
    }
   },
   "id": "957eb1c50842831d",
   "execution_count": 2
  },
  {
   "cell_type": "code",
   "outputs": [],
   "source": [
    "con = duckdb.connect(\"E:/duckdb/tennis.duckdb\", read_only=True)\n",
    "tennis_markets = con.execute(\"\"\"\n",
    "SELECT *\n",
    "\n",
    "FROM competition_mappings c\n",
    "INNER JOIN market_summaries m\n",
    "ON c.market_id = m.market_id\n",
    "\"\"\").df()\n",
    "\n",
    "sofascore_events = con.execute(\"SELECT * FROM sofascore_events WHERE tournament_category IN ('ATP','WTA','Challenger','ITF Men','ITF Women')\").df()\n",
    "con.close()\n",
    "\n",
    "excluded_selection_names = pd.read_csv('../mappings/excluded_selection_names.csv', header=None)[0].tolist()"
   ],
   "metadata": {
    "collapsed": false,
    "ExecuteTime": {
     "end_time": "2024-10-02T02:28:59.811717700Z",
     "start_time": "2024-10-02T02:28:57.001806200Z"
    }
   },
   "id": "e943e67d01987b9",
   "execution_count": 3
  },
  {
   "cell_type": "code",
   "outputs": [],
   "source": [
    "tennis_markets = tennis_markets[~tennis_markets['selection_name'].str.contains(\"/\")]\n",
    "tennis_markets = tennis_markets[~tennis_markets['selection_name'].isin(excluded_selection_names)]\n",
    "tennis_markets['bf_name'] = [process_name(x, 0, False) for x in tennis_markets['selection_name']]\n",
    "tennis_markets['FORMATTED_DATE'] = pd.to_datetime(tennis_markets['FORMATTED_DATE'])\n",
    "betfair_names = tennis_markets[['bf_name']].drop_duplicates()"
   ],
   "metadata": {
    "collapsed": false,
    "ExecuteTime": {
     "end_time": "2024-10-02T02:29:02.007171200Z",
     "start_time": "2024-10-02T02:29:00.363948900Z"
    }
   },
   "id": "f7369cc2f4232c6f",
   "execution_count": 4
  },
  {
   "cell_type": "code",
   "outputs": [],
   "source": [
    "sofascore_events = sofascore_events[~sofascore_events['home_team'].str.contains('/')]\n",
    "sofascore_events = sofascore_events[~sofascore_events['away_team'].str.contains('/')]\n",
    "sofascore_events = sofascore_events[sofascore_events['match_status'] != 'Not started']\n",
    "sofascore_events['event_fetch_date'] = pd.to_datetime(sofascore_events['event_fetch_date'])\n",
    "\n",
    "sofascore_events['home_clean_name'] = [process_name(x, 1, False) for x in sofascore_events['home_team_slug']]\n",
    "sofascore_events['away_clean_name'] = [process_name(x, 1, False) for x in sofascore_events['away_team_slug']]"
   ],
   "metadata": {
    "collapsed": false,
    "ExecuteTime": {
     "end_time": "2024-10-02T02:36:25.301155600Z",
     "start_time": "2024-10-02T02:36:21.109314400Z"
    }
   },
   "id": "71d50daf4c74fd29",
   "execution_count": 21
  },
  {
   "cell_type": "code",
   "outputs": [],
   "source": [
    "sofascore_names = pd.concat([sofascore_events[['home_team_slug', 'home_team']],sofascore_events[['away_team_slug', 'away_team']].rename(columns={'away_team_slug': 'home_team_slug','away_team': 'home_team'})]).drop_duplicates().rename(columns={\n",
    "    'home_team_slug': 'ss_slug',\n",
    "    'home_team': 'ss_name'\n",
    "})"
   ],
   "metadata": {
    "collapsed": false,
    "ExecuteTime": {
     "end_time": "2024-10-02T02:29:03.619492Z",
     "start_time": "2024-10-02T02:29:03.209361600Z"
    }
   },
   "id": "d0a896c3a32dc14f",
   "execution_count": 6
  },
  {
   "cell_type": "code",
   "outputs": [],
   "source": [
    "sofascore_names['ss_clean_slug'] = [process_name(x, 0, False) for x in sofascore_names['ss_slug']]\n",
    "sofascore_names['ss_clean_slug_1_rev'] = [process_name(x, 1, False) for x in sofascore_names['ss_slug']]\n",
    "sofascore_names['ss_clean_slug_2_rev'] = [process_name(x, 2, False) for x in sofascore_names['ss_slug']]\n",
    "sofascore_names['ss_clean_slug_3_rev'] = [process_name(x, 3, False) for x in sofascore_names['ss_slug']]\n",
    "sofascore_names['ss_clean_slug_4_rev'] = [process_name(x, 4, False) for x in sofascore_names['ss_slug']]\n",
    "\n",
    "sofascore_names['ss_clean_slug_1_rev_init'] = [process_name(x, 1, False, True) for x in sofascore_names['ss_slug']]\n",
    "sofascore_names['ss_clean_slug_2_rev_init'] = [process_name(x, 2, False, True) for x in sofascore_names['ss_slug']]\n",
    "sofascore_names['ss_clean_slug_3_rev_init'] = [process_name(x, 3, False, True) for x in sofascore_names['ss_slug']]\n",
    "sofascore_names['ss_clean_slug_4_rev_init'] = [process_name(x, 4, False, True) for x in sofascore_names['ss_slug']]"
   ],
   "metadata": {
    "collapsed": false,
    "ExecuteTime": {
     "end_time": "2024-10-02T02:29:04.509346Z",
     "start_time": "2024-10-02T02:29:03.856493600Z"
    }
   },
   "id": "2a5dc1abd4b490a1",
   "execution_count": 7
  },
  {
   "cell_type": "code",
   "outputs": [],
   "source": [
    "exact_1_rev = sofascore_names.merge(betfair_names, left_on='ss_clean_slug_1_rev', right_on='bf_name', how='left')\n",
    "exact_2_rev = sofascore_names.merge(betfair_names, left_on='ss_clean_slug_2_rev', right_on='bf_name', how='left')\n",
    "exact_3_rev = sofascore_names.merge(betfair_names, left_on='ss_clean_slug_3_rev', right_on='bf_name', how='left')\n",
    "exact_4_rev = sofascore_names.merge(betfair_names, left_on='ss_clean_slug_4_rev', right_on='bf_name', how='left')\n",
    "\n",
    "exact_1_rev_init = sofascore_names.merge(betfair_names, left_on='ss_clean_slug_1_rev_init', right_on='bf_name', how='left')\n",
    "exact_2_rev_init = sofascore_names.merge(betfair_names, left_on='ss_clean_slug_2_rev_init', right_on='bf_name', how='left')\n",
    "exact_3_rev_init = sofascore_names.merge(betfair_names, left_on='ss_clean_slug_3_rev_init', right_on='bf_name', how='left')\n",
    "exact_4_rev_init = sofascore_names.merge(betfair_names, left_on='ss_clean_slug_4_rev_init', right_on='bf_name', how='left')"
   ],
   "metadata": {
    "collapsed": false,
    "ExecuteTime": {
     "end_time": "2024-10-02T02:29:44.609953800Z",
     "start_time": "2024-10-02T02:29:44.308000300Z"
    }
   },
   "id": "2f83a5ac80c4579d",
   "execution_count": 8
  },
  {
   "cell_type": "code",
   "outputs": [],
   "source": [
    "exact_matches = pd.concat([exact_1_rev, exact_2_rev, exact_3_rev, exact_4_rev, exact_1_rev_init, exact_2_rev_init, exact_3_rev_init, exact_4_rev_init]).drop(columns='ss_name').drop_duplicates()\n",
    "exact_matches['index'] = range(len(exact_matches))\n",
    "exact_matches['index'] = exact_matches.groupby('ss_slug')['index'].transform('first')"
   ],
   "metadata": {
    "collapsed": false,
    "ExecuteTime": {
     "end_time": "2024-10-02T02:29:47.034810800Z",
     "start_time": "2024-10-02T02:29:46.421804800Z"
    }
   },
   "id": "adea09f8d8c2d23a",
   "execution_count": 9
  },
  {
   "cell_type": "code",
   "outputs": [],
   "source": [
    "name_mapping_initial = pd.melt(exact_matches, id_vars=['index'], value_vars=['ss_clean_slug','ss_clean_slug_1_rev','ss_clean_slug_2_rev', 'ss_clean_slug_3_rev','ss_clean_slug_4_rev', 'bf_name'], var_name='column', value_name='name')\n",
    "name_mapping_initial = name_mapping_initial[~name_mapping_initial['name'].isna()].drop(columns='column').sort_values('index')\n",
    "name_mapping_initial['name'] = [process_name(name,0,False) for name in name_mapping_initial['name']]\n",
    "name_mapping_initial = name_mapping_initial.drop_duplicates().reset_index(drop=True)"
   ],
   "metadata": {
    "collapsed": false,
    "ExecuteTime": {
     "end_time": "2024-10-02T02:29:48.633289800Z",
     "start_time": "2024-10-02T02:29:47.823337700Z"
    }
   },
   "id": "3c577cbb47b8b7",
   "execution_count": 10
  },
  {
   "cell_type": "code",
   "outputs": [],
   "source": [
    "bf_names_exact = exact_matches.dropna()['bf_name'].tolist()\n",
    "betfair_names_remaining = betfair_names[~betfair_names['bf_name'].isin(bf_names_exact)]"
   ],
   "metadata": {
    "collapsed": false,
    "ExecuteTime": {
     "end_time": "2024-10-02T02:29:50.849063200Z",
     "start_time": "2024-10-02T02:29:50.791357100Z"
    }
   },
   "id": "70a2b91bbc3f9749",
   "execution_count": 11
  },
  {
   "cell_type": "code",
   "outputs": [],
   "source": [
    "duplicated_names = name_mapping_initial.groupby('name')['index'].count().reset_index().query('index > 1')['name']\n",
    "name_mapping_initial = name_mapping_initial.query('name not in @duplicated_names')"
   ],
   "metadata": {
    "collapsed": false,
    "ExecuteTime": {
     "end_time": "2024-10-02T02:29:53.311181Z",
     "start_time": "2024-10-02T02:29:53.161014200Z"
    }
   },
   "id": "95ee4453355f9904",
   "execution_count": 12
  },
  {
   "cell_type": "code",
   "outputs": [],
   "source": [
    "name_mapping_initial.to_csv('../processing-files/name_mapping_initial.csv', index=False)\n",
    "betfair_names_remaining.to_csv('../processing-files/betfair_names_remaining.csv', index=False)"
   ],
   "metadata": {
    "collapsed": false,
    "ExecuteTime": {
     "end_time": "2024-10-02T02:30:23.814809100Z",
     "start_time": "2024-10-02T02:30:23.726808700Z"
    }
   },
   "id": "bc8f47d5a4124ac3",
   "execution_count": 15
  },
  {
   "cell_type": "code",
   "outputs": [],
   "source": [
    "fuzzy_matched = pd.read_csv('../processing-files/fuzzy_name_matches.csv')"
   ],
   "metadata": {
    "collapsed": false,
    "ExecuteTime": {
     "end_time": "2024-10-02T02:36:04.209604900Z",
     "start_time": "2024-10-02T02:36:04.197796500Z"
    }
   },
   "id": "bdcdbe9607b64408",
   "execution_count": 19
  },
  {
   "cell_type": "markdown",
   "source": [
    "# Matching based on event dates"
   ],
   "metadata": {
    "collapsed": false
   },
   "id": "f70e31f4d9dcb4e7"
  },
  {
   "cell_type": "code",
   "outputs": [],
   "source": [
    "sofascore_events_w_mapping = sofascore_events.merge(fuzzy_matched, left_on='home_clean_name', right_on='name', how='left').merge(fuzzy_matched, left_on='away_clean_name', right_on='name', how='left',suffixes=('_home','_away'))\n",
    "sofascore_events_w_mapping = sofascore_events_w_mapping[~sofascore_events_w_mapping['index_home'].isna() | ~sofascore_events_w_mapping['index_away'].isna()]"
   ],
   "metadata": {
    "collapsed": false,
    "ExecuteTime": {
     "end_time": "2024-10-02T02:36:46.949704400Z",
     "start_time": "2024-10-02T02:36:44.595896500Z"
    }
   },
   "id": "c6dfe144ce4cc3d4",
   "execution_count": 22
  },
  {
   "cell_type": "code",
   "outputs": [],
   "source": [
    "home_fuzzy_match = sofascore_events_w_mapping.merge(tennis_markets, left_on='bf_name_home', right_on='bf_name')"
   ],
   "metadata": {
    "collapsed": false,
    "ExecuteTime": {
     "end_time": "2024-10-02T02:37:23.586434800Z",
     "start_time": "2024-10-02T02:37:21.601490100Z"
    }
   },
   "id": "d38968936d64fbfc",
   "execution_count": 24
  },
  {
   "cell_type": "code",
   "outputs": [],
   "source": [
    "min_bf_date = min(tennis_markets['FORMATTED_DATE'])\n",
    "home_fuzzy_match = home_fuzzy_match.query('event_fetch_date >= @min_bf_date')"
   ],
   "metadata": {
    "collapsed": false,
    "ExecuteTime": {
     "end_time": "2024-10-02T02:37:31.782815600Z",
     "start_time": "2024-10-02T02:37:30.644564800Z"
    }
   },
   "id": "3352699836679361",
   "execution_count": 25
  },
  {
   "cell_type": "code",
   "outputs": [],
   "source": [
    "home_fuzzy_match['time_diff'] = home_fuzzy_match['event_fetch_date'] - home_fuzzy_match['FORMATTED_DATE']\n",
    "home_fuzzy_match['time_diff'] = home_fuzzy_match['time_diff'].dt.days"
   ],
   "metadata": {
    "collapsed": false,
    "ExecuteTime": {
     "end_time": "2024-10-02T02:37:33.182656100Z",
     "start_time": "2024-10-02T02:37:33.141933200Z"
    }
   },
   "id": "2500b7fad4e1bdac",
   "execution_count": 26
  },
  {
   "cell_type": "code",
   "outputs": [],
   "source": [
    "similar_dates = home_fuzzy_match.query(\"abs(time_diff) < 2\")"
   ],
   "metadata": {
    "collapsed": false,
    "ExecuteTime": {
     "end_time": "2024-10-02T02:37:43.232214200Z",
     "start_time": "2024-10-02T02:37:43.195954600Z"
    }
   },
   "id": "7e5866f9e9c84a59",
   "execution_count": 27
  },
  {
   "cell_type": "code",
   "outputs": [],
   "source": [
    "similar_dates[['index_home','name_home','bf_name_home']].drop_duplicates().to_csv('../processing-files/bf_home_match_fuzzy.csv')\n",
    "### MANUAL CHECK ###"
   ],
   "metadata": {
    "collapsed": false,
    "ExecuteTime": {
     "end_time": "2024-10-02T02:37:46.616241700Z",
     "start_time": "2024-10-02T02:37:46.606238400Z"
    }
   },
   "id": "5588f5f53e544587",
   "execution_count": 28
  },
  {
   "cell_type": "code",
   "outputs": [],
   "source": [
    "home_fuzzy_match = pd.read_csv('../processing-files/bf_home_match_fuzzy.csv')\n",
    "home_fuzzy_match = pd.melt(home_fuzzy_match, id_vars=['index']).drop(columns='variable').rename(columns={'value':'name'})"
   ],
   "metadata": {
    "collapsed": false,
    "ExecuteTime": {
     "end_time": "2024-10-02T03:32:42.912534200Z",
     "start_time": "2024-10-02T03:32:42.900087500Z"
    }
   },
   "id": "4b79cd39b90bdd75",
   "execution_count": 35
  },
  {
   "cell_type": "code",
   "outputs": [],
   "source": [
    "name_mapping_w_home = pd.concat([name_mapping_initial,home_fuzzy_match]).drop_duplicates()\n",
    "updated_bf_names_remaining = [x for x in betfair_names_remaining['bf_name'].tolist() if x not in name_mapping_w_home['name'].tolist()]\n",
    "betfair_names_remaining_w_home = pd.DataFrame({'bf_name':updated_bf_names_remaining})"
   ],
   "metadata": {
    "collapsed": false,
    "ExecuteTime": {
     "end_time": "2024-10-02T03:33:12.381482100Z",
     "start_time": "2024-10-02T03:33:12.338430100Z"
    }
   },
   "id": "46fa332eb907a9b8",
   "execution_count": 38
  },
  {
   "cell_type": "code",
   "outputs": [],
   "source": [
    "name_mapping_w_home.to_csv('../processing-files/name_mapping_w_home.csv', index=False)\n",
    "betfair_names_remaining_w_home.to_csv('../processing-files/betfair_names_remaining_w_home.csv', index=False)"
   ],
   "metadata": {
    "collapsed": false,
    "ExecuteTime": {
     "end_time": "2024-10-02T03:40:31.819549500Z",
     "start_time": "2024-10-02T03:40:31.742820500Z"
    }
   },
   "id": "54473afed6879520",
   "execution_count": 56
  },
  {
   "cell_type": "code",
   "outputs": [],
   "source": [
    "fuzzy_matched_w_home = pd.read_csv('../processing-files/fuzzy_name_matches_w_home.csv')\n",
    "# Matching based on event dates\n",
    "sofascore_events_w_mapping_w_home = sofascore_events.merge(fuzzy_matched_w_home, left_on='away_clean_name',\n",
    "                                                                      right_on='name', how='inner')\n",
    "away_fuzzy_match = sofascore_events_w_mapping_w_home.merge(tennis_markets, left_on='bf_name', right_on='bf_name')\n",
    "\n",
    "away_fuzzy_match = away_fuzzy_match.query('event_fetch_date >= @min_bf_date')\n",
    "away_fuzzy_match['time_diff'] = away_fuzzy_match['event_fetch_date'] - away_fuzzy_match['FORMATTED_DATE']\n",
    "away_fuzzy_match['time_diff'] = away_fuzzy_match['time_diff'].dt.days\n",
    "similar_dates_away = away_fuzzy_match.query(\"abs(time_diff) < 2\")\n",
    "similar_dates_away[['index', 'name', 'bf_name']].drop_duplicates().to_csv(\n",
    "    '../processing-files/bf_away_match_fuzzy.csv')\n",
    "### MANUAL CHECK ###"
   ],
   "metadata": {
    "collapsed": false,
    "ExecuteTime": {
     "end_time": "2024-10-02T03:44:18.513973500Z",
     "start_time": "2024-10-02T03:44:17.204584100Z"
    }
   },
   "id": "b7ad1c1e01d81ec9",
   "execution_count": 61
  },
  {
   "cell_type": "code",
   "outputs": [],
   "source": [
    "away_fuzzy_match = pd.read_csv('../processing-files/bf_away_match_fuzzy.csv')\n",
    "away_fuzzy_match = pd.melt(away_fuzzy_match, id_vars=['index']).drop(columns='variable').rename(columns={'value':'name'})"
   ],
   "metadata": {
    "collapsed": false,
    "ExecuteTime": {
     "end_time": "2024-10-02T03:57:46.259725700Z",
     "start_time": "2024-10-02T03:57:46.182536800Z"
    }
   },
   "id": "87bc8806b3bab7b9",
   "execution_count": 62
  },
  {
   "cell_type": "code",
   "outputs": [],
   "source": [
    "name_mapping_w_away = pd.concat([name_mapping_w_home,away_fuzzy_match]).drop_duplicates()\n",
    "updated_bf_names_remaining = [x for x in updated_bf_names_remaining if x not in name_mapping_w_away['name'].tolist()]\n",
    "betfair_names_remaining_w_away = pd.DataFrame({'bf_name':updated_bf_names_remaining})"
   ],
   "metadata": {
    "collapsed": false,
    "ExecuteTime": {
     "end_time": "2024-10-02T03:59:22.450420800Z",
     "start_time": "2024-10-02T03:59:17.163088600Z"
    }
   },
   "id": "17663496794233ff",
   "execution_count": 66
  },
  {
   "cell_type": "code",
   "outputs": [
    {
     "name": "stderr",
     "output_type": "stream",
     "text": [
      "100%|██████████| 3521/3521 [09:31<00:00,  6.17it/s]\n"
     ]
    }
   ],
   "source": [
    "def process_name(name, bf_names, threshold):\n",
    "    matches = []\n",
    "    for bf_name in bf_names:\n",
    "        similarity = fuzz.ratio(name, bf_name)\n",
    "        if similarity >= threshold:\n",
    "            matches.append((bf_name, similarity))\n",
    "    matches.sort(key=lambda x: x[1], reverse=True)\n",
    "    return matches\n",
    "\n",
    "matched_via_fixture = []\n",
    "\n",
    "for name in tqdm(betfair_names_remaining_w_away['bf_name']):\n",
    "    bf_matches = tennis_markets.query('bf_name == @name')\n",
    "    matches_w_score = process_name(name, name_mapping_w_away['name'], 70)\n",
    "    \n",
    "    matches = [x[0] for x in matches_w_score]\n",
    "    \n",
    "    matched_indices = name_mapping_w_away.query('name in @matches')['index'].unique().tolist()\n",
    "    all_matched_names = name_mapping_w_away.query('index in @matched_indices')['name'].tolist()\n",
    "    \n",
    "    ss_matches = sofascore_events.query('home_clean_name in @all_matched_names or away_clean_name in @all_matched_names').copy()\n",
    "    ss_matches.loc[ss_matches['home_clean_name'].isin(all_matched_names),'matched_name'] = ss_matches['home_clean_name']\n",
    "    ss_matches.loc[ss_matches['away_clean_name'].isin(all_matched_names),'matched_name'] = ss_matches['away_clean_name']\n",
    "    \n",
    "    cross_joined_matches = bf_matches.merge(ss_matches,how='cross')\n",
    "    cross_joined_matches['time_diff'] = (cross_joined_matches['datetime'] - cross_joined_matches['event_date']).dt.days\n",
    "    cross_joined_matches = cross_joined_matches.query('abs(time_diff) < 2')\n",
    "    \n",
    "    if len(cross_joined_matches) < 1:\n",
    "        continue\n",
    "    \n",
    "    cj_summ = cross_joined_matches.groupby(['matched_name'])['market_id'].count().reset_index().sort_values('market_id',ascending=False)\n",
    "    matched_name = cj_summ.iloc[0]['matched_name']\n",
    "    matches_count = cj_summ.iloc[0]['market_id']\n",
    "    matched_via_fixture.append(\n",
    "        (name, matched_name, matches_count)\n",
    "    )\n"
   ],
   "metadata": {
    "collapsed": false,
    "ExecuteTime": {
     "end_time": "2024-10-03T00:34:24.094538400Z",
     "start_time": "2024-10-03T00:24:53.012960Z"
    }
   },
   "id": "195000180b4323f",
   "execution_count": 187
  },
  {
   "cell_type": "code",
   "outputs": [],
   "source": [
    "matched_via_fixture_df = pd.DataFrame(matched_via_fixture, columns=['bf_name', 'matched_name', 'matches_count'])\n",
    "matched_via_fixture_df.to_csv('../processing-files/matched_via_fixture.csv')"
   ],
   "metadata": {
    "collapsed": false,
    "ExecuteTime": {
     "end_time": "2024-10-03T00:39:15.076202300Z",
     "start_time": "2024-10-03T00:39:15.040798900Z"
    }
   },
   "id": "e85717656b1c6af",
   "execution_count": 189
  },
  {
   "cell_type": "markdown",
   "source": [
    "# Build combined mapping"
   ],
   "metadata": {
    "collapsed": false
   },
   "id": "a6464f3d6ad74d7b"
  },
  {
   "cell_type": "code",
   "outputs": [],
   "source": [
    "matched_via_fixture_df_manual = pd.read_csv('../processing-files/manually-checked/matched_via_fixture.csv')\n",
    "\n",
    "bf_away_match_fuzzy_manual = pd.read_csv('../processing-files/manually-checked/bf_away_match_fuzzy.csv')\n",
    "bf_away_match_fuzzy_manual = pd.melt(bf_away_match_fuzzy_manual, id_vars=['index']).drop(columns='variable').rename(columns={'value':'name'})\n",
    "\n",
    "bf_home_match_fuzzy_manual = pd.read_csv('../processing-files/manually-checked/bf_home_match_fuzzy.csv')\n",
    "bf_home_match_fuzzy_manual = pd.melt(bf_home_match_fuzzy_manual, id_vars=['index']).drop(columns='variable').rename(columns={'value':'name'})\n",
    "\n",
    "name_mapping_initial = pd.read_csv('../processing-files/name_mapping_initial.csv')"
   ],
   "metadata": {
    "collapsed": false,
    "ExecuteTime": {
     "end_time": "2024-10-03T03:38:13.888840300Z",
     "start_time": "2024-10-03T03:38:13.841898700Z"
    }
   },
   "id": "7a4c423e8e0de442",
   "execution_count": 204
  },
  {
   "cell_type": "code",
   "outputs": [],
   "source": [
    "name_mapping = pd.concat([name_mapping_initial,bf_home_match_fuzzy_manual,bf_away_match_fuzzy_manual]).drop_duplicates()\n",
    "exclude_repeating_names = name_mapping.groupby('name').count().reset_index().query('index > 1')['name'].tolist()\n",
    "name_mapping = name_mapping.query('name not in @exclude_repeating_names')"
   ],
   "metadata": {
    "collapsed": false,
    "ExecuteTime": {
     "end_time": "2024-10-03T03:38:44.249247900Z",
     "start_time": "2024-10-03T03:38:44.210658900Z"
    }
   },
   "id": "31e30c3903868ca3",
   "execution_count": 205
  },
  {
   "cell_type": "code",
   "outputs": [],
   "source": [
    "fix_mapping = matched_via_fixture_df_manual.merge(name_mapping, left_on='matched_name', right_on='name')[['index','bf_name']].rename(columns={'bf_name':'name'})"
   ],
   "metadata": {
    "collapsed": false,
    "ExecuteTime": {
     "end_time": "2024-10-03T03:44:05.285545700Z",
     "start_time": "2024-10-03T03:44:05.254089800Z"
    }
   },
   "id": "7c03fb7715a97474",
   "execution_count": 220
  },
  {
   "cell_type": "code",
   "outputs": [],
   "source": [
    "name_mapping = pd.concat([name_mapping,fix_mapping])"
   ],
   "metadata": {
    "collapsed": false,
    "ExecuteTime": {
     "end_time": "2024-10-03T03:44:28.651840600Z",
     "start_time": "2024-10-03T03:44:28.647468800Z"
    }
   },
   "id": "6d0bebf3c3b800a9",
   "execution_count": 221
  },
  {
   "cell_type": "code",
   "outputs": [],
   "source": [
    "name_mapping.to_csv('../mappings/player_name_mapping.csv',index=False)"
   ],
   "metadata": {
    "collapsed": false,
    "ExecuteTime": {
     "end_time": "2024-10-03T05:25:48.400291700Z",
     "start_time": "2024-10-03T05:25:48.332530400Z"
    }
   },
   "id": "d1e63a94088a3bf9",
   "execution_count": 280
  }
 ],
 "metadata": {
  "kernelspec": {
   "display_name": "Python 3",
   "language": "python",
   "name": "python3"
  },
  "language_info": {
   "codemirror_mode": {
    "name": "ipython",
    "version": 2
   },
   "file_extension": ".py",
   "mimetype": "text/x-python",
   "name": "python",
   "nbconvert_exporter": "python",
   "pygments_lexer": "ipython2",
   "version": "2.7.6"
  }
 },
 "nbformat": 4,
 "nbformat_minor": 5
}
