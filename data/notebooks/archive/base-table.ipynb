{
 "cells": [
  {
   "cell_type": "code",
   "execution_count": 19,
   "id": "initial_id",
   "metadata": {
    "collapsed": true,
    "ExecuteTime": {
     "end_time": "2024-09-30T10:55:34.332568500Z",
     "start_time": "2024-09-30T10:55:34.323342800Z"
    }
   },
   "outputs": [],
   "source": [
    "import duckdb\n",
    "import glob\n",
    "import pandas as pd"
   ]
  },
  {
   "cell_type": "code",
   "outputs": [],
   "source": [
    "con = duckdb.connect(\"E:/duckdb/tennis.duckdb\", read_only=True)\n",
    "market_summaries = con.execute(\"SELECT * FROM market_summaries\").df()\n"
   ],
   "metadata": {
    "collapsed": false,
    "ExecuteTime": {
     "end_time": "2024-09-30T10:55:35.331740300Z",
     "start_time": "2024-09-30T10:55:34.518906700Z"
    }
   },
   "id": "8b1b06f970e0e38d",
   "execution_count": 20
  },
  {
   "cell_type": "code",
   "outputs": [
    {
     "data": {
      "text/plain": "          market_id          event_date country                  event  \\\n0       1.118520024 2015-04-30 22:02:00      BR       O Luz v Musialek   \n1       1.118520024 2015-04-30 22:02:00      BR       O Luz v Musialek   \n2       1.118520072 2015-01-05 03:17:00      CN     Duckworth v Zemlja   \n3       1.118520072 2015-01-05 03:17:00      CN     Duckworth v Zemlja   \n4       1.118520120 2015-01-05 04:58:00      CN   D Wu v Van Peperzeel   \n...             ...                 ...     ...                    ...   \n770672  1.231636306 2024-10-08 12:55:00    None  Ben Hassan v Marterer   \n770673  1.231636303 2024-10-08 12:55:00    None  Ben Hassan v Marterer   \n770674  1.231636303 2024-10-08 12:55:00    None  Ben Hassan v Marterer   \n770675  1.231636305 2024-10-08 12:55:00    None  Ben Hassan v Marterer   \n770676  1.231636305 2024-10-08 12:55:00    None  Ben Hassan v Marterer   \n\n         market_name  selection_id       selection_name  result  bsp  pp_min  \\\n0         Match Odds       9420501          Orlando Luz  WINNER  NaN    1.60   \n1         Match Odds       8443099      Alexis Musialek   LOSER  NaN    1.73   \n2         Match Odds       6064287      James Duckworth   LOSER  NaN    1.42   \n3         Match Odds       3509269         Grega Zemlja  WINNER  NaN    2.02   \n4         Match Odds       4596953                Di Wu   LOSER  NaN    1.54   \n...              ...           ...                  ...     ...  ...     ...   \n770672  Set 2 Winner       7335940  Maximilian Marterer  WINNER  NaN     NaN   \n770673    Match Odds       9631799      Benjamin Hassan   LOSER  NaN    2.06   \n770674    Match Odds       7335940  Maximilian Marterer  WINNER  NaN    1.76   \n770675  Set 1 Winner       9631799      Benjamin Hassan   LOSER  NaN    2.12   \n770676  Set 1 Winner       7335940  Maximilian Marterer  WINNER  NaN    1.90   \n\n        pp_max  pp_wap  pp_ltp  pp_volume  ip_min  ip_max  ip_wap  ip_ltp  \\\n0         2.38    1.72    1.74    8460.79    1.03   26.00    1.62    1.17   \n1         2.68    2.38    2.36    3026.99    1.04   26.00    1.52    6.80   \n2         1.88    1.62    1.55    6959.47    1.34    6.00    1.82    6.00   \n3         3.25    2.72    2.24    3985.42    1.14    3.55    1.59    1.14   \n4         1.74    1.68    1.70    3033.79    1.45  190.00    2.18  190.00   \n...        ...     ...     ...        ...     ...     ...     ...     ...   \n770672     NaN     NaN     NaN       0.00    1.03    4.40    1.32    1.05   \n770673    2.18    2.11    2.12     993.69    1.59   50.00    2.90   50.00   \n770674    1.93    1.90    1.89    3535.53    1.01    2.70    1.35    1.01   \n770675    2.12    2.12    2.12       1.33    1.31   30.00    2.30   30.00   \n770676    1.90    1.90    1.90       1.49    1.03    2.46    1.54    1.03   \n\n        ip_volume  \n0       569956.33  \n1       650951.46  \n2        41563.68  \n3        70028.29  \n4        33531.11  \n...           ...  \n770672    4355.72  \n770673   15853.34  \n770674   92639.80  \n770675     596.31  \n770676    1305.41  \n\n[770677 rows x 19 columns]",
      "text/html": "<div>\n<style scoped>\n    .dataframe tbody tr th:only-of-type {\n        vertical-align: middle;\n    }\n\n    .dataframe tbody tr th {\n        vertical-align: top;\n    }\n\n    .dataframe thead th {\n        text-align: right;\n    }\n</style>\n<table border=\"1\" class=\"dataframe\">\n  <thead>\n    <tr style=\"text-align: right;\">\n      <th></th>\n      <th>market_id</th>\n      <th>event_date</th>\n      <th>country</th>\n      <th>event</th>\n      <th>market_name</th>\n      <th>selection_id</th>\n      <th>selection_name</th>\n      <th>result</th>\n      <th>bsp</th>\n      <th>pp_min</th>\n      <th>pp_max</th>\n      <th>pp_wap</th>\n      <th>pp_ltp</th>\n      <th>pp_volume</th>\n      <th>ip_min</th>\n      <th>ip_max</th>\n      <th>ip_wap</th>\n      <th>ip_ltp</th>\n      <th>ip_volume</th>\n    </tr>\n  </thead>\n  <tbody>\n    <tr>\n      <th>0</th>\n      <td>1.118520024</td>\n      <td>2015-04-30 22:02:00</td>\n      <td>BR</td>\n      <td>O Luz v Musialek</td>\n      <td>Match Odds</td>\n      <td>9420501</td>\n      <td>Orlando Luz</td>\n      <td>WINNER</td>\n      <td>NaN</td>\n      <td>1.60</td>\n      <td>2.38</td>\n      <td>1.72</td>\n      <td>1.74</td>\n      <td>8460.79</td>\n      <td>1.03</td>\n      <td>26.00</td>\n      <td>1.62</td>\n      <td>1.17</td>\n      <td>569956.33</td>\n    </tr>\n    <tr>\n      <th>1</th>\n      <td>1.118520024</td>\n      <td>2015-04-30 22:02:00</td>\n      <td>BR</td>\n      <td>O Luz v Musialek</td>\n      <td>Match Odds</td>\n      <td>8443099</td>\n      <td>Alexis Musialek</td>\n      <td>LOSER</td>\n      <td>NaN</td>\n      <td>1.73</td>\n      <td>2.68</td>\n      <td>2.38</td>\n      <td>2.36</td>\n      <td>3026.99</td>\n      <td>1.04</td>\n      <td>26.00</td>\n      <td>1.52</td>\n      <td>6.80</td>\n      <td>650951.46</td>\n    </tr>\n    <tr>\n      <th>2</th>\n      <td>1.118520072</td>\n      <td>2015-01-05 03:17:00</td>\n      <td>CN</td>\n      <td>Duckworth v Zemlja</td>\n      <td>Match Odds</td>\n      <td>6064287</td>\n      <td>James Duckworth</td>\n      <td>LOSER</td>\n      <td>NaN</td>\n      <td>1.42</td>\n      <td>1.88</td>\n      <td>1.62</td>\n      <td>1.55</td>\n      <td>6959.47</td>\n      <td>1.34</td>\n      <td>6.00</td>\n      <td>1.82</td>\n      <td>6.00</td>\n      <td>41563.68</td>\n    </tr>\n    <tr>\n      <th>3</th>\n      <td>1.118520072</td>\n      <td>2015-01-05 03:17:00</td>\n      <td>CN</td>\n      <td>Duckworth v Zemlja</td>\n      <td>Match Odds</td>\n      <td>3509269</td>\n      <td>Grega Zemlja</td>\n      <td>WINNER</td>\n      <td>NaN</td>\n      <td>2.02</td>\n      <td>3.25</td>\n      <td>2.72</td>\n      <td>2.24</td>\n      <td>3985.42</td>\n      <td>1.14</td>\n      <td>3.55</td>\n      <td>1.59</td>\n      <td>1.14</td>\n      <td>70028.29</td>\n    </tr>\n    <tr>\n      <th>4</th>\n      <td>1.118520120</td>\n      <td>2015-01-05 04:58:00</td>\n      <td>CN</td>\n      <td>D Wu v Van Peperzeel</td>\n      <td>Match Odds</td>\n      <td>4596953</td>\n      <td>Di Wu</td>\n      <td>LOSER</td>\n      <td>NaN</td>\n      <td>1.54</td>\n      <td>1.74</td>\n      <td>1.68</td>\n      <td>1.70</td>\n      <td>3033.79</td>\n      <td>1.45</td>\n      <td>190.00</td>\n      <td>2.18</td>\n      <td>190.00</td>\n      <td>33531.11</td>\n    </tr>\n    <tr>\n      <th>...</th>\n      <td>...</td>\n      <td>...</td>\n      <td>...</td>\n      <td>...</td>\n      <td>...</td>\n      <td>...</td>\n      <td>...</td>\n      <td>...</td>\n      <td>...</td>\n      <td>...</td>\n      <td>...</td>\n      <td>...</td>\n      <td>...</td>\n      <td>...</td>\n      <td>...</td>\n      <td>...</td>\n      <td>...</td>\n      <td>...</td>\n      <td>...</td>\n    </tr>\n    <tr>\n      <th>770672</th>\n      <td>1.231636306</td>\n      <td>2024-10-08 12:55:00</td>\n      <td>None</td>\n      <td>Ben Hassan v Marterer</td>\n      <td>Set 2 Winner</td>\n      <td>7335940</td>\n      <td>Maximilian Marterer</td>\n      <td>WINNER</td>\n      <td>NaN</td>\n      <td>NaN</td>\n      <td>NaN</td>\n      <td>NaN</td>\n      <td>NaN</td>\n      <td>0.00</td>\n      <td>1.03</td>\n      <td>4.40</td>\n      <td>1.32</td>\n      <td>1.05</td>\n      <td>4355.72</td>\n    </tr>\n    <tr>\n      <th>770673</th>\n      <td>1.231636303</td>\n      <td>2024-10-08 12:55:00</td>\n      <td>None</td>\n      <td>Ben Hassan v Marterer</td>\n      <td>Match Odds</td>\n      <td>9631799</td>\n      <td>Benjamin Hassan</td>\n      <td>LOSER</td>\n      <td>NaN</td>\n      <td>2.06</td>\n      <td>2.18</td>\n      <td>2.11</td>\n      <td>2.12</td>\n      <td>993.69</td>\n      <td>1.59</td>\n      <td>50.00</td>\n      <td>2.90</td>\n      <td>50.00</td>\n      <td>15853.34</td>\n    </tr>\n    <tr>\n      <th>770674</th>\n      <td>1.231636303</td>\n      <td>2024-10-08 12:55:00</td>\n      <td>None</td>\n      <td>Ben Hassan v Marterer</td>\n      <td>Match Odds</td>\n      <td>7335940</td>\n      <td>Maximilian Marterer</td>\n      <td>WINNER</td>\n      <td>NaN</td>\n      <td>1.76</td>\n      <td>1.93</td>\n      <td>1.90</td>\n      <td>1.89</td>\n      <td>3535.53</td>\n      <td>1.01</td>\n      <td>2.70</td>\n      <td>1.35</td>\n      <td>1.01</td>\n      <td>92639.80</td>\n    </tr>\n    <tr>\n      <th>770675</th>\n      <td>1.231636305</td>\n      <td>2024-10-08 12:55:00</td>\n      <td>None</td>\n      <td>Ben Hassan v Marterer</td>\n      <td>Set 1 Winner</td>\n      <td>9631799</td>\n      <td>Benjamin Hassan</td>\n      <td>LOSER</td>\n      <td>NaN</td>\n      <td>2.12</td>\n      <td>2.12</td>\n      <td>2.12</td>\n      <td>2.12</td>\n      <td>1.33</td>\n      <td>1.31</td>\n      <td>30.00</td>\n      <td>2.30</td>\n      <td>30.00</td>\n      <td>596.31</td>\n    </tr>\n    <tr>\n      <th>770676</th>\n      <td>1.231636305</td>\n      <td>2024-10-08 12:55:00</td>\n      <td>None</td>\n      <td>Ben Hassan v Marterer</td>\n      <td>Set 1 Winner</td>\n      <td>7335940</td>\n      <td>Maximilian Marterer</td>\n      <td>WINNER</td>\n      <td>NaN</td>\n      <td>1.90</td>\n      <td>1.90</td>\n      <td>1.90</td>\n      <td>1.90</td>\n      <td>1.49</td>\n      <td>1.03</td>\n      <td>2.46</td>\n      <td>1.54</td>\n      <td>1.03</td>\n      <td>1305.41</td>\n    </tr>\n  </tbody>\n</table>\n<p>770677 rows × 19 columns</p>\n</div>"
     },
     "execution_count": 21,
     "metadata": {},
     "output_type": "execute_result"
    }
   ],
   "source": [
    "market_summaries"
   ],
   "metadata": {
    "collapsed": false,
    "ExecuteTime": {
     "end_time": "2024-09-30T10:55:35.332740500Z",
     "start_time": "2024-09-30T10:55:35.331740300Z"
    }
   },
   "id": "1272df6cba0e9483",
   "execution_count": 21
  },
  {
   "cell_type": "code",
   "outputs": [],
   "source": [
    "tennis_markets = con.execute(\"\"\"\n",
    "SELECT *\n",
    "\n",
    "FROM competition_mappings c\n",
    "INNER JOIN market_summaries m\n",
    "ON c.market_id = m.market_id\n",
    "\"\"\").df()"
   ],
   "metadata": {
    "collapsed": false,
    "ExecuteTime": {
     "end_time": "2024-09-30T11:39:04.265002800Z",
     "start_time": "2024-09-30T11:39:03.168696Z"
    }
   },
   "id": "433f80906e997cb9",
   "execution_count": 48
  },
  {
   "cell_type": "code",
   "outputs": [
    {
     "data": {
      "text/plain": "       FORMATTED_DATE                                               PATH  \\\n0          2024-07-02  ITF Amstelveen/Singles Matches/Kristina Dmitru...   \n1          2024-07-02  ITF Amstelveen/Singles Matches/Kristina Dmitru...   \n2          2024-07-02  Men's Wimbledon 2025/First Round Matches/Const...   \n3          2024-07-02  Men's Wimbledon 2025/First Round Matches/Const...   \n4          2024-07-02  Men's Wimbledon 2025/First Round Matches/Marti...   \n...               ...                                                ...   \n675423     2024-07-02  Men's Wimbledon 2025/First Round Matches/He Se...   \n675424     2024-07-02  Women's Wimbledon 2025/First Round Matches/Ann...   \n675425     2024-07-02  Women's Wimbledon 2025/First Round Matches/Ann...   \n675426     2024-07-02  ATP Modena Challenger/Singles Matches/Mariano ...   \n675427     2024-07-02  ATP Modena Challenger/Singles Matches/Mariano ...   \n\n        COMPETITION_ID        COMPETITION_NAME COUNTRY_CODE  EVENT_ID  \\\n0            9699553.0          ITF Amstelveen         None  33387558   \n1            9699553.0          ITF Amstelveen         None  33387558   \n2           12597512.0    Men's Wimbledon 2025         None  33379933   \n3           12597512.0    Men's Wimbledon 2025         None  33379933   \n4           12597512.0    Men's Wimbledon 2025         None  33380313   \n...                ...                     ...          ...       ...   \n675423      12597512.0    Men's Wimbledon 2025         None  33380393   \n675424      12597518.0  Women's Wimbledon 2025         None  33380143   \n675425      12597518.0  Women's Wimbledon 2025         None  33380143   \n675426      12670621.0   ATP Modena Challenger         None  33386934   \n675427      12670621.0   ATP Modena Challenger         None  33386934   \n\n                                EVENT_NAME MARKET_NAME  SPORT_ID SPORT_NAME  \\\n0       Kristina Dmitruk v Antonia Schmidt  Match Odds       2.0     Tennis   \n1       Kristina Dmitruk v Antonia Schmidt  Match Odds       2.0     Tennis   \n2        Constant Lestienne v Lore Musetti  Match Odds       2.0     Tennis   \n3        Constant Lestienne v Lore Musetti  Match Odds       2.0     Tennis   \n4           Martin Etcheverry v Luca Nardi  Match Odds       2.0     Tennis   \n...                                    ...         ...       ...        ...   \n675423              He Searle v Marc Giron  Match Odds       2.0     Tennis   \n675424       Anna Kalinskaya v Pan Udvardy  Match Odds       2.0     Tennis   \n675425       Anna Kalinskaya v Pan Udvardy  Match Odds       2.0     Tennis   \n675426   Mariano Tammaro v Titouan Droguet  Match Odds       2.0     Tennis   \n675427   Mariano Tammaro v Titouan Droguet  Match Odds       2.0     Tennis   \n\n        ... pp_min pp_max pp_wap pp_ltp pp_volume ip_min  ip_max ip_wap  \\\n0       ...   1.43   2.10   1.85   1.43    930.80   1.02    6.00   1.63   \n1       ...   2.00   3.00   2.64   2.86     58.16   1.01    2.66   1.53   \n2       ...   7.40  10.00   8.84   9.20   3771.81   1.60  350.00   2.57   \n3       ...   1.11   1.15   1.12   1.12  71564.79   1.01    2.66   1.39   \n4       ...   1.59   1.73   1.64   1.66  41079.12   1.01    1.70   1.14   \n...     ...    ...    ...    ...    ...       ...    ...     ...    ...   \n675423  ...   1.05   1.33   1.21   1.20  35703.64   1.01    1.65   1.19   \n675424  ...   1.13   1.16   1.14   1.14  29118.82   1.01    1.20   1.07   \n675425  ...   7.20   8.80   8.12   7.60   2855.36   6.40  120.00  20.75   \n675426  ...   9.40  10.50  10.38  10.50    209.03   2.26  110.00   3.66   \n675427  ...   1.05   1.12   1.10   1.10   4079.09   1.01    1.89   1.35   \n\n        ip_ltp  ip_volume  \n0         6.00     543.38  \n1         1.01     762.33  \n2       290.00   93772.21  \n3         1.01  381083.78  \n4         1.01   59713.17  \n...        ...        ...  \n675423    1.02  342893.95  \n675424    1.01  263722.02  \n675425  120.00     791.49  \n675426  110.00    4719.46  \n675427    1.01   41080.33  \n\n[576367 rows x 30 columns]",
      "text/html": "<div>\n<style scoped>\n    .dataframe tbody tr th:only-of-type {\n        vertical-align: middle;\n    }\n\n    .dataframe tbody tr th {\n        vertical-align: top;\n    }\n\n    .dataframe thead th {\n        text-align: right;\n    }\n</style>\n<table border=\"1\" class=\"dataframe\">\n  <thead>\n    <tr style=\"text-align: right;\">\n      <th></th>\n      <th>FORMATTED_DATE</th>\n      <th>PATH</th>\n      <th>COMPETITION_ID</th>\n      <th>COMPETITION_NAME</th>\n      <th>COUNTRY_CODE</th>\n      <th>EVENT_ID</th>\n      <th>EVENT_NAME</th>\n      <th>MARKET_NAME</th>\n      <th>SPORT_ID</th>\n      <th>SPORT_NAME</th>\n      <th>...</th>\n      <th>pp_min</th>\n      <th>pp_max</th>\n      <th>pp_wap</th>\n      <th>pp_ltp</th>\n      <th>pp_volume</th>\n      <th>ip_min</th>\n      <th>ip_max</th>\n      <th>ip_wap</th>\n      <th>ip_ltp</th>\n      <th>ip_volume</th>\n    </tr>\n  </thead>\n  <tbody>\n    <tr>\n      <th>0</th>\n      <td>2024-07-02</td>\n      <td>ITF Amstelveen/Singles Matches/Kristina Dmitru...</td>\n      <td>9699553.0</td>\n      <td>ITF Amstelveen</td>\n      <td>None</td>\n      <td>33387558</td>\n      <td>Kristina Dmitruk v Antonia Schmidt</td>\n      <td>Match Odds</td>\n      <td>2.0</td>\n      <td>Tennis</td>\n      <td>...</td>\n      <td>1.43</td>\n      <td>2.10</td>\n      <td>1.85</td>\n      <td>1.43</td>\n      <td>930.80</td>\n      <td>1.02</td>\n      <td>6.00</td>\n      <td>1.63</td>\n      <td>6.00</td>\n      <td>543.38</td>\n    </tr>\n    <tr>\n      <th>1</th>\n      <td>2024-07-02</td>\n      <td>ITF Amstelveen/Singles Matches/Kristina Dmitru...</td>\n      <td>9699553.0</td>\n      <td>ITF Amstelveen</td>\n      <td>None</td>\n      <td>33387558</td>\n      <td>Kristina Dmitruk v Antonia Schmidt</td>\n      <td>Match Odds</td>\n      <td>2.0</td>\n      <td>Tennis</td>\n      <td>...</td>\n      <td>2.00</td>\n      <td>3.00</td>\n      <td>2.64</td>\n      <td>2.86</td>\n      <td>58.16</td>\n      <td>1.01</td>\n      <td>2.66</td>\n      <td>1.53</td>\n      <td>1.01</td>\n      <td>762.33</td>\n    </tr>\n    <tr>\n      <th>2</th>\n      <td>2024-07-02</td>\n      <td>Men's Wimbledon 2025/First Round Matches/Const...</td>\n      <td>12597512.0</td>\n      <td>Men's Wimbledon 2025</td>\n      <td>None</td>\n      <td>33379933</td>\n      <td>Constant Lestienne v Lore Musetti</td>\n      <td>Match Odds</td>\n      <td>2.0</td>\n      <td>Tennis</td>\n      <td>...</td>\n      <td>7.40</td>\n      <td>10.00</td>\n      <td>8.84</td>\n      <td>9.20</td>\n      <td>3771.81</td>\n      <td>1.60</td>\n      <td>350.00</td>\n      <td>2.57</td>\n      <td>290.00</td>\n      <td>93772.21</td>\n    </tr>\n    <tr>\n      <th>3</th>\n      <td>2024-07-02</td>\n      <td>Men's Wimbledon 2025/First Round Matches/Const...</td>\n      <td>12597512.0</td>\n      <td>Men's Wimbledon 2025</td>\n      <td>None</td>\n      <td>33379933</td>\n      <td>Constant Lestienne v Lore Musetti</td>\n      <td>Match Odds</td>\n      <td>2.0</td>\n      <td>Tennis</td>\n      <td>...</td>\n      <td>1.11</td>\n      <td>1.15</td>\n      <td>1.12</td>\n      <td>1.12</td>\n      <td>71564.79</td>\n      <td>1.01</td>\n      <td>2.66</td>\n      <td>1.39</td>\n      <td>1.01</td>\n      <td>381083.78</td>\n    </tr>\n    <tr>\n      <th>4</th>\n      <td>2024-07-02</td>\n      <td>Men's Wimbledon 2025/First Round Matches/Marti...</td>\n      <td>12597512.0</td>\n      <td>Men's Wimbledon 2025</td>\n      <td>None</td>\n      <td>33380313</td>\n      <td>Martin Etcheverry v Luca Nardi</td>\n      <td>Match Odds</td>\n      <td>2.0</td>\n      <td>Tennis</td>\n      <td>...</td>\n      <td>1.59</td>\n      <td>1.73</td>\n      <td>1.64</td>\n      <td>1.66</td>\n      <td>41079.12</td>\n      <td>1.01</td>\n      <td>1.70</td>\n      <td>1.14</td>\n      <td>1.01</td>\n      <td>59713.17</td>\n    </tr>\n    <tr>\n      <th>...</th>\n      <td>...</td>\n      <td>...</td>\n      <td>...</td>\n      <td>...</td>\n      <td>...</td>\n      <td>...</td>\n      <td>...</td>\n      <td>...</td>\n      <td>...</td>\n      <td>...</td>\n      <td>...</td>\n      <td>...</td>\n      <td>...</td>\n      <td>...</td>\n      <td>...</td>\n      <td>...</td>\n      <td>...</td>\n      <td>...</td>\n      <td>...</td>\n      <td>...</td>\n      <td>...</td>\n    </tr>\n    <tr>\n      <th>675423</th>\n      <td>2024-07-02</td>\n      <td>Men's Wimbledon 2025/First Round Matches/He Se...</td>\n      <td>12597512.0</td>\n      <td>Men's Wimbledon 2025</td>\n      <td>None</td>\n      <td>33380393</td>\n      <td>He Searle v Marc Giron</td>\n      <td>Match Odds</td>\n      <td>2.0</td>\n      <td>Tennis</td>\n      <td>...</td>\n      <td>1.05</td>\n      <td>1.33</td>\n      <td>1.21</td>\n      <td>1.20</td>\n      <td>35703.64</td>\n      <td>1.01</td>\n      <td>1.65</td>\n      <td>1.19</td>\n      <td>1.02</td>\n      <td>342893.95</td>\n    </tr>\n    <tr>\n      <th>675424</th>\n      <td>2024-07-02</td>\n      <td>Women's Wimbledon 2025/First Round Matches/Ann...</td>\n      <td>12597518.0</td>\n      <td>Women's Wimbledon 2025</td>\n      <td>None</td>\n      <td>33380143</td>\n      <td>Anna Kalinskaya v Pan Udvardy</td>\n      <td>Match Odds</td>\n      <td>2.0</td>\n      <td>Tennis</td>\n      <td>...</td>\n      <td>1.13</td>\n      <td>1.16</td>\n      <td>1.14</td>\n      <td>1.14</td>\n      <td>29118.82</td>\n      <td>1.01</td>\n      <td>1.20</td>\n      <td>1.07</td>\n      <td>1.01</td>\n      <td>263722.02</td>\n    </tr>\n    <tr>\n      <th>675425</th>\n      <td>2024-07-02</td>\n      <td>Women's Wimbledon 2025/First Round Matches/Ann...</td>\n      <td>12597518.0</td>\n      <td>Women's Wimbledon 2025</td>\n      <td>None</td>\n      <td>33380143</td>\n      <td>Anna Kalinskaya v Pan Udvardy</td>\n      <td>Match Odds</td>\n      <td>2.0</td>\n      <td>Tennis</td>\n      <td>...</td>\n      <td>7.20</td>\n      <td>8.80</td>\n      <td>8.12</td>\n      <td>7.60</td>\n      <td>2855.36</td>\n      <td>6.40</td>\n      <td>120.00</td>\n      <td>20.75</td>\n      <td>120.00</td>\n      <td>791.49</td>\n    </tr>\n    <tr>\n      <th>675426</th>\n      <td>2024-07-02</td>\n      <td>ATP Modena Challenger/Singles Matches/Mariano ...</td>\n      <td>12670621.0</td>\n      <td>ATP Modena Challenger</td>\n      <td>None</td>\n      <td>33386934</td>\n      <td>Mariano Tammaro v Titouan Droguet</td>\n      <td>Match Odds</td>\n      <td>2.0</td>\n      <td>Tennis</td>\n      <td>...</td>\n      <td>9.40</td>\n      <td>10.50</td>\n      <td>10.38</td>\n      <td>10.50</td>\n      <td>209.03</td>\n      <td>2.26</td>\n      <td>110.00</td>\n      <td>3.66</td>\n      <td>110.00</td>\n      <td>4719.46</td>\n    </tr>\n    <tr>\n      <th>675427</th>\n      <td>2024-07-02</td>\n      <td>ATP Modena Challenger/Singles Matches/Mariano ...</td>\n      <td>12670621.0</td>\n      <td>ATP Modena Challenger</td>\n      <td>None</td>\n      <td>33386934</td>\n      <td>Mariano Tammaro v Titouan Droguet</td>\n      <td>Match Odds</td>\n      <td>2.0</td>\n      <td>Tennis</td>\n      <td>...</td>\n      <td>1.05</td>\n      <td>1.12</td>\n      <td>1.10</td>\n      <td>1.10</td>\n      <td>4079.09</td>\n      <td>1.01</td>\n      <td>1.89</td>\n      <td>1.35</td>\n      <td>1.01</td>\n      <td>41080.33</td>\n    </tr>\n  </tbody>\n</table>\n<p>576367 rows × 30 columns</p>\n</div>"
     },
     "execution_count": 50,
     "metadata": {},
     "output_type": "execute_result"
    }
   ],
   "source": [
    "tennis_markets[~tennis_markets['selection_name'].str.contains(\"/\")]"
   ],
   "metadata": {
    "collapsed": false,
    "ExecuteTime": {
     "end_time": "2024-09-30T11:39:40.570533800Z",
     "start_time": "2024-09-30T11:39:40.003653300Z"
    }
   },
   "id": "94dd3411d9fb3f3",
   "execution_count": 50
  },
  {
   "cell_type": "code",
   "outputs": [
    {
     "data": {
      "text/plain": "     tournament_category  count_star()\n0                Croatia           165\n1             United Cup           303\n2            Wheelchairs           992\n3                ITF Men        446818\n4              ITF Women        367035\n5                Legends           454\n6    Wheelchairs Juniors            36\n7                  World             1\n8                    ATP         58956\n9             Challenger        106961\n10               Juniors          5347\n11    Electronic Leagues            99\n12             Davis Cup          9847\n13            Hopman Cup           346\n14                   WTA         54350\n15               WTA 125          7998\n16                Russia             1\n17            Exhibition         11972\n18                 Other          3356\n19  Billie Jean King Cup          6484\n20                  IPTL           481",
      "text/html": "<div>\n<style scoped>\n    .dataframe tbody tr th:only-of-type {\n        vertical-align: middle;\n    }\n\n    .dataframe tbody tr th {\n        vertical-align: top;\n    }\n\n    .dataframe thead th {\n        text-align: right;\n    }\n</style>\n<table border=\"1\" class=\"dataframe\">\n  <thead>\n    <tr style=\"text-align: right;\">\n      <th></th>\n      <th>tournament_category</th>\n      <th>count_star()</th>\n    </tr>\n  </thead>\n  <tbody>\n    <tr>\n      <th>0</th>\n      <td>Croatia</td>\n      <td>165</td>\n    </tr>\n    <tr>\n      <th>1</th>\n      <td>United Cup</td>\n      <td>303</td>\n    </tr>\n    <tr>\n      <th>2</th>\n      <td>Wheelchairs</td>\n      <td>992</td>\n    </tr>\n    <tr>\n      <th>3</th>\n      <td>ITF Men</td>\n      <td>446818</td>\n    </tr>\n    <tr>\n      <th>4</th>\n      <td>ITF Women</td>\n      <td>367035</td>\n    </tr>\n    <tr>\n      <th>5</th>\n      <td>Legends</td>\n      <td>454</td>\n    </tr>\n    <tr>\n      <th>6</th>\n      <td>Wheelchairs Juniors</td>\n      <td>36</td>\n    </tr>\n    <tr>\n      <th>7</th>\n      <td>World</td>\n      <td>1</td>\n    </tr>\n    <tr>\n      <th>8</th>\n      <td>ATP</td>\n      <td>58956</td>\n    </tr>\n    <tr>\n      <th>9</th>\n      <td>Challenger</td>\n      <td>106961</td>\n    </tr>\n    <tr>\n      <th>10</th>\n      <td>Juniors</td>\n      <td>5347</td>\n    </tr>\n    <tr>\n      <th>11</th>\n      <td>Electronic Leagues</td>\n      <td>99</td>\n    </tr>\n    <tr>\n      <th>12</th>\n      <td>Davis Cup</td>\n      <td>9847</td>\n    </tr>\n    <tr>\n      <th>13</th>\n      <td>Hopman Cup</td>\n      <td>346</td>\n    </tr>\n    <tr>\n      <th>14</th>\n      <td>WTA</td>\n      <td>54350</td>\n    </tr>\n    <tr>\n      <th>15</th>\n      <td>WTA 125</td>\n      <td>7998</td>\n    </tr>\n    <tr>\n      <th>16</th>\n      <td>Russia</td>\n      <td>1</td>\n    </tr>\n    <tr>\n      <th>17</th>\n      <td>Exhibition</td>\n      <td>11972</td>\n    </tr>\n    <tr>\n      <th>18</th>\n      <td>Other</td>\n      <td>3356</td>\n    </tr>\n    <tr>\n      <th>19</th>\n      <td>Billie Jean King Cup</td>\n      <td>6484</td>\n    </tr>\n    <tr>\n      <th>20</th>\n      <td>IPTL</td>\n      <td>481</td>\n    </tr>\n  </tbody>\n</table>\n</div>"
     },
     "execution_count": 51,
     "metadata": {},
     "output_type": "execute_result"
    }
   ],
   "source": [
    "con.execute(\"SELECT tournament_category, COUNT(*) FROM sofascore_events GROUP BY tournament_category\").df()"
   ],
   "metadata": {
    "collapsed": false,
    "ExecuteTime": {
     "end_time": "2024-09-30T11:44:12.014402900Z",
     "start_time": "2024-09-30T11:44:12.002328500Z"
    }
   },
   "id": "ae817316d074e056",
   "execution_count": 51
  },
  {
   "cell_type": "code",
   "outputs": [],
   "source": [
    "sofascore_events = con.execute(\"SELECT * FROM sofascore_events WHERE tournament_category IN ('ATP','WTA','Challenger')\").df()"
   ],
   "metadata": {
    "collapsed": false,
    "ExecuteTime": {
     "end_time": "2024-09-30T11:34:17.308046700Z",
     "start_time": "2024-09-30T11:34:16.494561900Z"
    }
   },
   "id": "d5348d30d3f8cffd",
   "execution_count": 40
  },
  {
   "cell_type": "code",
   "outputs": [],
   "source": [
    "sofascore_events = sofascore_events[~sofascore_events['home_team'].str.contains('/')]\n",
    "sofascore_events = sofascore_events[sofascore_events['match_status'] != 'Not started']"
   ],
   "metadata": {
    "collapsed": false,
    "ExecuteTime": {
     "end_time": "2024-09-30T11:34:17.493153800Z",
     "start_time": "2024-09-30T11:34:17.308046700Z"
    }
   },
   "id": "8579be9159e3687c",
   "execution_count": 41
  },
  {
   "cell_type": "code",
   "outputs": [],
   "source": [
    "unique_slugs = sorted(list(set(sofascore_events['home_team_slug'].unique().tolist() + sofascore_events['away_team_slug'].unique().tolist())))"
   ],
   "metadata": {
    "collapsed": false,
    "ExecuteTime": {
     "end_time": "2024-09-30T11:38:34.600238800Z",
     "start_time": "2024-09-30T11:38:34.569361700Z"
    }
   },
   "id": "6bdb8da44d4d5bc3",
   "execution_count": 47
  },
  {
   "cell_type": "code",
   "outputs": [],
   "source": [
    "con.close()"
   ],
   "metadata": {
    "collapsed": false,
    "ExecuteTime": {
     "end_time": "2024-09-30T06:30:05.847535900Z",
     "start_time": "2024-09-30T06:30:05.834893700Z"
    }
   },
   "id": "c16af77ba7e104a2",
   "execution_count": 8
  },
  {
   "cell_type": "code",
   "outputs": [],
   "source": [],
   "metadata": {
    "collapsed": false
   },
   "id": "d1228d6efceaf893"
  }
 ],
 "metadata": {
  "kernelspec": {
   "display_name": "Python 3",
   "language": "python",
   "name": "python3"
  },
  "language_info": {
   "codemirror_mode": {
    "name": "ipython",
    "version": 2
   },
   "file_extension": ".py",
   "mimetype": "text/x-python",
   "name": "python",
   "nbconvert_exporter": "python",
   "pygments_lexer": "ipython2",
   "version": "2.7.6"
  }
 },
 "nbformat": 4,
 "nbformat_minor": 5
}
