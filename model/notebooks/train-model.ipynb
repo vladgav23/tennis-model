{
 "cells": [
  {
   "cell_type": "code",
   "outputs": [],
   "source": [
    "# Imports and settings\n",
    "import pandas as pd\n",
    "import duckdb\n",
    "import numpy as np\n",
    "import matplotlib.pyplot as plt\n",
    "import polars as pl\n",
    "import xgboost as xgb\n",
    "import random\n",
    "import os\n",
    "import shap\n",
    "\n",
    "from joblib import dump\n",
    "from datetime import datetime\n",
    "from pathlib import Path\n",
    "from sklearn.metrics import mean_squared_error\n",
    "from sklearn.model_selection import TimeSeriesSplit\n",
    "from sklearn.preprocessing import StandardScaler\n",
    "from sklearn.impute import SimpleImputer\n",
    "import lightgbm as lgb\n",
    "from catboost import CatBoostClassifier, Pool\n",
    "\n",
    "pd.set_option('display.float_format', '{:.6f}'.format)\n",
    "random_seed = 909\n",
    "random.seed(random_seed)\n",
    "np.random.seed(random_seed)"
   ],
   "metadata": {
    "collapsed": false,
    "ExecuteTime": {
     "end_time": "2024-10-03T10:19:11.742191600Z",
     "start_time": "2024-10-03T10:19:00.734448500Z"
    }
   },
   "id": "bd2788c4d04aab03",
   "execution_count": 4
  },
  {
   "cell_type": "code",
   "outputs": [],
   "source": [
    "model_id = f'baseline_{datetime.now().strftime(\"%Y%m%d_%H%M%S\")}'\n",
    "dirname = f\"outputs/{model_id}/\"\n",
    "os.mkdir(dirname)"
   ],
   "metadata": {
    "collapsed": false
   },
   "id": "dd858ffff42e45ed"
  },
  {
   "cell_type": "code",
   "outputs": [],
   "source": [
    "con = duckdb.connect(\"E:/duckdb/tennis.duckdb\",read_only=True)\n",
    "base_table = con.execute(\"SELECT * FROM base_table\").df()\n",
    "con.close()"
   ],
   "metadata": {
    "collapsed": false,
    "ExecuteTime": {
     "end_time": "2024-10-03T11:30:47.625251500Z",
     "start_time": "2024-10-03T11:30:43.790464900Z"
    }
   },
   "id": "590838ee39c432c2",
   "execution_count": 33
  },
  {
   "cell_type": "code",
   "outputs": [
    {
     "data": {
      "text/plain": "               id         groundType                  tournament_name  \\\n0         4842840  Hardcourt outdoor                          Chennai   \n1         4842840  Hardcourt outdoor                          Chennai   \n2         4842848  Hardcourt outdoor                          Chennai   \n3         4842848  Hardcourt outdoor                          Chennai   \n4         4843638  Hardcourt outdoor                             Doha   \n...           ...                ...                              ...   \n1598789  12898841  Hardcourt outdoor       ITF China F13, Men Singles   \n1598790  12899383  Hardcourt outdoor  Monastir, Singles M-ITF-TUN-51A   \n1598791  12899383  Hardcourt outdoor  Monastir, Singles M-ITF-TUN-51A   \n1598792  12901201   Hardcourt indoor  ITF Slovakia 05A, Women Singles   \n1598793  12901201   Hardcourt indoor  ITF Slovakia 05A, Women Singles   \n\n        tournament_category  tournament_points tournament_round_category  \\\n0                       ATP         250.000000                     Other   \n1                       ATP         250.000000                     Other   \n2                       ATP         250.000000                     Other   \n3                       ATP         250.000000                     Other   \n4                       ATP         250.000000             Middle Stages   \n...                     ...                ...                       ...   \n1598789             ITF Men                NaN             Middle Stages   \n1598790             ITF Men                NaN             Middle Stages   \n1598791             ITF Men                NaN             Middle Stages   \n1598792           ITF Women                NaN             Middle Stages   \n1598793           ITF Women                NaN             Middle Stages   \n\n                   datetime match_status  winner  score_period1  ...  \\\n0       2013-12-31 23:50:00      Retired       0       4.000000  ...   \n1       2013-12-31 23:50:00      Retired       1       6.000000  ...   \n2       2014-01-01 00:40:00        Ended       0       6.000000  ...   \n3       2014-01-01 00:40:00        Ended       1       7.000000  ...   \n4       2014-01-01 01:20:00        Ended       0       3.000000  ...   \n...                     ...          ...     ...            ...  ...   \n1598789 2024-09-26 10:45:00        Ended       1       8.000000  ...   \n1598790 2024-09-26 02:20:00        Ended       0       4.000000  ...   \n1598791 2024-09-26 02:20:00        Ended       1       6.000000  ...   \n1598792 2024-09-26 02:55:00        Ended       1       8.000000  ...   \n1598793 2024-09-26 02:55:00        Ended       0       6.000000  ...   \n\n         winnersTotal  breakPointsSavedAttempted  firstReturnPointsAttempted  \\\n0                None                        NaN                         NaN   \n1                None                        NaN                         NaN   \n2                None                        NaN                         NaN   \n3                None                        NaN                         NaN   \n4                None                        NaN                         NaN   \n...               ...                        ...                         ...   \n1598789          None                   3.000000                   45.000000   \n1598790          None                   7.000000                   52.000000   \n1598791          None                  14.000000                   32.000000   \n1598792          None                   8.000000                   33.000000   \n1598793          None                   7.000000                   36.000000   \n\n         firstServeAccuracyAttempted firstServePointsAccuracyAttempted  \\\n0                                NaN                               NaN   \n1                                NaN                               NaN   \n2                                NaN                               NaN   \n3                                NaN                               NaN   \n4                                NaN                               NaN   \n...                              ...                               ...   \n1598789                    67.000000                         40.000000   \n1598790                    58.000000                         32.000000   \n1598791                    96.000000                         52.000000   \n1598792                    68.000000                         36.000000   \n1598793                    62.000000                         33.000000   \n\n        secondReturnPointsAttempted  secondServeAccuracyAttempted  \\\n0                               NaN                           NaN   \n1                               NaN                           NaN   \n2                               NaN                           NaN   \n3                               NaN                           NaN   \n4                               NaN                           NaN   \n...                             ...                           ...   \n1598789                   28.000000                     27.000000   \n1598790                   44.000000                     26.000000   \n1598791                   26.000000                     44.000000   \n1598792                   29.000000                     32.000000   \n1598793                   32.000000                     29.000000   \n\n        secondServePointsAccuracyAttempted pre_match_elo  post_match_elo  \n0                                      NaN   1500.000000     1484.000000  \n1                                      NaN   1500.000000     1516.000000  \n2                                      NaN   1500.000000     1484.000000  \n3                                      NaN   1500.000000     1516.000000  \n4                                      NaN   1500.000000     1484.000000  \n...                                    ...           ...             ...  \n1598789                          27.000000   2013.174789     2014.918650  \n1598790                          26.000000   1559.817361     1558.092945  \n1598791                          44.000000   2057.597605     2059.322020  \n1598792                          32.000000   1731.257921     1742.681536  \n1598793                          29.000000   1629.031729     1617.608114  \n\n[1598794 rows x 79 columns]",
      "text/html": "<div>\n<style scoped>\n    .dataframe tbody tr th:only-of-type {\n        vertical-align: middle;\n    }\n\n    .dataframe tbody tr th {\n        vertical-align: top;\n    }\n\n    .dataframe thead th {\n        text-align: right;\n    }\n</style>\n<table border=\"1\" class=\"dataframe\">\n  <thead>\n    <tr style=\"text-align: right;\">\n      <th></th>\n      <th>id</th>\n      <th>groundType</th>\n      <th>tournament_name</th>\n      <th>tournament_category</th>\n      <th>tournament_points</th>\n      <th>tournament_round_category</th>\n      <th>datetime</th>\n      <th>match_status</th>\n      <th>winner</th>\n      <th>score_period1</th>\n      <th>...</th>\n      <th>winnersTotal</th>\n      <th>breakPointsSavedAttempted</th>\n      <th>firstReturnPointsAttempted</th>\n      <th>firstServeAccuracyAttempted</th>\n      <th>firstServePointsAccuracyAttempted</th>\n      <th>secondReturnPointsAttempted</th>\n      <th>secondServeAccuracyAttempted</th>\n      <th>secondServePointsAccuracyAttempted</th>\n      <th>pre_match_elo</th>\n      <th>post_match_elo</th>\n    </tr>\n  </thead>\n  <tbody>\n    <tr>\n      <th>0</th>\n      <td>4842840</td>\n      <td>Hardcourt outdoor</td>\n      <td>Chennai</td>\n      <td>ATP</td>\n      <td>250.000000</td>\n      <td>Other</td>\n      <td>2013-12-31 23:50:00</td>\n      <td>Retired</td>\n      <td>0</td>\n      <td>4.000000</td>\n      <td>...</td>\n      <td>None</td>\n      <td>NaN</td>\n      <td>NaN</td>\n      <td>NaN</td>\n      <td>NaN</td>\n      <td>NaN</td>\n      <td>NaN</td>\n      <td>NaN</td>\n      <td>1500.000000</td>\n      <td>1484.000000</td>\n    </tr>\n    <tr>\n      <th>1</th>\n      <td>4842840</td>\n      <td>Hardcourt outdoor</td>\n      <td>Chennai</td>\n      <td>ATP</td>\n      <td>250.000000</td>\n      <td>Other</td>\n      <td>2013-12-31 23:50:00</td>\n      <td>Retired</td>\n      <td>1</td>\n      <td>6.000000</td>\n      <td>...</td>\n      <td>None</td>\n      <td>NaN</td>\n      <td>NaN</td>\n      <td>NaN</td>\n      <td>NaN</td>\n      <td>NaN</td>\n      <td>NaN</td>\n      <td>NaN</td>\n      <td>1500.000000</td>\n      <td>1516.000000</td>\n    </tr>\n    <tr>\n      <th>2</th>\n      <td>4842848</td>\n      <td>Hardcourt outdoor</td>\n      <td>Chennai</td>\n      <td>ATP</td>\n      <td>250.000000</td>\n      <td>Other</td>\n      <td>2014-01-01 00:40:00</td>\n      <td>Ended</td>\n      <td>0</td>\n      <td>6.000000</td>\n      <td>...</td>\n      <td>None</td>\n      <td>NaN</td>\n      <td>NaN</td>\n      <td>NaN</td>\n      <td>NaN</td>\n      <td>NaN</td>\n      <td>NaN</td>\n      <td>NaN</td>\n      <td>1500.000000</td>\n      <td>1484.000000</td>\n    </tr>\n    <tr>\n      <th>3</th>\n      <td>4842848</td>\n      <td>Hardcourt outdoor</td>\n      <td>Chennai</td>\n      <td>ATP</td>\n      <td>250.000000</td>\n      <td>Other</td>\n      <td>2014-01-01 00:40:00</td>\n      <td>Ended</td>\n      <td>1</td>\n      <td>7.000000</td>\n      <td>...</td>\n      <td>None</td>\n      <td>NaN</td>\n      <td>NaN</td>\n      <td>NaN</td>\n      <td>NaN</td>\n      <td>NaN</td>\n      <td>NaN</td>\n      <td>NaN</td>\n      <td>1500.000000</td>\n      <td>1516.000000</td>\n    </tr>\n    <tr>\n      <th>4</th>\n      <td>4843638</td>\n      <td>Hardcourt outdoor</td>\n      <td>Doha</td>\n      <td>ATP</td>\n      <td>250.000000</td>\n      <td>Middle Stages</td>\n      <td>2014-01-01 01:20:00</td>\n      <td>Ended</td>\n      <td>0</td>\n      <td>3.000000</td>\n      <td>...</td>\n      <td>None</td>\n      <td>NaN</td>\n      <td>NaN</td>\n      <td>NaN</td>\n      <td>NaN</td>\n      <td>NaN</td>\n      <td>NaN</td>\n      <td>NaN</td>\n      <td>1500.000000</td>\n      <td>1484.000000</td>\n    </tr>\n    <tr>\n      <th>...</th>\n      <td>...</td>\n      <td>...</td>\n      <td>...</td>\n      <td>...</td>\n      <td>...</td>\n      <td>...</td>\n      <td>...</td>\n      <td>...</td>\n      <td>...</td>\n      <td>...</td>\n      <td>...</td>\n      <td>...</td>\n      <td>...</td>\n      <td>...</td>\n      <td>...</td>\n      <td>...</td>\n      <td>...</td>\n      <td>...</td>\n      <td>...</td>\n      <td>...</td>\n      <td>...</td>\n    </tr>\n    <tr>\n      <th>1598789</th>\n      <td>12898841</td>\n      <td>Hardcourt outdoor</td>\n      <td>ITF China F13, Men Singles</td>\n      <td>ITF Men</td>\n      <td>NaN</td>\n      <td>Middle Stages</td>\n      <td>2024-09-26 10:45:00</td>\n      <td>Ended</td>\n      <td>1</td>\n      <td>8.000000</td>\n      <td>...</td>\n      <td>None</td>\n      <td>3.000000</td>\n      <td>45.000000</td>\n      <td>67.000000</td>\n      <td>40.000000</td>\n      <td>28.000000</td>\n      <td>27.000000</td>\n      <td>27.000000</td>\n      <td>2013.174789</td>\n      <td>2014.918650</td>\n    </tr>\n    <tr>\n      <th>1598790</th>\n      <td>12899383</td>\n      <td>Hardcourt outdoor</td>\n      <td>Monastir, Singles M-ITF-TUN-51A</td>\n      <td>ITF Men</td>\n      <td>NaN</td>\n      <td>Middle Stages</td>\n      <td>2024-09-26 02:20:00</td>\n      <td>Ended</td>\n      <td>0</td>\n      <td>4.000000</td>\n      <td>...</td>\n      <td>None</td>\n      <td>7.000000</td>\n      <td>52.000000</td>\n      <td>58.000000</td>\n      <td>32.000000</td>\n      <td>44.000000</td>\n      <td>26.000000</td>\n      <td>26.000000</td>\n      <td>1559.817361</td>\n      <td>1558.092945</td>\n    </tr>\n    <tr>\n      <th>1598791</th>\n      <td>12899383</td>\n      <td>Hardcourt outdoor</td>\n      <td>Monastir, Singles M-ITF-TUN-51A</td>\n      <td>ITF Men</td>\n      <td>NaN</td>\n      <td>Middle Stages</td>\n      <td>2024-09-26 02:20:00</td>\n      <td>Ended</td>\n      <td>1</td>\n      <td>6.000000</td>\n      <td>...</td>\n      <td>None</td>\n      <td>14.000000</td>\n      <td>32.000000</td>\n      <td>96.000000</td>\n      <td>52.000000</td>\n      <td>26.000000</td>\n      <td>44.000000</td>\n      <td>44.000000</td>\n      <td>2057.597605</td>\n      <td>2059.322020</td>\n    </tr>\n    <tr>\n      <th>1598792</th>\n      <td>12901201</td>\n      <td>Hardcourt indoor</td>\n      <td>ITF Slovakia 05A, Women Singles</td>\n      <td>ITF Women</td>\n      <td>NaN</td>\n      <td>Middle Stages</td>\n      <td>2024-09-26 02:55:00</td>\n      <td>Ended</td>\n      <td>1</td>\n      <td>8.000000</td>\n      <td>...</td>\n      <td>None</td>\n      <td>8.000000</td>\n      <td>33.000000</td>\n      <td>68.000000</td>\n      <td>36.000000</td>\n      <td>29.000000</td>\n      <td>32.000000</td>\n      <td>32.000000</td>\n      <td>1731.257921</td>\n      <td>1742.681536</td>\n    </tr>\n    <tr>\n      <th>1598793</th>\n      <td>12901201</td>\n      <td>Hardcourt indoor</td>\n      <td>ITF Slovakia 05A, Women Singles</td>\n      <td>ITF Women</td>\n      <td>NaN</td>\n      <td>Middle Stages</td>\n      <td>2024-09-26 02:55:00</td>\n      <td>Ended</td>\n      <td>0</td>\n      <td>6.000000</td>\n      <td>...</td>\n      <td>None</td>\n      <td>7.000000</td>\n      <td>36.000000</td>\n      <td>62.000000</td>\n      <td>33.000000</td>\n      <td>32.000000</td>\n      <td>29.000000</td>\n      <td>29.000000</td>\n      <td>1629.031729</td>\n      <td>1617.608114</td>\n    </tr>\n  </tbody>\n</table>\n<p>1598794 rows × 79 columns</p>\n</div>"
     },
     "execution_count": 36,
     "metadata": {},
     "output_type": "execute_result"
    }
   ],
   "source": [
    "base_table"
   ],
   "metadata": {
    "collapsed": false,
    "ExecuteTime": {
     "end_time": "2024-10-03T11:37:46.973499900Z",
     "start_time": "2024-10-03T11:37:46.300611700Z"
    }
   },
   "id": "9668e7a78c8b4b41",
   "execution_count": 36
  },
  {
   "cell_type": "code",
   "outputs": [],
   "source": [
    "target = 'home_winner'\n",
    "\n",
    "id_cols = ['id','tournament_name','match']\n",
    "time_split_col = 'datetime'\n",
    "\n",
    "exclude_cols = []\n",
    "cat_cols = ['groundType','tournament_category','tournament_round_category']\n",
    "match_stat_cols = ['aces',\t'backhandErrors',\t'backhandUnforcedErrors',\t'backhandWinners',\t'breakPointsSaved',\t'breakPointsScored',\t'doubleFaults',\t'dropShotUnforcedErrors',\t'dropShotWinners',\t'errorsTotal',\t'firstReturnPoints',\t'firstServeAccuracy',\t'firstServePointsAccuracy',\t'forehandErrors',\t'forehandUnforcedErrors',\t'forehandWinners',\t'gamesWon',\t'groundstrokeErrors',\t'groundstrokeUnforcedErrors',\t'groundstrokeWinners',\t'lobUnforcedErrors',\t'lobWinners',\t'maxGamesInRow',\t'maxPointsInRow',\t'overheadStrokeErrors',\t'overheadWinners',\t'pointsTotal',\t'receiverPointsScored',\t'returnErrors',\t'returnWinners',\t'secondReturnPoints',\t'secondServeAccuracy',\t'secondServePointsAccuracy',\t'serviceGamesTotal',\t'serviceGamesWon',\t'servicePointsScored',\t'tiebreaks',\t'unforcedErrorsTotal',\t'volleyUnforcedErrors',\t'volleyWinners',\t'winnersTotal',\t'breakPointsSavedAttempted',\t'firstReturnPointsAttempted',\t'firstServeAccuracyAttempted',\t'firstServePointsAccuracyAttempted',\t'secondReturnPointsAttempted',\t'secondServeAccuracyAttempted',\t'secondServePointsAccuracyAttempted']\n"
   ],
   "metadata": {
    "collapsed": false,
    "ExecuteTime": {
     "end_time": "2024-10-03T11:45:04.821641200Z",
     "start_time": "2024-10-03T11:45:04.809126Z"
    }
   },
   "id": "49cf3123d6f3f011",
   "execution_count": 41
  },
  {
   "cell_type": "code",
   "execution_count": 42,
   "id": "initial_id",
   "metadata": {
    "collapsed": true,
    "ExecuteTime": {
     "end_time": "2024-10-03T11:45:36.503982400Z",
     "start_time": "2024-10-03T11:45:30.760769900Z"
    }
   },
   "outputs": [],
   "source": [
    "for col in match_stat_cols:\n",
    "    base_table[col] = pd.to_numeric(base_table[col])"
   ]
  },
  {
   "cell_type": "code",
   "outputs": [
    {
     "data": {
      "text/plain": "id                                      int32\ngroundType                             object\ntournament_name                        object\ntournament_category                    object\ntournament_points                     float64\n                                       ...   \nsecondReturnPointsAttempted           float64\nsecondServeAccuracyAttempted          float64\nsecondServePointsAccuracyAttempted    float64\npre_match_elo                         float64\npost_match_elo                        float64\nLength: 79, dtype: object"
     },
     "execution_count": 43,
     "metadata": {},
     "output_type": "execute_result"
    }
   ],
   "source": [
    "spine = base_table[['id','groundType','tournament_name','tournament_category','tournament_points','tournament_round_category','datetime','match_status']]"
   ],
   "metadata": {
    "collapsed": false,
    "ExecuteTime": {
     "end_time": "2024-10-03T11:45:36.510462900Z",
     "start_time": "2024-10-03T11:45:36.504981300Z"
    }
   },
   "id": "d258ec595f2a920f",
   "execution_count": 43
  },
  {
   "cell_type": "code",
   "outputs": [],
   "source": [],
   "metadata": {
    "collapsed": false
   },
   "id": "7d7b922012bee8fb"
  }
 ],
 "metadata": {
  "kernelspec": {
   "display_name": "Python 3",
   "language": "python",
   "name": "python3"
  },
  "language_info": {
   "codemirror_mode": {
    "name": "ipython",
    "version": 2
   },
   "file_extension": ".py",
   "mimetype": "text/x-python",
   "name": "python",
   "nbconvert_exporter": "python",
   "pygments_lexer": "ipython2",
   "version": "2.7.6"
  }
 },
 "nbformat": 4,
 "nbformat_minor": 5
}
