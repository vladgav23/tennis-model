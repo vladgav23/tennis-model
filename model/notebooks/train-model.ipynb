{
 "cells": [
  {
   "cell_type": "code",
   "outputs": [],
   "source": [
    "# Imports and settings\n",
    "import pandas as pd\n",
    "import duckdb\n",
    "import numpy as np\n",
    "import matplotlib.pyplot as plt\n",
    "import polars as pl\n",
    "import xgboost as xgb\n",
    "import random\n",
    "import os\n",
    "import shap\n",
    "\n",
    "from joblib import dump\n",
    "from datetime import datetime\n",
    "from pathlib import Path\n",
    "from sklearn.metrics import mean_squared_error\n",
    "from sklearn.model_selection import TimeSeriesSplit\n",
    "from sklearn.preprocessing import StandardScaler\n",
    "from sklearn.impute import SimpleImputer\n",
    "import lightgbm as lgb\n",
    "from catboost import CatBoostClassifier, Pool\n",
    "from sklearn.metrics import log_loss\n",
    "\n",
    "pd.set_option('display.float_format', '{:.6f}'.format)\n",
    "random_seed = 909\n",
    "random.seed(random_seed)\n",
    "np.random.seed(random_seed)"
   ],
   "metadata": {
    "collapsed": false,
    "ExecuteTime": {
     "end_time": "2024-10-03T23:08:11.741382900Z",
     "start_time": "2024-10-03T23:08:04.541995500Z"
    }
   },
   "id": "bd2788c4d04aab03",
   "execution_count": 1
  },
  {
   "cell_type": "code",
   "outputs": [],
   "source": [
    "# model_id = f'baseline_{datetime.now().strftime(\"%Y%m%d_%H%M%S\")}'\n",
    "# dirname = f\"outputs/{model_id}/\"\n",
    "# os.mkdir(dirname)"
   ],
   "metadata": {
    "collapsed": false
   },
   "id": "dd858ffff42e45ed"
  },
  {
   "cell_type": "code",
   "outputs": [],
   "source": [
    "con = duckdb.connect(\"E:/duckdb/tennis.duckdb\",read_only=True)\n",
    "base_table = con.execute(\"SELECT * FROM base_table\").df()\n",
    "con.close()"
   ],
   "metadata": {
    "collapsed": false,
    "ExecuteTime": {
     "end_time": "2024-10-04T02:26:42.690388700Z",
     "start_time": "2024-10-04T02:26:38.776339600Z"
    }
   },
   "id": "590838ee39c432c2",
   "execution_count": 29
  },
  {
   "cell_type": "code",
   "outputs": [],
   "source": [
    "target = 'winner_home'\n",
    "\n",
    "exclude_cols = ['matchup_indices', 'tournament_name', 'datetime','match_players','pp_ltp_home','pp_ltp_away']\n",
    "time_split_col = 'yyyymm'\n",
    "cat_cols = ['groundType','tournament_category','tournament_points','tournament_round_category']\n",
    "match_stat_cols = ['aces',\t'backhandErrors',\t'backhandUnforcedErrors',\t'backhandWinners',\t'breakPointsSaved',\t'breakPointsScored',\t'doubleFaults',\t'dropShotUnforcedErrors',\t'dropShotWinners',\t'errorsTotal',\t'firstReturnPoints',\t'firstServeAccuracy',\t'firstServePointsAccuracy',\t'forehandErrors',\t'forehandUnforcedErrors',\t'forehandWinners',\t'gamesWon',\t'groundstrokeErrors',\t'groundstrokeUnforcedErrors',\t'groundstrokeWinners',\t'lobUnforcedErrors',\t'lobWinners',\t'maxGamesInRow',\t'maxPointsInRow',\t'overheadStrokeErrors',\t'overheadWinners',\t'pointsTotal',\t'receiverPointsScored',\t'returnErrors',\t'returnWinners',\t'secondReturnPoints',\t'secondServeAccuracy',\t'secondServePointsAccuracy',\t'serviceGamesTotal',\t'serviceGamesWon',\t'servicePointsScored',\t'tiebreaks',\t'unforcedErrorsTotal',\t'volleyUnforcedErrors',\t'volleyWinners',\t'winnersTotal',\t'breakPointsSavedAttempted',\t'firstReturnPointsAttempted',\t'firstServeAccuracyAttempted',\t'firstServePointsAccuracyAttempted',\t'secondReturnPointsAttempted',\t'secondServeAccuracyAttempted',\t'secondServePointsAccuracyAttempted']\n",
    "\n",
    "for col in match_stat_cols:\n",
    "    base_table[col] = pd.to_numeric(base_table[col])"
   ],
   "metadata": {
    "collapsed": false,
    "ExecuteTime": {
     "end_time": "2024-10-04T04:43:59.740099600Z",
     "start_time": "2024-10-04T04:43:59.618211800Z"
    }
   },
   "id": "49cf3123d6f3f011",
   "execution_count": 139
  },
  {
   "cell_type": "code",
   "outputs": [],
   "source": [
    "## Data cleaning steps"
   ],
   "metadata": {
    "collapsed": false
   },
   "id": "560eb839a70828e8"
  },
  {
   "cell_type": "code",
   "execution_count": 31,
   "id": "initial_id",
   "metadata": {
    "collapsed": true,
    "ExecuteTime": {
     "end_time": "2024-10-04T02:26:53.637905300Z",
     "start_time": "2024-10-04T02:26:53.281868700Z"
    }
   },
   "outputs": [],
   "source": [
    "## Extra columns (pre-features)\n",
    "# Bo5 or Bo3 indicator\n",
    "# Number of games played, won (replace gamesWon), lost\n",
    "score_columns = ['score_period1', 'score_period2', 'score_period3', 'score_period4', 'score_period5']\n",
    "base_table['gamesWon'] = base_table[score_columns].sum(axis=1, skipna=True)\n",
    "base_table['gamesPlayed'] = base_table.groupby('id')['gamesWon'].transform('sum')\n",
    "base_table['gamesWonPct'] = base_table['gamesWon'] / base_table['gamesPlayed']\n",
    "# First serve pct (firstServeAccuracy / firstServeAccuracyAttempted)\n",
    "base_table['firstServePct'] = base_table['firstServeAccuracy'] / base_table['firstServeAccuracyAttempted']\n",
    "# First serve points won pct (firstServePointsAccuracy / firstServeAccuracy)\n",
    "base_table['firstServeWonPct'] = base_table['firstServePointsAccuracy'] / base_table['firstServeAccuracy']\n",
    "# Second serve pct (secondServeAccuracy / secondServeAccuracyAttempted)\n",
    "base_table['secondServePct'] = base_table['secondServeAccuracy'] / base_table['secondServeAccuracyAttempted']\n",
    "# Second serve points won pct (secondServePointsAccuracy / secondServeAccuracy)\n",
    "base_table['secondServeWonPct'] = base_table['secondServePointsAccuracy'] / base_table['secondServeAccuracy']\n",
    "# Break points saved pct (breakPointsSaved / breakPointsSavedAttempted)\n",
    "base_table['breakPointsSavedPct'] = base_table['breakPointsSaved'] / base_table['breakPointsSavedAttempted']\n",
    "# Break points won pct (breakPointsScored / (breakPointsSaved_opponent + breakPointsScored))\n",
    "# Assuming base_table is your DataFrame\n",
    "base_table['breakPointsWonPct'] = base_table['breakPointsSaved'] / base_table.groupby('id')['breakPointsSaved'].transform('sum')"
   ]
  },
  {
   "cell_type": "code",
   "outputs": [],
   "source": [
    "## Features (lagged pre-match)\n",
    "# Career W/L\n",
    "base_table = base_table.sort_values(['index', 'datetime'])\n",
    "base_table['career_wins'] = base_table.groupby('index')['winner'].transform(\n",
    "    lambda x: x.cumsum().shift(1).fillna(0)\n",
    ")\n",
    "base_table['career_matches'] = base_table.groupby('index').cumcount()\n",
    "base_table['career_wl_pct'] = base_table['career_wins'] / base_table['career_matches']\n",
    "# W/L on surface, tournament points, tournament category, tournament name\n",
    "base_table['career_wins_surface'] = base_table.groupby(['index','groundType'])['winner'].transform(\n",
    "    lambda x: x.cumsum().shift(1).fillna(0)\n",
    ")\n",
    "base_table['career_matches_surface'] = base_table.groupby(['index','groundType']).cumcount()\n",
    "base_table['career_wl_pct_surface'] = base_table['career_wins_surface'] / base_table['career_matches_surface']\n",
    "\n",
    "base_table['career_wins_tour_pts'] = base_table.groupby(['index','tournament_points'])['winner'].transform(\n",
    "    lambda x: x.cumsum().shift(1).fillna(0)\n",
    ")\n",
    "base_table['career_matches_tour_pts'] = base_table.groupby(['index','tournament_points']).cumcount()\n",
    "base_table['career_wl_pct_tour_pts'] = base_table['career_wins_tour_pts'] / base_table['career_matches_tour_pts']\n",
    "\n",
    "base_table['career_wins_tour_cat'] = base_table.groupby(['index','tournament_round_category'])['winner'].transform(\n",
    "    lambda x: x.cumsum().shift(1).fillna(0)\n",
    ")\n",
    "base_table['career_matches_tour_cat'] = base_table.groupby(['index','tournament_round_category']).cumcount()\n",
    "base_table['career_wl_pct_tour_cat'] = base_table['career_wins_tour_cat'] / base_table['career_matches_tour_cat']\n",
    "\n",
    "base_table['career_wins_tournament'] = base_table.groupby(['index','tournament_name'])['winner'].transform(\n",
    "    lambda x: x.cumsum().shift(1).fillna(0)\n",
    ")\n",
    "base_table['career_matches_tournament'] = base_table.groupby(['index','tournament_name']).cumcount()\n",
    "base_table['career_wl_pct_tournament'] = base_table['career_wins_tournament'] / base_table['career_matches_tournament']"
   ],
   "metadata": {
    "collapsed": false,
    "ExecuteTime": {
     "end_time": "2024-10-04T02:41:03.996600400Z",
     "start_time": "2024-10-04T02:38:37.891927200Z"
    }
   },
   "id": "e0912cc59c65f884",
   "execution_count": 40
  },
  {
   "cell_type": "code",
   "outputs": [],
   "source": [
    "# W/L vs opponent, on surface, tournament points, tournament category, tournament name\n",
    "base_table['matchup_indices'] = base_table.groupby('id')['index'].transform(lambda x: '|'.join(map(str, sorted(x))))\n",
    "base_table['h2h_opponent_wins'] = base_table.groupby(['index', 'matchup_indices'])['winner'].transform(\n",
    "    lambda x: x.cumsum().shift(1).fillna(0)\n",
    ")\n",
    "base_table['h2h_opponent_matches'] = base_table.groupby(['index', 'matchup_indices']).cumcount()\n",
    "base_table['h2h_opponent_win_pct'] = base_table['h2h_opponent_wins'] / base_table['h2h_opponent_matches']"
   ],
   "metadata": {
    "collapsed": false
   },
   "id": "63510aafea7ed012"
  },
  {
   "cell_type": "code",
   "outputs": [
    {
     "name": "stdout",
     "output_type": "stream",
     "text": [
      "1\n",
      "3\n",
      "5\n",
      "10\n"
     ]
    }
   ],
   "source": [
    "# W/L last 10, last 5\n",
    "for window in [1, 3, 5, 10]:\n",
    "    print(window)\n",
    "    base_table[f'last_{window}_wins'] = base_table.groupby('index')['winner'].transform(\n",
    "        lambda x: x.rolling(window=window, min_periods=1).sum().shift(1).fillna(0)\n",
    "    )\n",
    "    base_table[f'last_{window}_matches'] = base_table.groupby('index')['winner'].transform(\n",
    "        lambda x: x.rolling(window=window, min_periods=1).count().shift(1).fillna(0)\n",
    "    )\n",
    "    base_table[f'last_{window}_wl_pct'] = base_table[f'last_{window}_wins'] / base_table[f'last_{window}_matches']"
   ],
   "metadata": {
    "collapsed": false,
    "ExecuteTime": {
     "end_time": "2024-10-04T03:29:25.824867Z",
     "start_time": "2024-10-04T03:28:13.500822300Z"
    }
   },
   "id": "bb544712df2c2949",
   "execution_count": 49
  },
  {
   "cell_type": "code",
   "outputs": [],
   "source": [
    "## Normalization ideas \n",
    "# Feature normed by ELO bracket and tournament category (i.e. how is my WL streak vs other similar ELO players (within ATP/WTA))"
   ],
   "metadata": {
    "collapsed": false,
    "ExecuteTime": {
     "end_time": "2024-10-04T03:46:42.790251300Z",
     "start_time": "2024-10-04T03:46:42.783140700Z"
    }
   },
   "id": "e241c15a655fbac1",
   "execution_count": 64
  },
  {
   "cell_type": "code",
   "outputs": [],
   "source": [
    "# Match stats with good coverage\n",
    "# doubleFaults\n",
    "# firstReturnPoints\n",
    "# maxGamesInRow\n",
    "# maxPointsInRow\n",
    "# pointsTotal\n",
    "# receiverPointsScored\n",
    "# tiebreaks"
   ],
   "metadata": {
    "collapsed": false,
    "ExecuteTime": {
     "end_time": "2024-10-04T03:46:00.532300700Z",
     "start_time": "2024-10-04T03:46:00.522781300Z"
    }
   },
   "id": "7c60c7a18e17875b",
   "execution_count": 62
  },
  {
   "cell_type": "code",
   "outputs": [],
   "source": [
    "features_to_pivot = ['pre_match_elo',\n",
    "'career_wins',\n",
    "'career_matches',\n",
    "'career_wl_pct',\n",
    "'career_wins_surface',\n",
    "'career_matches_surface',\n",
    "'career_wl_pct_surface',\n",
    "'career_wins_tour_pts',\n",
    "'career_matches_tour_pts',\n",
    "'career_wl_pct_tour_pts',\n",
    "'career_wins_tour_cat',\n",
    "'career_matches_tour_cat',\n",
    "'career_wl_pct_tour_cat',\n",
    "'career_wins_tournament',\n",
    "'career_matches_tournament',\n",
    "'career_wl_pct_tournament',\n",
    "'h2h_opponent_wins',\n",
    "'h2h_opponent_matches',\n",
    "'h2h_opponent_win_pct',\n",
    "'last_1_wins',\n",
    "'last_1_matches',\n",
    "'last_1_wl_pct',\n",
    "'last_3_wins',\n",
    "'last_3_matches',\n",
    "'last_3_wl_pct',\n",
    "'last_5_wins',\n",
    "'last_5_matches',\n",
    "'last_5_wl_pct',\n",
    "'last_10_wins',\n",
    "'last_10_matches',\n",
    "'last_10_wl_pct',\n",
    "'winner',\n",
    "'clean_name','pp_ltp']\n",
    "\n",
    "match_cols = ['matchup_indices','tournament_name','datetime','groundType','tournament_category','tournament_points','tournament_round_category']\n",
    "\n",
    "home_df = base_table[base_table['position'] == 'home'].copy()\n",
    "away_df = base_table[base_table['position'] == 'away'].copy()\n",
    "\n",
    "# Step 2: Rename columns for home and away\n",
    "home_columns = {col: f'{col}_home' for col in features_to_pivot}\n",
    "away_columns = {col: f'{col}_away' for col in features_to_pivot}\n",
    "\n",
    "home_df = home_df.rename(columns=home_columns)\n",
    "away_df = away_df.rename(columns=away_columns)\n",
    "\n",
    "# Step 3: Set index for merging\n",
    "home_df.set_index('id', inplace=True)\n",
    "away_df.set_index('id', inplace=True)\n",
    "\n",
    "# Step 4: Merge home and away data\n",
    "merged_df = pd.merge(home_df[list(home_columns.values())], away_df[list(away_columns.values())], left_index=True, right_index=True)"
   ],
   "metadata": {
    "collapsed": false,
    "ExecuteTime": {
     "end_time": "2024-10-04T09:07:45.589106700Z",
     "start_time": "2024-10-04T09:07:39.795217100Z"
    }
   },
   "id": "144c734a6a1c0a70",
   "execution_count": 322
  },
  {
   "cell_type": "code",
   "outputs": [],
   "source": [
    "match_cols_df = base_table[['id'] + match_cols].drop_duplicates()\n",
    "match_cols_df.set_index('id',inplace=True)"
   ],
   "metadata": {
    "collapsed": false,
    "ExecuteTime": {
     "end_time": "2024-10-04T09:07:48.160526900Z",
     "start_time": "2024-10-04T09:07:45.541108100Z"
    }
   },
   "id": "b07d0593210d4e9a",
   "execution_count": 323
  },
  {
   "cell_type": "code",
   "outputs": [],
   "source": [
    "base_table_pivoted = merged_df.merge(match_cols_df, left_index=True, right_index=True)\n",
    "base_table_pivoted['match_players'] = base_table_pivoted['clean_name_home'] + ' v ' + base_table_pivoted['clean_name_away']\n",
    "base_table_pivoted.drop(columns=['winner_away','clean_name_home','clean_name_away'], inplace=True) # winner_home is the target"
   ],
   "metadata": {
    "collapsed": false,
    "ExecuteTime": {
     "end_time": "2024-10-04T09:07:49.642712900Z",
     "start_time": "2024-10-04T09:07:48.159526400Z"
    }
   },
   "id": "5d3f0d6dab0672c",
   "execution_count": 324
  },
  {
   "cell_type": "code",
   "outputs": [],
   "source": [
    "# TODO: Instead of using index as the grouping for features for missing mappings, use the player name"
   ],
   "metadata": {
    "collapsed": false,
    "ExecuteTime": {
     "end_time": "2024-10-04T09:07:49.650073500Z",
     "start_time": "2024-10-04T09:07:49.643713600Z"
    }
   },
   "id": "79f87aa80f4d08b9",
   "execution_count": 325
  },
  {
   "cell_type": "code",
   "outputs": [],
   "source": [
    "for col in [x for x in features_to_pivot if x not in ['winner','clean_name','pp_ltp']]:\n",
    "    if col == 'pre_match_elo':\n",
    "        base_table_pivoted[f'{col}_diff'] = base_table_pivoted[f'{col}_home'] - base_table_pivoted[f'{col}_away']\n",
    "    else:\n",
    "        base_table_pivoted[f'{col}_ha_ratio'] = base_table_pivoted[f'{col}_home'] / base_table_pivoted[f'{col}_away']"
   ],
   "metadata": {
    "collapsed": false,
    "ExecuteTime": {
     "end_time": "2024-10-04T09:07:49.740866500Z",
     "start_time": "2024-10-04T09:07:49.647075800Z"
    }
   },
   "id": "fa5f3748114bcd8f",
   "execution_count": 326
  },
  {
   "cell_type": "code",
   "outputs": [],
   "source": [
    "base_table_pivoted = base_table_pivoted.replace([np.inf, -np.inf], np.nan)"
   ],
   "metadata": {
    "collapsed": false,
    "ExecuteTime": {
     "end_time": "2024-10-04T09:07:52.510720300Z",
     "start_time": "2024-10-04T09:07:49.741866600Z"
    }
   },
   "id": "246c91ae001c0a3e",
   "execution_count": 327
  },
  {
   "cell_type": "code",
   "outputs": [],
   "source": [
    "base_table_pivoted['yyyymm'] = (base_table_pivoted['datetime'].dt.year * 100 + base_table_pivoted['datetime'].dt.month).astype(int)"
   ],
   "metadata": {
    "collapsed": false,
    "ExecuteTime": {
     "end_time": "2024-10-04T09:07:52.556109900Z",
     "start_time": "2024-10-04T09:07:52.509718800Z"
    }
   },
   "id": "adb7226ca296662d",
   "execution_count": 328
  },
  {
   "cell_type": "code",
   "outputs": [],
   "source": [
    "for col in cat_cols:\n",
    "    base_table_pivoted[col] = base_table_pivoted[col].astype('category')"
   ],
   "metadata": {
    "collapsed": false,
    "ExecuteTime": {
     "end_time": "2024-10-04T09:07:53.029726300Z",
     "start_time": "2024-10-04T09:07:52.556109900Z"
    }
   },
   "id": "49362afec9ffb731",
   "execution_count": 329
  },
  {
   "cell_type": "code",
   "outputs": [],
   "source": [
    "# TODO: Below doesn't improve model - try home/away unknown indicator instead\n",
    "# base_table_pivoted['unknown_player'] = base_table_pivoted['matchup_indices'].str.startswith('-1').astype(int)"
   ],
   "metadata": {
    "collapsed": false,
    "ExecuteTime": {
     "end_time": "2024-10-04T09:07:53.036847300Z",
     "start_time": "2024-10-04T09:07:53.028728400Z"
    }
   },
   "id": "855e307f0ded281b",
   "execution_count": 330
  },
  {
   "cell_type": "code",
   "outputs": [
    {
     "name": "stdout",
     "output_type": "stream",
     "text": [
      "Fold 1\n",
      "[0]\ttrain-logloss:0.68656\tval-logloss:0.68507\n",
      "[100]\ttrain-logloss:0.56368\tval-logloss:0.55172\n",
      "[200]\ttrain-logloss:0.55474\tval-logloss:0.54552\n",
      "[300]\ttrain-logloss:0.54982\tval-logloss:0.54363\n",
      "[400]\ttrain-logloss:0.54604\tval-logloss:0.54289\n",
      "[500]\ttrain-logloss:0.54318\tval-logloss:0.54247\n",
      "[600]\ttrain-logloss:0.54065\tval-logloss:0.54235\n",
      "[699]\ttrain-logloss:0.53829\tval-logloss:0.54213\n",
      "Fold: 202309 | ROI: -1.293% | ROI (Elo comparison only): 1.335% | Log Loss: 0.54213\n",
      "Fold 2\n",
      "[0]\ttrain-logloss:0.68656\tval-logloss:0.68578\n",
      "[100]\ttrain-logloss:0.56349\tval-logloss:0.54849\n",
      "[200]\ttrain-logloss:0.55463\tval-logloss:0.54186\n",
      "[300]\ttrain-logloss:0.54980\tval-logloss:0.54008\n",
      "[400]\ttrain-logloss:0.54627\tval-logloss:0.53938\n",
      "[500]\ttrain-logloss:0.54331\tval-logloss:0.53911\n",
      "[600]\ttrain-logloss:0.54066\tval-logloss:0.53878\n",
      "[699]\ttrain-logloss:0.53829\tval-logloss:0.53862\n",
      "Fold: 202310 | ROI: 6.293% | ROI (Elo comparison only): -2.960% | Log Loss: 0.53862\n",
      "Fold 3\n",
      "[0]\ttrain-logloss:0.68654\tval-logloss:0.68696\n",
      "[100]\ttrain-logloss:0.56333\tval-logloss:0.55022\n",
      "[200]\ttrain-logloss:0.55451\tval-logloss:0.54393\n",
      "[300]\ttrain-logloss:0.54971\tval-logloss:0.54195\n",
      "[400]\ttrain-logloss:0.54608\tval-logloss:0.54115\n",
      "[500]\ttrain-logloss:0.54312\tval-logloss:0.54067\n",
      "[600]\ttrain-logloss:0.54050\tval-logloss:0.54041\n",
      "[699]\ttrain-logloss:0.53822\tval-logloss:0.54031\n",
      "Fold: 202311 | ROI: 2.195% | ROI (Elo comparison only): 2.083% | Log Loss: 0.54031\n",
      "Fold 4\n",
      "[0]\ttrain-logloss:0.68655\tval-logloss:0.68467\n",
      "[100]\ttrain-logloss:0.56316\tval-logloss:0.52535\n",
      "[200]\ttrain-logloss:0.55433\tval-logloss:0.51687\n",
      "[300]\ttrain-logloss:0.54958\tval-logloss:0.51489\n",
      "[400]\ttrain-logloss:0.54595\tval-logloss:0.51401\n",
      "[500]\ttrain-logloss:0.54307\tval-logloss:0.51328\n",
      "[600]\ttrain-logloss:0.54055\tval-logloss:0.51295\n",
      "[699]\ttrain-logloss:0.53821\tval-logloss:0.51251\n",
      "Fold: 202312 | ROI: 11.094% | ROI (Elo comparison only): -7.160% | Log Loss: 0.51251\n",
      "Fold 5\n",
      "[0]\ttrain-logloss:0.68653\tval-logloss:0.68623\n",
      "[100]\ttrain-logloss:0.56297\tval-logloss:0.55735\n",
      "[200]\ttrain-logloss:0.55429\tval-logloss:0.55124\n",
      "[300]\ttrain-logloss:0.54945\tval-logloss:0.54925\n",
      "[400]\ttrain-logloss:0.54597\tval-logloss:0.54851\n",
      "[500]\ttrain-logloss:0.54300\tval-logloss:0.54809\n",
      "[600]\ttrain-logloss:0.54038\tval-logloss:0.54779\n",
      "[699]\ttrain-logloss:0.53806\tval-logloss:0.54752\n",
      "Fold: 202401 | ROI: 0.368% | ROI (Elo comparison only): -1.944% | Log Loss: 0.54752\n",
      "Fold 6\n",
      "[0]\ttrain-logloss:0.68652\tval-logloss:0.68715\n",
      "[100]\ttrain-logloss:0.56298\tval-logloss:0.55229\n",
      "[200]\ttrain-logloss:0.55418\tval-logloss:0.54629\n",
      "[300]\ttrain-logloss:0.54934\tval-logloss:0.54465\n",
      "[400]\ttrain-logloss:0.54586\tval-logloss:0.54408\n",
      "[500]\ttrain-logloss:0.54291\tval-logloss:0.54342\n",
      "[600]\ttrain-logloss:0.54036\tval-logloss:0.54351\n",
      "[699]\ttrain-logloss:0.53810\tval-logloss:0.54341\n",
      "Fold: 202402 | ROI: -0.842% | ROI (Elo comparison only): -0.319% | Log Loss: 0.54341\n",
      "Fold 7\n",
      "[0]\ttrain-logloss:0.68654\tval-logloss:0.68581\n",
      "[100]\ttrain-logloss:0.56284\tval-logloss:0.54144\n",
      "[200]\ttrain-logloss:0.55415\tval-logloss:0.53497\n",
      "[300]\ttrain-logloss:0.54937\tval-logloss:0.53334\n",
      "[400]\ttrain-logloss:0.54581\tval-logloss:0.53248\n",
      "[500]\ttrain-logloss:0.54283\tval-logloss:0.53213\n",
      "[600]\ttrain-logloss:0.54031\tval-logloss:0.53171\n",
      "[699]\ttrain-logloss:0.53804\tval-logloss:0.53161\n",
      "Fold: 202403 | ROI: -0.237% | ROI (Elo comparison only): 0.971% | Log Loss: 0.53161\n",
      "Fold 8\n",
      "[0]\ttrain-logloss:0.68652\tval-logloss:0.68645\n",
      "[100]\ttrain-logloss:0.56254\tval-logloss:0.54676\n",
      "[200]\ttrain-logloss:0.55382\tval-logloss:0.54058\n",
      "[300]\ttrain-logloss:0.54907\tval-logloss:0.53920\n",
      "[400]\ttrain-logloss:0.54560\tval-logloss:0.53852\n",
      "[500]\ttrain-logloss:0.54269\tval-logloss:0.53815\n",
      "[600]\ttrain-logloss:0.54023\tval-logloss:0.53788\n",
      "[699]\ttrain-logloss:0.53794\tval-logloss:0.53764\n",
      "Fold: 202404 | ROI: 1.274% | ROI (Elo comparison only): 0.220% | Log Loss: 0.53764\n",
      "Fold 9\n",
      "[0]\ttrain-logloss:0.68652\tval-logloss:0.68642\n",
      "[100]\ttrain-logloss:0.56239\tval-logloss:0.55043\n",
      "[200]\ttrain-logloss:0.55363\tval-logloss:0.54359\n",
      "[300]\ttrain-logloss:0.54896\tval-logloss:0.54159\n",
      "[400]\ttrain-logloss:0.54541\tval-logloss:0.54051\n",
      "[500]\ttrain-logloss:0.54257\tval-logloss:0.54028\n",
      "[600]\ttrain-logloss:0.54003\tval-logloss:0.54002\n",
      "[699]\ttrain-logloss:0.53776\tval-logloss:0.53992\n",
      "Fold: 202405 | ROI: -6.374% | ROI (Elo comparison only): -0.686% | Log Loss: 0.53992\n",
      "Fold 10\n",
      "[0]\ttrain-logloss:0.68653\tval-logloss:0.68578\n",
      "[100]\ttrain-logloss:0.56219\tval-logloss:0.55830\n",
      "[200]\ttrain-logloss:0.55356\tval-logloss:0.55411\n",
      "[300]\ttrain-logloss:0.54889\tval-logloss:0.55316\n",
      "[400]\ttrain-logloss:0.54536\tval-logloss:0.55260\n",
      "[500]\ttrain-logloss:0.54254\tval-logloss:0.55246\n",
      "[600]\ttrain-logloss:0.54015\tval-logloss:0.55242\n",
      "[699]\ttrain-logloss:0.53789\tval-logloss:0.55239\n",
      "Fold: 202406 | ROI: -0.415% | ROI (Elo comparison only): -1.312% | Log Loss: 0.55239\n",
      "Fold 11\n",
      "[0]\ttrain-logloss:0.68652\tval-logloss:0.68614\n",
      "[100]\ttrain-logloss:0.56216\tval-logloss:0.55498\n",
      "[200]\ttrain-logloss:0.55353\tval-logloss:0.54936\n",
      "[300]\ttrain-logloss:0.54896\tval-logloss:0.54760\n",
      "[400]\ttrain-logloss:0.54539\tval-logloss:0.54652\n",
      "[500]\ttrain-logloss:0.54256\tval-logloss:0.54598\n",
      "[600]\ttrain-logloss:0.54010\tval-logloss:0.54549\n",
      "[699]\ttrain-logloss:0.53792\tval-logloss:0.54533\n",
      "Fold: 202407 | ROI: -2.783% | ROI (Elo comparison only): -0.443% | Log Loss: 0.54533\n",
      "Fold 12\n",
      "[0]\ttrain-logloss:0.68652\tval-logloss:0.68460\n",
      "[100]\ttrain-logloss:0.56207\tval-logloss:0.54714\n",
      "[200]\ttrain-logloss:0.55349\tval-logloss:0.54128\n",
      "[300]\ttrain-logloss:0.54883\tval-logloss:0.53950\n",
      "[400]\ttrain-logloss:0.54538\tval-logloss:0.53870\n",
      "[500]\ttrain-logloss:0.54264\tval-logloss:0.53835\n",
      "[600]\ttrain-logloss:0.54015\tval-logloss:0.53803\n",
      "[699]\ttrain-logloss:0.53782\tval-logloss:0.53791\n",
      "Fold: 202408 | ROI: -1.944% | ROI (Elo comparison only): -2.692% | Log Loss: 0.53791\n"
     ]
    }
   ],
   "source": [
    "# Run model\n",
    "folds = base_table_pivoted.query('yyyymm < 202409').sort_values('datetime')['yyyymm'].unique()[-12:]\n",
    "\n",
    "df_train = base_table_pivoted.copy()\n",
    "feature_cols = [x for x in df_train.columns if x not in [target] + exclude_cols + [time_split_col]]\n",
    "\n",
    "# Prepare data\n",
    "X_train = df_train[feature_cols]\n",
    "y_train = df_train[target]\n",
    "seasons_train = df_train[time_split_col]  # Assuming 'season' is the column name for years\n",
    "\n",
    "# XGBoost parameters\n",
    "xgb_params = {\n",
    "    'objective': 'binary:logistic',\n",
    "    'eval_metric': 'logloss',\n",
    "    'device': 'cuda',\n",
    "    'tree_method': 'hist',\n",
    "    'seed': random_seed,\n",
    "    'eta': 0.025,\n",
    "    'max_depth': 7,\n",
    "    'subsample': 0.85,\n",
    "    'colsample_bylevel': 0.9,\n",
    "    'colsample_bytree': 0.8,\n",
    "    'gamma': 1.835341042518789,\n",
    "    'lambda': 7.009535557334815,\n",
    "    'alpha': 1.1975316744933502,\n",
    "}\n",
    "\n",
    "# Initialize models list and predictions array\n",
    "models = []\n",
    "fold_metrics = []\n",
    "validation_predictions = []\n",
    "\n",
    "# Existing code for all folds (2019-2023)\n",
    "for fold, val_fold in enumerate(folds, 1):\n",
    "    print(f\"Fold {fold}\")\n",
    "\n",
    "    # Split data\n",
    "    train_mask = seasons_train < val_fold\n",
    "    val_mask = seasons_train == val_fold\n",
    "\n",
    "    X_fold_train, y_fold_train = X_train[train_mask], y_train[train_mask]\n",
    "    X_val, y_val = X_train[val_mask], y_train[val_mask]\n",
    "\n",
    "    # Train XGBoost\n",
    "    dtrain = xgb.DMatrix(X_fold_train, label=y_fold_train, feature_names=feature_cols, enable_categorical=True)\n",
    "    dval = xgb.DMatrix(X_val, label=y_val, feature_names=feature_cols, enable_categorical=True)\n",
    "    xgb_model = xgb.train(xgb_params, dtrain, num_boost_round=700, evals=[(dtrain,'train'),(dval, 'val')], verbose_eval=100)\n",
    "    \n",
    "    xgb_pred = xgb_model.predict(dval)\n",
    "\n",
    "    df_val = df_train[val_mask].copy()\n",
    "    df_val['prediction'] = xgb_pred\n",
    "    betfair_only = df_val.query('~pp_ltp_home.isna() and ~pp_ltp_away.isna()').copy()\n",
    "    betfair_only['pred_price_home'] = 1 / betfair_only['prediction']\n",
    "    betfair_only['pred_price_away'] = 1 / (1 - betfair_only['prediction'])\n",
    "    \n",
    "    betfair_only['home_bet'] = (betfair_only['pred_price_home'] < betfair_only['pp_ltp_home']).astype(int)\n",
    "    betfair_only['away_bet'] = (betfair_only['pred_price_away'] < betfair_only['pp_ltp_away']).astype(int)\n",
    "    betfair_only['profit'] = 0.0\n",
    "    betfair_only.loc[(betfair_only['home_bet'] == 1) & (betfair_only['winner_home'] == 1), 'profit'] = 10.0 * (\n",
    "                betfair_only['pp_ltp_home'] - 1.0)\n",
    "    betfair_only.loc[(betfair_only['away_bet'] == 1) & (betfair_only['winner_home'] == 1), 'profit'] = -10.0\n",
    "    betfair_only.loc[(betfair_only['home_bet'] == 1) & (betfair_only['winner_home'] == 0), 'profit'] = -10.0\n",
    "    betfair_only.loc[(betfair_only['away_bet'] == 1) & (betfair_only['winner_home'] == 0), 'profit'] = 10.0 * (\n",
    "                betfair_only['pp_ltp_away'] - 1.0)\n",
    "    roi = betfair_only['profit'].sum() / (len(betfair_only) * 10)\n",
    "    log_loss_fold = log_loss(df_val['winner_home'],df_val['prediction'])\n",
    "    \n",
    "    betfair_only['home_bet_elo'] = 0\n",
    "    betfair_only.loc[betfair_only['pre_match_elo_home'] > betfair_only['pre_match_elo_away'], 'home_bet_elo'] = 1\n",
    "    betfair_only['away_bet_elo'] = 0\n",
    "    betfair_only.loc[betfair_only['pre_match_elo_home'] < betfair_only['pre_match_elo_away'], 'away_bet_elo'] = 1\n",
    "    \n",
    "    betfair_only['profit_elo'] = 0.0\n",
    "    betfair_only.loc[\n",
    "        (betfair_only['home_bet_elo'] == 1) & (betfair_only['winner_home'] == 1), 'profit_elo'] = 10.0 * (\n",
    "            betfair_only['pp_ltp_home'] - 1.0)\n",
    "    betfair_only.loc[\n",
    "        (betfair_only['away_bet_elo'] == 1) & (betfair_only['winner_home'] == 1), 'profit_elo'] = -10.0\n",
    "    betfair_only.loc[\n",
    "        (betfair_only['home_bet_elo'] == 1) & (betfair_only['winner_home'] == 0), 'profit_elo'] = -10.0\n",
    "    betfair_only.loc[\n",
    "        (betfair_only['away_bet_elo'] == 1) & (betfair_only['winner_home'] == 0), 'profit_elo'] = 10.0 * (\n",
    "            betfair_only['pp_ltp_away'] - 1.0)\n",
    "    roi_elo = betfair_only['profit_elo'].sum() / (len(betfair_only) * 10)\n",
    "    \n",
    "    models.append({\n",
    "        'fold': val_fold,\n",
    "        'model': xgb_model\n",
    "    })\n",
    "    \n",
    "    fold_metrics.append({\n",
    "        'fold': val_fold,\n",
    "        'roi': roi,\n",
    "        'roi_elo': roi_elo,\n",
    "        'log_loss': log_loss_fold\n",
    "    })\n",
    "    \n",
    "    validation_predictions.append({\n",
    "        'val': df_val,\n",
    "        'bf_only': betfair_only\n",
    "    })\n",
    "    \n",
    "    print(f\"Fold: {str(val_fold)} | ROI: {(roi*100):.3f}% | ROI (Elo comparison only): {(roi_elo*100):.3f}% | Log Loss: {log_loss_fold:.5f}\")"
   ],
   "metadata": {
    "collapsed": false,
    "ExecuteTime": {
     "end_time": "2024-10-04T09:12:25.598193700Z",
     "start_time": "2024-10-04T09:07:53.038843200Z"
    }
   },
   "id": "cef0bf76427c8a40",
   "execution_count": 331
  },
  {
   "cell_type": "code",
   "outputs": [
    {
     "name": "stdout",
     "output_type": "stream",
     "text": [
      "Out-of-fold ROI: -0.324% | Elo comparison only ROI: -0.686% | Log Loss (BF only): 0.60365 | Log Loss: 0.54052\n"
     ]
    }
   ],
   "source": [
    "all_validation_bf = pd.concat([x['bf_only'] for x in validation_predictions])\n",
    "all_validation = pd.concat([x['val'] for x in validation_predictions])\n",
    "all_val_roi = all_validation_bf['profit'].sum() / (len(all_validation_bf) * 10)\n",
    "all_val_roi_elo = all_validation_bf['profit_elo'].sum() / (len(all_validation_bf) * 10)\n",
    "\n",
    "all_val_log_loss_bf = log_loss(all_validation_bf['winner_home'], all_validation_bf['prediction'])\n",
    "all_val_log_loss = log_loss(all_validation['winner_home'], all_validation['prediction'])\n",
    "\n",
    "print(f'Out-of-fold ROI: {(all_val_roi*100):.3f}% | Elo comparison only ROI: {(all_val_roi_elo*100):.3f}% | Log Loss (BF only): {all_val_log_loss_bf:.5f} | Log Loss: {all_val_log_loss:.5f}')"
   ],
   "metadata": {
    "collapsed": false,
    "ExecuteTime": {
     "end_time": "2024-10-04T09:12:25.679169Z",
     "start_time": "2024-10-04T09:12:25.599193500Z"
    }
   },
   "id": "b48782702445eaa",
   "execution_count": 332
  },
  {
   "cell_type": "code",
   "outputs": [
    {
     "name": "stdout",
     "output_type": "stream",
     "text": [
      "Fold: 202309 | ROI: -1.293% | ROI (Elo comparison only): 1.335% | Log Loss: 0.54213\n",
      "Fold: 202310 | ROI: 6.293% | ROI (Elo comparison only): -2.960% | Log Loss: 0.53862\n",
      "Fold: 202311 | ROI: 2.195% | ROI (Elo comparison only): 2.083% | Log Loss: 0.54031\n",
      "Fold: 202312 | ROI: 11.094% | ROI (Elo comparison only): -7.160% | Log Loss: 0.51251\n",
      "Fold: 202401 | ROI: 0.368% | ROI (Elo comparison only): -1.944% | Log Loss: 0.54752\n",
      "Fold: 202402 | ROI: -0.842% | ROI (Elo comparison only): -0.319% | Log Loss: 0.54341\n",
      "Fold: 202403 | ROI: -0.237% | ROI (Elo comparison only): 0.971% | Log Loss: 0.53161\n",
      "Fold: 202404 | ROI: 1.274% | ROI (Elo comparison only): 0.220% | Log Loss: 0.53764\n",
      "Fold: 202405 | ROI: -6.374% | ROI (Elo comparison only): -0.686% | Log Loss: 0.53992\n",
      "Fold: 202406 | ROI: -0.415% | ROI (Elo comparison only): -1.312% | Log Loss: 0.55239\n",
      "Fold: 202407 | ROI: -2.783% | ROI (Elo comparison only): -0.443% | Log Loss: 0.54533\n",
      "Fold: 202408 | ROI: -1.944% | ROI (Elo comparison only): -2.692% | Log Loss: 0.53791\n"
     ]
    }
   ],
   "source": [
    "for fm in fold_metrics:\n",
    "    print(f\"Fold: {str(fm['fold'])} | ROI: {(fm['roi']*100):.3f}% | ROI (Elo comparison only): {(fm['roi_elo']*100):.3f}% | Log Loss: {fm['log_loss']:.5f}\")"
   ],
   "metadata": {
    "collapsed": false,
    "ExecuteTime": {
     "end_time": "2024-10-04T09:12:25.680171900Z",
     "start_time": "2024-10-04T09:12:25.671348500Z"
    }
   },
   "id": "8fce230a5169a17a",
   "execution_count": 333
  },
  {
   "cell_type": "code",
   "outputs": [
    {
     "data": {
      "text/plain": "<Figure size 1200x1000 with 1 Axes>",
      "image/png": "[encoded data removed]"
     },
     "metadata": {},
     "output_type": "display_data"
    }
   ],
   "source": [
    "import numpy as np\n",
    "import matplotlib.pyplot as plt\n",
    "\n",
    "# Calculate feature importance for each model\n",
    "feature_importance_list = []\n",
    "for model_info in models:\n",
    "    xgb_model = model_info['model']\n",
    "    feature_importance = xgb_model.get_score(importance_type='gain')\n",
    "    feature_importance_list.append(feature_importance)\n",
    "\n",
    "# Calculate average feature importance across all models\n",
    "avg_feature_importance = {}\n",
    "for feature in feature_cols:\n",
    "    avg_feature_importance[feature] = np.mean([fold_importance.get(feature, 0) for fold_importance in feature_importance_list])\n",
    "\n",
    "# Sort features by importance\n",
    "sorted_features = sorted(avg_feature_importance.items(), key=lambda x: x[1], reverse=True)\n",
    "\n",
    "# Create a horizontal bar chart of feature importance\n",
    "plt.figure(figsize=(12, 10))\n",
    "features, importance = zip(*sorted_features[:30])  # Get top 20 features\n",
    "y_pos = np.arange(len(features))\n",
    "\n",
    "plt.barh(y_pos, importance)\n",
    "plt.yticks(y_pos, features)\n",
    "plt.xlabel('Average Importance (Gain)')\n",
    "plt.title('Top 30 Feature Importance Across All Folds')\n",
    "plt.gca().invert_yaxis()  # Invert y-axis to show most important feature at the top\n",
    "plt.tight_layout()\n",
    "plt.show()"
   ],
   "metadata": {
    "collapsed": false,
    "ExecuteTime": {
     "end_time": "2024-10-04T09:12:25.919508700Z",
     "start_time": "2024-10-04T09:12:25.675170800Z"
    }
   },
   "id": "2a597c01a79ec1f0",
   "execution_count": 334
  },
  {
   "cell_type": "code",
   "outputs": [],
   "source": [],
   "metadata": {
    "collapsed": false
   },
   "id": "64fd5b10b17e55f5"
  }
 ],
 "metadata": {
  "kernelspec": {
   "display_name": "Python 3",
   "language": "python",
   "name": "python3"
  },
  "language_info": {
   "codemirror_mode": {
    "name": "ipython",
    "version": 2
   },
   "file_extension": ".py",
   "mimetype": "text/x-python",
   "name": "python",
   "nbconvert_exporter": "python",
   "pygments_lexer": "ipython2",
   "version": "2.7.6"
  }
 },
 "nbformat": 4,
 "nbformat_minor": 5
}
