{
 "cells": [
  {
   "cell_type": "code",
   "execution_count": 1,
   "id": "initial_id",
   "metadata": {
    "collapsed": true,
    "ExecuteTime": {
     "end_time": "2024-10-03T07:03:09.063279400Z",
     "start_time": "2024-10-03T07:03:08.536654600Z"
    }
   },
   "outputs": [],
   "source": [
    "import duckdb\n",
    "import pandas as pd\n",
    "import numpy as np\n",
    "import re\n",
    "import unidecode\n",
    "import numpy as np\n",
    "from rapidfuzz import fuzz\n",
    "from tqdm import tqdm\n",
    "\n",
    "def process_name(name, words_to_reverse, slug=True, first_name_initial=None):\n",
    "    name = name.lower()\n",
    "    name = unidecode.unidecode(name)\n",
    "    name = re.sub('-', ' ', name)\n",
    "    name = re.sub(r'[^a-z\\s]', '', name)\n",
    "    \n",
    "    words = name.split()\n",
    "    \n",
    "    if words_to_reverse > 0:\n",
    "        if len(words) > words_to_reverse:\n",
    "            words = words[words_to_reverse:] + words[0:words_to_reverse]\n",
    "            if first_name_initial:\n",
    "                words[0] = words[0][0]\n",
    "        \n",
    "    if slug:\n",
    "        name = '-'.join(words)\n",
    "    else:\n",
    "        name = ' '.join(words)\n",
    "        \n",
    "    return name"
   ]
  },
  {
   "cell_type": "code",
   "outputs": [
    {
     "data": {
      "text/plain": "FloatProgress(value=0.0, layout=Layout(width='auto'), style=ProgressStyle(bar_color='black'))",
      "application/vnd.jupyter.widget-view+json": {
       "version_major": 2,
       "version_minor": 0,
       "model_id": "2f46568aa3c5451a9a59cb623891cf64"
      }
     },
     "metadata": {},
     "output_type": "display_data"
    }
   ],
   "source": [
    "con = duckdb.connect(\"E:/duckdb/tennis.duckdb\", read_only=True)\n",
    "tennis_markets = con.execute(\"\"\"\n",
    "SELECT *\n",
    "\n",
    "FROM competition_mappings c\n",
    "INNER JOIN market_summaries m\n",
    "ON c.market_id = m.market_id\n",
    "\"\"\").df()\n",
    "\n",
    "sofascore_events = con.execute(\"\"\"\n",
    "                               SELECT * \n",
    "                               FROM sofascore_events \n",
    "                               WHERE tournament_category IN ('ATP','WTA','Challenger','ITF Men','ITF Women')\n",
    "                               AND match_status IN ('Ended','Retired', 'Walkover', 'Defaulted', 'Player 2 defaulted, player 1 won')\n",
    "                               AND winnerCode IN (1,2)\n",
    "                               \"\"\").df()\n",
    "\n",
    "match_stats_raw = con.execute(\"\"\"\n",
    "    SELECT match_id, key, home, away\n",
    "    FROM sofascore_match_stats\n",
    "    WHERE period = 'ALL'\n",
    "\"\"\").df()\n",
    "\n",
    "con.close()\n",
    "\n",
    "excluded_selection_names = pd.read_csv('../mappings/excluded_selection_names.csv', header=None)[0].tolist()"
   ],
   "metadata": {
    "collapsed": false,
    "ExecuteTime": {
     "end_time": "2024-10-03T07:03:15.269009300Z",
     "start_time": "2024-10-03T07:03:09.686798Z"
    }
   },
   "id": "ab984600f5b8fd2b",
   "execution_count": 2
  },
  {
   "cell_type": "code",
   "outputs": [],
   "source": [
    "# Preprocessing\n",
    "# TODO: Functionalise\n",
    "tennis_markets = tennis_markets[~tennis_markets['selection_name'].str.contains(\"/\")]\n",
    "tennis_markets = tennis_markets[~tennis_markets['selection_name'].isin(excluded_selection_names)]\n",
    "tennis_markets['bf_name'] = [process_name(x, 0, False) for x in tennis_markets['selection_name']]\n",
    "tennis_markets['FORMATTED_DATE'] = pd.to_datetime(tennis_markets['FORMATTED_DATE'])\n",
    "betfair_names = tennis_markets[['bf_name']].drop_duplicates()\n",
    "sofascore_events = sofascore_events[~sofascore_events['home_team'].str.contains('/')]\n",
    "sofascore_events = sofascore_events[~sofascore_events['away_team'].str.contains('/')]\n",
    "sofascore_events = sofascore_events[sofascore_events['match_status'] != 'Not started']\n",
    "sofascore_events['event_fetch_date'] = pd.to_datetime(sofascore_events['event_fetch_date'])\n",
    "sofascore_events['home_clean_name'] = [process_name(x, 1, False) for x in sofascore_events['home_team_slug']]\n",
    "sofascore_events['away_clean_name'] = [process_name(x, 1, False) for x in sofascore_events['away_team_slug']]\n",
    "sofascore_events['id'] = sofascore_events['id'].astype(int)\n",
    "sofascore_events.loc[sofascore_events['match_status'] == 'Player 2 defaulted, player 1 won', 'match_status'] = 'Defaulted'"
   ],
   "metadata": {
    "collapsed": false,
    "ExecuteTime": {
     "end_time": "2024-10-03T07:03:22.220258400Z",
     "start_time": "2024-10-03T07:03:16.274929800Z"
    }
   },
   "id": "fbe9d22b9e269350",
   "execution_count": 3
  },
  {
   "cell_type": "code",
   "outputs": [],
   "source": [
    "sofascore_events['home_winner'] = 0\n",
    "sofascore_events.loc[sofascore_events['winnerCode'] == 1,'home_winner'] = 1\n",
    "sofascore_events['away_winner'] = 0\n",
    "sofascore_events.loc[sofascore_events['winnerCode'] == 2,'away_winner'] = 1"
   ],
   "metadata": {
    "collapsed": false,
    "ExecuteTime": {
     "end_time": "2024-10-03T07:03:22.232566600Z",
     "start_time": "2024-10-03T07:03:22.221260700Z"
    }
   },
   "id": "c8ccb8da0c6b4bd1",
   "execution_count": 4
  },
  {
   "cell_type": "code",
   "outputs": [],
   "source": [
    "# Define the mapping dictionary\n",
    "category_mapping = {\n",
    "    'Qualification': ['Qualification', 'Qualification round', 'Qualification round 1', \n",
    "                      'Qualification round 2', 'Qualification Final'],\n",
    "    'Late Stages': ['Final', 'Semifinals', 'Quarterfinals', 'Match for 3rd place'],\n",
    "    'Middle Stages': ['Round of 32', 'Round of 16', '1/16-finals (R32)', '1/8-finals (R16)'],\n",
    "    'Early Stages': ['Round of 64', 'Round of 128', '1/32-finals (R64)', '1/64-finals (R128)', 'R128']\n",
    "}\n",
    "\n",
    "# Create a flat dictionary for efficient mapping\n",
    "flat_mapping = {round_name: category \n",
    "                for category, rounds in category_mapping.items() \n",
    "                for round_name in rounds}\n",
    "\n",
    "# Apply the categorization efficiently\n",
    "sofascore_events['tournament_round_category'] = sofascore_events['tournament_round'].map(flat_mapping).fillna('Other')"
   ],
   "metadata": {
    "collapsed": false,
    "ExecuteTime": {
     "end_time": "2024-10-03T07:03:22.298674300Z",
     "start_time": "2024-10-03T07:03:22.230568500Z"
    }
   },
   "id": "d4ed05a8b0184546",
   "execution_count": 5
  },
  {
   "cell_type": "code",
   "outputs": [],
   "source": [
    "# These are to be updated to improve coverage / accuracy\n",
    "player_name_mapping = pd.read_csv('../mappings/player_name_mapping.csv')\n",
    "market_match_mapping = pd.read_csv('../mappings/market_match_mapping.csv')\n",
    "market_match_mapping['market_id'] = market_match_mapping['market_id'].astype(str).str.pad(9, fillchar='0', side='right')"
   ],
   "metadata": {
    "collapsed": false,
    "ExecuteTime": {
     "end_time": "2024-10-03T07:03:22.479343600Z",
     "start_time": "2024-10-03T07:03:22.299675600Z"
    }
   },
   "id": "d3a3a865ae18b4af",
   "execution_count": 6
  },
  {
   "cell_type": "code",
   "outputs": [],
   "source": [
    "sofascore_columns = ['id', 'groundType', 'tournament_name', 'tournament_category', 'tournament_points', 'tournament_round_category', 'home_winner', 'away_winner', \n",
    "                     'home_score_period1', 'home_score_period2','home_score_period3', 'home_score_period4','home_score_period5',\n",
    "                     'away_score_period1', 'away_score_period2','away_score_period3', 'away_score_period4','away_score_period5',\n",
    "                     'datetime', 'home_clean_name', 'away_clean_name', 'match_status']\n",
    "sofascore_events_base = sofascore_events[sofascore_columns].copy()"
   ],
   "metadata": {
    "collapsed": false,
    "ExecuteTime": {
     "end_time": "2024-10-03T07:03:22.779356900Z",
     "start_time": "2024-10-03T07:03:22.479343600Z"
    }
   },
   "id": "622e84759b7926d5",
   "execution_count": 7
  },
  {
   "cell_type": "code",
   "outputs": [],
   "source": [
    "# Define the columns to pivot\n",
    "home_columns = [col for col in sofascore_events_base.columns if col.startswith('home_')]\n",
    "away_columns = [col for col in sofascore_events_base.columns if col.startswith('away_')]\n",
    "common_columns = [col for col in sofascore_events_base.columns if not col.startswith('home_') and not col.startswith('away_')]\n",
    "home_df = sofascore_events_base[common_columns + home_columns].copy()\n",
    "home_df['position'] = 'home'\n",
    "home_df.columns = [col.replace('home_', '') if col.startswith('home_') else col for col in home_df.columns]\n",
    "away_df = sofascore_events_base[common_columns + away_columns].copy()\n",
    "away_df['position'] = 'away'\n",
    "away_df.columns = [col.replace('away_', '') if col.startswith('away_') else col for col in away_df.columns]"
   ],
   "metadata": {
    "collapsed": false,
    "ExecuteTime": {
     "end_time": "2024-10-03T07:03:23.198966900Z",
     "start_time": "2024-10-03T07:03:22.778355500Z"
    }
   },
   "id": "bfdb0e3f2b265d93",
   "execution_count": 8
  },
  {
   "cell_type": "code",
   "outputs": [],
   "source": [
    "sofascore_events_base_unpiv = pd.concat([home_df, away_df], ignore_index=True)\n",
    "sofascore_events_base_unpiv = sofascore_events_base_unpiv.sort_values(['id', 'position'])\n",
    "sofascore_events_base_unpiv = sofascore_events_base_unpiv.reset_index(drop=True)\n",
    "sofascore_events_base_unpiv = sofascore_events_base_unpiv.merge(player_name_mapping, left_on='clean_name', right_on='name', how='left').drop(columns='name')\n",
    "sofascore_events_base_unpiv.loc[sofascore_events_base_unpiv['index'].isna(),'index'] = -1\n",
    "sofascore_events_base_unpiv['index'] = sofascore_events_base_unpiv['index'].astype(int)"
   ],
   "metadata": {
    "collapsed": false,
    "ExecuteTime": {
     "end_time": "2024-10-03T07:03:24.690575800Z",
     "start_time": "2024-10-03T07:03:23.198966900Z"
    }
   },
   "id": "525c207244b9bdd3",
   "execution_count": 9
  },
  {
   "cell_type": "code",
   "outputs": [],
   "source": [
    "# sofascore_events_base_unpiv.query('index == -1')['clean_name'].unique()"
   ],
   "metadata": {
    "collapsed": false,
    "ExecuteTime": {
     "end_time": "2024-10-03T07:03:24.703591600Z",
     "start_time": "2024-10-03T07:03:24.689577100Z"
    }
   },
   "id": "2e798d9132f6d4b9",
   "execution_count": 10
  },
  {
   "cell_type": "code",
   "outputs": [],
   "source": [
    "bf_matched_tennis_markets = tennis_markets.merge(market_match_mapping, on='market_id').query(\"result != 'REMOVED'\")\n",
    "# Start with your provided line\n",
    "summed_volumes = bf_matched_tennis_markets.groupby(['market_id','id'])['pp_volume'].sum().reset_index()\n",
    "# Now, select the rows with maximum pp_volume for each market_id\n",
    "max_market_vols = summed_volumes.loc[summed_volumes.groupby('id')['pp_volume'].idxmax()]\n",
    "\n",
    "bf_matched_tennis_markets = bf_matched_tennis_markets.merge(max_market_vols[['market_id','id']], on=['market_id','id'])\n",
    "bf_matched_tennis_markets = bf_matched_tennis_markets.merge(player_name_mapping, left_on='bf_name', right_on='name').drop(columns='name')\n",
    "bf_matched_tennis_markets_base = bf_matched_tennis_markets[['index', 'id', 'market_id','result', 'pp_min','pp_max','pp_wap','pp_ltp','pp_volume', 'ip_min','ip_max', 'ip_wap', 'ip_ltp', 'ip_volume']].copy()"
   ],
   "metadata": {
    "collapsed": false,
    "ExecuteTime": {
     "end_time": "2024-10-03T07:03:25.941852800Z",
     "start_time": "2024-10-03T07:03:24.694592Z"
    }
   },
   "id": "31d53d05a29004e0",
   "execution_count": 11
  },
  {
   "cell_type": "code",
   "outputs": [
    {
     "data": {
      "text/plain": "key      match_id  team aces backhandErrors backhandUnforcedErrors  \\\n0        10000150  away    4            NaN                    NaN   \n1        10000150  home    1            NaN                    NaN   \n2        10000152  away    0            NaN                    NaN   \n3        10000152  home    2            NaN                    NaN   \n4        10000176  away    3            NaN                    NaN   \n...           ...   ...  ...            ...                    ...   \n1313563   9999955  home    1            NaN                    NaN   \n1313564   9999956  away    1            NaN                    NaN   \n1313565   9999956  home    2            NaN                    NaN   \n1313566   9999957  away    2            NaN                    NaN   \n1313567   9999957  home    0            NaN                    NaN   \n\nkey     backhandWinners breakPointsSaved breakPointsScored doubleFaults  \\\n0                   NaN       6/6 (100%)                 3            5   \n1                   NaN        2/5 (40%)                 0            2   \n2                   NaN        1/7 (14%)                 2            5   \n3                   NaN        3/5 (60%)                 6            1   \n4                   NaN         0/0 (0%)                 4            1   \n...                 ...              ...               ...          ...   \n1313563             NaN        4/6 (66%)                 5            0   \n1313564             NaN       6/10 (60%)                 0            1   \n1313565             NaN         0/0 (0%)                 4            1   \n1313566             NaN        3/9 (33%)                 7            6   \n1313567             NaN       3/10 (30%)                 6            5   \n\nkey     dropShotUnforcedErrors  ... secondServeAccuracy  \\\n0                          NaN  ...         16/21 (76%)   \n1                          NaN  ...         19/21 (90%)   \n2                          NaN  ...         20/25 (80%)   \n3                          NaN  ...         14/15 (93%)   \n4                          NaN  ...         18/19 (95%)   \n...                        ...  ...                 ...   \n1313563                    NaN  ...        15/15 (100%)   \n1313564                    NaN  ...          9/10 (90%)   \n1313565                    NaN  ...           8/9 (89%)   \n1313566                    NaN  ...         22/28 (79%)   \n1313567                    NaN  ...         25/30 (83%)   \n\nkey     secondServePointsAccuracy serviceGamesTotal serviceGamesWon  \\\n0                     10/21 (48%)                 9               9   \n1                     13/21 (62%)                 9               6   \n2                      7/25 (28%)                 9               3   \n3                     10/15 (67%)                 8               6   \n4                     14/19 (74%)                 8               8   \n...                           ...               ...             ...   \n1313563                8/15 (53%)                 9               7   \n1313564                3/10 (30%)                 7               3   \n1313565                 7/9 (78%)                 8               8   \n1313566               11/28 (39%)                14               8   \n1313567               13/30 (43%)                15               8   \n\nkey     servicePointsScored tiebreaks unforcedErrorsTotal  \\\n0                        36         0                 NaN   \n1                        29         0                 NaN   \n2                        20         0                 NaN   \n3                        28         0                 NaN   \n4                        32         0                 NaN   \n...                     ...       ...                 ...   \n1313563                  37         0                 NaN   \n1313564                  23         0                 NaN   \n1313565                  33         0                 NaN   \n1313566                  42         0                 NaN   \n1313567                  44         0                 NaN   \n\nkey     volleyUnforcedErrors volleyWinners winnersTotal  \n0                        NaN           NaN          NaN  \n1                        NaN           NaN          NaN  \n2                        NaN           NaN          NaN  \n3                        NaN           NaN          NaN  \n4                        NaN           NaN          NaN  \n...                      ...           ...          ...  \n1313563                  NaN           NaN          NaN  \n1313564                  NaN           NaN          NaN  \n1313565                  NaN           NaN          NaN  \n1313566                  NaN           NaN          NaN  \n1313567                  NaN           NaN          NaN  \n\n[1313568 rows x 43 columns]",
      "text/html": "<div>\n<style scoped>\n    .dataframe tbody tr th:only-of-type {\n        vertical-align: middle;\n    }\n\n    .dataframe tbody tr th {\n        vertical-align: top;\n    }\n\n    .dataframe thead th {\n        text-align: right;\n    }\n</style>\n<table border=\"1\" class=\"dataframe\">\n  <thead>\n    <tr style=\"text-align: right;\">\n      <th>key</th>\n      <th>match_id</th>\n      <th>team</th>\n      <th>aces</th>\n      <th>backhandErrors</th>\n      <th>backhandUnforcedErrors</th>\n      <th>backhandWinners</th>\n      <th>breakPointsSaved</th>\n      <th>breakPointsScored</th>\n      <th>doubleFaults</th>\n      <th>dropShotUnforcedErrors</th>\n      <th>...</th>\n      <th>secondServeAccuracy</th>\n      <th>secondServePointsAccuracy</th>\n      <th>serviceGamesTotal</th>\n      <th>serviceGamesWon</th>\n      <th>servicePointsScored</th>\n      <th>tiebreaks</th>\n      <th>unforcedErrorsTotal</th>\n      <th>volleyUnforcedErrors</th>\n      <th>volleyWinners</th>\n      <th>winnersTotal</th>\n    </tr>\n  </thead>\n  <tbody>\n    <tr>\n      <th>0</th>\n      <td>10000150</td>\n      <td>away</td>\n      <td>4</td>\n      <td>NaN</td>\n      <td>NaN</td>\n      <td>NaN</td>\n      <td>6/6 (100%)</td>\n      <td>3</td>\n      <td>5</td>\n      <td>NaN</td>\n      <td>...</td>\n      <td>16/21 (76%)</td>\n      <td>10/21 (48%)</td>\n      <td>9</td>\n      <td>9</td>\n      <td>36</td>\n      <td>0</td>\n      <td>NaN</td>\n      <td>NaN</td>\n      <td>NaN</td>\n      <td>NaN</td>\n    </tr>\n    <tr>\n      <th>1</th>\n      <td>10000150</td>\n      <td>home</td>\n      <td>1</td>\n      <td>NaN</td>\n      <td>NaN</td>\n      <td>NaN</td>\n      <td>2/5 (40%)</td>\n      <td>0</td>\n      <td>2</td>\n      <td>NaN</td>\n      <td>...</td>\n      <td>19/21 (90%)</td>\n      <td>13/21 (62%)</td>\n      <td>9</td>\n      <td>6</td>\n      <td>29</td>\n      <td>0</td>\n      <td>NaN</td>\n      <td>NaN</td>\n      <td>NaN</td>\n      <td>NaN</td>\n    </tr>\n    <tr>\n      <th>2</th>\n      <td>10000152</td>\n      <td>away</td>\n      <td>0</td>\n      <td>NaN</td>\n      <td>NaN</td>\n      <td>NaN</td>\n      <td>1/7 (14%)</td>\n      <td>2</td>\n      <td>5</td>\n      <td>NaN</td>\n      <td>...</td>\n      <td>20/25 (80%)</td>\n      <td>7/25 (28%)</td>\n      <td>9</td>\n      <td>3</td>\n      <td>20</td>\n      <td>0</td>\n      <td>NaN</td>\n      <td>NaN</td>\n      <td>NaN</td>\n      <td>NaN</td>\n    </tr>\n    <tr>\n      <th>3</th>\n      <td>10000152</td>\n      <td>home</td>\n      <td>2</td>\n      <td>NaN</td>\n      <td>NaN</td>\n      <td>NaN</td>\n      <td>3/5 (60%)</td>\n      <td>6</td>\n      <td>1</td>\n      <td>NaN</td>\n      <td>...</td>\n      <td>14/15 (93%)</td>\n      <td>10/15 (67%)</td>\n      <td>8</td>\n      <td>6</td>\n      <td>28</td>\n      <td>0</td>\n      <td>NaN</td>\n      <td>NaN</td>\n      <td>NaN</td>\n      <td>NaN</td>\n    </tr>\n    <tr>\n      <th>4</th>\n      <td>10000176</td>\n      <td>away</td>\n      <td>3</td>\n      <td>NaN</td>\n      <td>NaN</td>\n      <td>NaN</td>\n      <td>0/0 (0%)</td>\n      <td>4</td>\n      <td>1</td>\n      <td>NaN</td>\n      <td>...</td>\n      <td>18/19 (95%)</td>\n      <td>14/19 (74%)</td>\n      <td>8</td>\n      <td>8</td>\n      <td>32</td>\n      <td>0</td>\n      <td>NaN</td>\n      <td>NaN</td>\n      <td>NaN</td>\n      <td>NaN</td>\n    </tr>\n    <tr>\n      <th>...</th>\n      <td>...</td>\n      <td>...</td>\n      <td>...</td>\n      <td>...</td>\n      <td>...</td>\n      <td>...</td>\n      <td>...</td>\n      <td>...</td>\n      <td>...</td>\n      <td>...</td>\n      <td>...</td>\n      <td>...</td>\n      <td>...</td>\n      <td>...</td>\n      <td>...</td>\n      <td>...</td>\n      <td>...</td>\n      <td>...</td>\n      <td>...</td>\n      <td>...</td>\n      <td>...</td>\n    </tr>\n    <tr>\n      <th>1313563</th>\n      <td>9999955</td>\n      <td>home</td>\n      <td>1</td>\n      <td>NaN</td>\n      <td>NaN</td>\n      <td>NaN</td>\n      <td>4/6 (66%)</td>\n      <td>5</td>\n      <td>0</td>\n      <td>NaN</td>\n      <td>...</td>\n      <td>15/15 (100%)</td>\n      <td>8/15 (53%)</td>\n      <td>9</td>\n      <td>7</td>\n      <td>37</td>\n      <td>0</td>\n      <td>NaN</td>\n      <td>NaN</td>\n      <td>NaN</td>\n      <td>NaN</td>\n    </tr>\n    <tr>\n      <th>1313564</th>\n      <td>9999956</td>\n      <td>away</td>\n      <td>1</td>\n      <td>NaN</td>\n      <td>NaN</td>\n      <td>NaN</td>\n      <td>6/10 (60%)</td>\n      <td>0</td>\n      <td>1</td>\n      <td>NaN</td>\n      <td>...</td>\n      <td>9/10 (90%)</td>\n      <td>3/10 (30%)</td>\n      <td>7</td>\n      <td>3</td>\n      <td>23</td>\n      <td>0</td>\n      <td>NaN</td>\n      <td>NaN</td>\n      <td>NaN</td>\n      <td>NaN</td>\n    </tr>\n    <tr>\n      <th>1313565</th>\n      <td>9999956</td>\n      <td>home</td>\n      <td>2</td>\n      <td>NaN</td>\n      <td>NaN</td>\n      <td>NaN</td>\n      <td>0/0 (0%)</td>\n      <td>4</td>\n      <td>1</td>\n      <td>NaN</td>\n      <td>...</td>\n      <td>8/9 (89%)</td>\n      <td>7/9 (78%)</td>\n      <td>8</td>\n      <td>8</td>\n      <td>33</td>\n      <td>0</td>\n      <td>NaN</td>\n      <td>NaN</td>\n      <td>NaN</td>\n      <td>NaN</td>\n    </tr>\n    <tr>\n      <th>1313566</th>\n      <td>9999957</td>\n      <td>away</td>\n      <td>2</td>\n      <td>NaN</td>\n      <td>NaN</td>\n      <td>NaN</td>\n      <td>3/9 (33%)</td>\n      <td>7</td>\n      <td>6</td>\n      <td>NaN</td>\n      <td>...</td>\n      <td>22/28 (79%)</td>\n      <td>11/28 (39%)</td>\n      <td>14</td>\n      <td>8</td>\n      <td>42</td>\n      <td>0</td>\n      <td>NaN</td>\n      <td>NaN</td>\n      <td>NaN</td>\n      <td>NaN</td>\n    </tr>\n    <tr>\n      <th>1313567</th>\n      <td>9999957</td>\n      <td>home</td>\n      <td>0</td>\n      <td>NaN</td>\n      <td>NaN</td>\n      <td>NaN</td>\n      <td>3/10 (30%)</td>\n      <td>6</td>\n      <td>5</td>\n      <td>NaN</td>\n      <td>...</td>\n      <td>25/30 (83%)</td>\n      <td>13/30 (43%)</td>\n      <td>15</td>\n      <td>8</td>\n      <td>44</td>\n      <td>0</td>\n      <td>NaN</td>\n      <td>NaN</td>\n      <td>NaN</td>\n      <td>NaN</td>\n    </tr>\n  </tbody>\n</table>\n<p>1313568 rows × 43 columns</p>\n</div>"
     },
     "execution_count": 13,
     "metadata": {},
     "output_type": "execute_result"
    }
   ],
   "source": [
    "# Melt the dataframe to create separate rows for home and away\n",
    "match_stats = pd.melt(match_stats_raw, id_vars=['match_id', 'key'],\n",
    "                           value_vars=['home', 'away'],\n",
    "                           var_name='team', value_name='value')\n",
    "# Pivot the data\n",
    "match_stats = match_stats.pivot_table(values='value',\n",
    "                                                index=['match_id', 'team'],\n",
    "                                                columns='key', aggfunc='first')\n",
    "\n",
    "# Reset index to make match_id, period, and team regular columns\n",
    "match_stats.reset_index(inplace=True)\n",
    "match_stats['match_id'] = match_stats['match_id'].astype(int)"
   ],
   "metadata": {
    "collapsed": false,
    "ExecuteTime": {
     "end_time": "2024-10-03T07:03:59.259005700Z",
     "start_time": "2024-10-03T07:03:38.364111900Z"
    }
   },
   "id": "9024aad19913c8",
   "execution_count": 13
  },
  {
   "cell_type": "code",
   "outputs": [],
   "source": [
    "base_table = sofascore_events_base_unpiv.merge(bf_matched_tennis_markets_base, on=['index','id'],how='left')\n",
    "base_table = base_table.merge(match_stats, left_on=['id','position'], right_on=['match_id', 'team'],how='left')\n",
    "base_table.drop(columns=['match_id','team'],inplace=True)"
   ],
   "metadata": {
    "collapsed": false,
    "ExecuteTime": {
     "end_time": "2024-10-03T10:42:51.357238800Z",
     "start_time": "2024-10-03T10:42:46.359141700Z"
    }
   },
   "id": "f1a8290f1fc66302",
   "execution_count": 50
  },
  {
   "cell_type": "code",
   "outputs": [],
   "source": [
    "# Function to safely split the string\n",
    "def safe_split(x):\n",
    "    parts = str(x).split('/', 1)\n",
    "    return parts + [np.nan] * (2 - len(parts))\n",
    "\n",
    "for col in ['breakPointsSaved','firstReturnPoints','firstServeAccuracy','firstServePointsAccuracy','secondReturnPoints','secondServeAccuracy','secondServePointsAccuracy']:\n",
    "    # Apply the safe split function\n",
    "    base_table[[f'{col}', f'{col}Attempted']] = base_table[col].apply(safe_split).tolist()\n",
    "    \n",
    "    # Clean up the 'backhandWinners_attempted' column\n",
    "    base_table[f'{col}Attempted'] = base_table[f'{col}Attempted'].str.split().str[0]\n",
    "    \n",
    "    # Convert to numeric, coercing errors to NaN\n",
    "    base_table[f'{col}'] = pd.to_numeric(base_table[f'{col}'], errors='coerce')\n",
    "    base_table[f'{col}Attempted'] = pd.to_numeric(base_table[f'{col}Attempted'], errors='coerce')"
   ],
   "metadata": {
    "collapsed": false,
    "ExecuteTime": {
     "end_time": "2024-10-03T10:43:39.894773900Z",
     "start_time": "2024-10-03T10:43:03.309818700Z"
    }
   },
   "id": "71a0f671f93f487f",
   "execution_count": 51
  },
  {
   "cell_type": "code",
   "outputs": [
    {
     "name": "stderr",
     "output_type": "stream",
     "text": [
      "100%|██████████| 799397/799397 [02:45<00:00, 4839.39it/s]\n"
     ]
    }
   ],
   "source": [
    "def calculate_elo(df, k_factor=32, initial_rating=1500):\n",
    "    # Ensure the dataframe is sorted by datetime and then by id\n",
    "    df = df.sort_values(['datetime', 'id']).reset_index(drop=True)\n",
    "    \n",
    "    # Initialize player ratings dictionary\n",
    "    player_ratings = {}\n",
    "    \n",
    "    # Initialize lists to store ELO history\n",
    "    pre_match_elo = []\n",
    "    post_match_elo = []\n",
    "    \n",
    "    # Process matches in pairs\n",
    "    for _, match in tqdm(df.groupby('id')):\n",
    "        if len(match) != 2:\n",
    "            raise ValueError(f\"Match {match['id'].iloc[0]} does not have exactly 2 players\")\n",
    "        \n",
    "        player1, player2 = match['index'].values\n",
    "        winner = match.loc[match['winner'] == 1, 'index'].values[0]\n",
    "        \n",
    "        # Get current ratings (or initial rating if first match)\n",
    "        rating1 = player_ratings.get(player1, initial_rating)\n",
    "        rating2 = player_ratings.get(player2, initial_rating)\n",
    "        \n",
    "        # Store pre-match ratings\n",
    "        pre_match_elo.extend([rating1, rating2])\n",
    "        \n",
    "        # Calculate expected scores\n",
    "        expected_score1 = 1 / (1 + 10 ** ((rating2 - rating1) / 400))\n",
    "        expected_score2 = 1 - expected_score1\n",
    "        \n",
    "        # Calculate new ratings\n",
    "        if winner == player1:\n",
    "            new_rating1 = rating1 + k_factor * (1 - expected_score1)\n",
    "            new_rating2 = rating2 + k_factor * (0 - expected_score2)\n",
    "        else:\n",
    "            new_rating1 = rating1 + k_factor * (0 - expected_score1)\n",
    "            new_rating2 = rating2 + k_factor * (1 - expected_score2)\n",
    "        \n",
    "        # Update player ratings\n",
    "        player_ratings[player1] = new_rating1\n",
    "        player_ratings[player2] = new_rating2\n",
    "        \n",
    "        # Store post-match ratings\n",
    "        post_match_elo.extend([new_rating1, new_rating2])\n",
    "    \n",
    "    return pre_match_elo, post_match_elo\n",
    "\n",
    "# If the results look good, you can calculate for the full dataset\n",
    "base_table['pre_match_elo'], base_table['post_match_elo'] = calculate_elo(base_table)"
   ],
   "metadata": {
    "collapsed": false,
    "ExecuteTime": {
     "end_time": "2024-10-03T11:26:44.730265600Z",
     "start_time": "2024-10-03T11:23:49.977474Z"
    }
   },
   "id": "9a9ed9b3f40edd1c",
   "execution_count": 65
  },
  {
   "cell_type": "code",
   "outputs": [
    {
     "data": {
      "text/plain": "FloatProgress(value=0.0, layout=Layout(width='auto'), style=ProgressStyle(bar_color='black'))",
      "application/vnd.jupyter.widget-view+json": {
       "version_major": 2,
       "version_minor": 0,
       "model_id": "7ca5aa39a1eb46aa9a31aa1adda400fe"
      }
     },
     "metadata": {},
     "output_type": "display_data"
    }
   ],
   "source": [
    "con = duckdb.connect(\"E:/duckdb/tennis.duckdb\")\n",
    "con.execute(\"DROP TABLE base_table\")\n",
    "con.execute(\"CREATE TABLE base_table AS SELECT * FROM base_table\")\n",
    "con.close()"
   ],
   "metadata": {
    "collapsed": false,
    "ExecuteTime": {
     "end_time": "2024-10-03T11:30:37.145854700Z",
     "start_time": "2024-10-03T11:30:30.186565200Z"
    }
   },
   "id": "2acc3fd2d95cfe99",
   "execution_count": 69
  },
  {
   "cell_type": "code",
   "outputs": [],
   "source": [],
   "metadata": {
    "collapsed": false
   },
   "id": "c32234ee42eebc34"
  }
 ],
 "metadata": {
  "kernelspec": {
   "display_name": "Python 3",
   "language": "python",
   "name": "python3"
  },
  "language_info": {
   "codemirror_mode": {
    "name": "ipython",
    "version": 2
   },
   "file_extension": ".py",
   "mimetype": "text/x-python",
   "name": "python",
   "nbconvert_exporter": "python",
   "pygments_lexer": "ipython2",
   "version": "2.7.6"
  }
 },
 "nbformat": 4,
 "nbformat_minor": 5
}
